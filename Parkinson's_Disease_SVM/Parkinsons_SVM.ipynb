{
 "cells": [
  {
   "cell_type": "code",
   "execution_count": 1,
   "id": "63c8dc11",
   "metadata": {},
   "outputs": [],
   "source": [
    "import numpy as np\n",
    "import pandas as pd\n",
    "from sklearn.model_selection import train_test_split,RandomizedSearchCV, GridSearchCV\n",
    "from sklearn.preprocessing import StandardScaler\n",
    "from sklearn import svm\n",
    "from scipy.stats import uniform, randint\n",
    "from sklearn.metrics import accuracy_score, precision_score, recall_score, f1_score, roc_auc_score, confusion_matrix"
   ]
  },
  {
   "cell_type": "code",
   "execution_count": 2,
   "id": "441d803d",
   "metadata": {},
   "outputs": [],
   "source": [
    "parkinsons_data = pd.read_csv('parkinsons.csv')"
   ]
  },
  {
   "cell_type": "code",
   "execution_count": 3,
   "id": "e9051121",
   "metadata": {},
   "outputs": [
    {
     "data": {
      "text/html": [
       "<div>\n",
       "<style scoped>\n",
       "    .dataframe tbody tr th:only-of-type {\n",
       "        vertical-align: middle;\n",
       "    }\n",
       "\n",
       "    .dataframe tbody tr th {\n",
       "        vertical-align: top;\n",
       "    }\n",
       "\n",
       "    .dataframe thead th {\n",
       "        text-align: right;\n",
       "    }\n",
       "</style>\n",
       "<table border=\"1\" class=\"dataframe\">\n",
       "  <thead>\n",
       "    <tr style=\"text-align: right;\">\n",
       "      <th></th>\n",
       "      <th>name</th>\n",
       "      <th>MDVP:Fo(Hz)</th>\n",
       "      <th>MDVP:Fhi(Hz)</th>\n",
       "      <th>MDVP:Flo(Hz)</th>\n",
       "      <th>MDVP:Jitter(%)</th>\n",
       "      <th>MDVP:Jitter(Abs)</th>\n",
       "      <th>MDVP:RAP</th>\n",
       "      <th>MDVP:PPQ</th>\n",
       "      <th>Jitter:DDP</th>\n",
       "      <th>MDVP:Shimmer</th>\n",
       "      <th>...</th>\n",
       "      <th>Shimmer:DDA</th>\n",
       "      <th>NHR</th>\n",
       "      <th>HNR</th>\n",
       "      <th>status</th>\n",
       "      <th>RPDE</th>\n",
       "      <th>DFA</th>\n",
       "      <th>spread1</th>\n",
       "      <th>spread2</th>\n",
       "      <th>D2</th>\n",
       "      <th>PPE</th>\n",
       "    </tr>\n",
       "  </thead>\n",
       "  <tbody>\n",
       "    <tr>\n",
       "      <th>0</th>\n",
       "      <td>phon_R01_S01_1</td>\n",
       "      <td>119.992</td>\n",
       "      <td>157.302</td>\n",
       "      <td>74.997</td>\n",
       "      <td>0.00784</td>\n",
       "      <td>0.00007</td>\n",
       "      <td>0.00370</td>\n",
       "      <td>0.00554</td>\n",
       "      <td>0.01109</td>\n",
       "      <td>0.04374</td>\n",
       "      <td>...</td>\n",
       "      <td>0.06545</td>\n",
       "      <td>0.02211</td>\n",
       "      <td>21.033</td>\n",
       "      <td>1</td>\n",
       "      <td>0.414783</td>\n",
       "      <td>0.815285</td>\n",
       "      <td>-4.813031</td>\n",
       "      <td>0.266482</td>\n",
       "      <td>2.301442</td>\n",
       "      <td>0.284654</td>\n",
       "    </tr>\n",
       "    <tr>\n",
       "      <th>1</th>\n",
       "      <td>phon_R01_S01_2</td>\n",
       "      <td>122.400</td>\n",
       "      <td>148.650</td>\n",
       "      <td>113.819</td>\n",
       "      <td>0.00968</td>\n",
       "      <td>0.00008</td>\n",
       "      <td>0.00465</td>\n",
       "      <td>0.00696</td>\n",
       "      <td>0.01394</td>\n",
       "      <td>0.06134</td>\n",
       "      <td>...</td>\n",
       "      <td>0.09403</td>\n",
       "      <td>0.01929</td>\n",
       "      <td>19.085</td>\n",
       "      <td>1</td>\n",
       "      <td>0.458359</td>\n",
       "      <td>0.819521</td>\n",
       "      <td>-4.075192</td>\n",
       "      <td>0.335590</td>\n",
       "      <td>2.486855</td>\n",
       "      <td>0.368674</td>\n",
       "    </tr>\n",
       "    <tr>\n",
       "      <th>2</th>\n",
       "      <td>phon_R01_S01_3</td>\n",
       "      <td>116.682</td>\n",
       "      <td>131.111</td>\n",
       "      <td>111.555</td>\n",
       "      <td>0.01050</td>\n",
       "      <td>0.00009</td>\n",
       "      <td>0.00544</td>\n",
       "      <td>0.00781</td>\n",
       "      <td>0.01633</td>\n",
       "      <td>0.05233</td>\n",
       "      <td>...</td>\n",
       "      <td>0.08270</td>\n",
       "      <td>0.01309</td>\n",
       "      <td>20.651</td>\n",
       "      <td>1</td>\n",
       "      <td>0.429895</td>\n",
       "      <td>0.825288</td>\n",
       "      <td>-4.443179</td>\n",
       "      <td>0.311173</td>\n",
       "      <td>2.342259</td>\n",
       "      <td>0.332634</td>\n",
       "    </tr>\n",
       "    <tr>\n",
       "      <th>3</th>\n",
       "      <td>phon_R01_S01_4</td>\n",
       "      <td>116.676</td>\n",
       "      <td>137.871</td>\n",
       "      <td>111.366</td>\n",
       "      <td>0.00997</td>\n",
       "      <td>0.00009</td>\n",
       "      <td>0.00502</td>\n",
       "      <td>0.00698</td>\n",
       "      <td>0.01505</td>\n",
       "      <td>0.05492</td>\n",
       "      <td>...</td>\n",
       "      <td>0.08771</td>\n",
       "      <td>0.01353</td>\n",
       "      <td>20.644</td>\n",
       "      <td>1</td>\n",
       "      <td>0.434969</td>\n",
       "      <td>0.819235</td>\n",
       "      <td>-4.117501</td>\n",
       "      <td>0.334147</td>\n",
       "      <td>2.405554</td>\n",
       "      <td>0.368975</td>\n",
       "    </tr>\n",
       "    <tr>\n",
       "      <th>4</th>\n",
       "      <td>phon_R01_S01_5</td>\n",
       "      <td>116.014</td>\n",
       "      <td>141.781</td>\n",
       "      <td>110.655</td>\n",
       "      <td>0.01284</td>\n",
       "      <td>0.00011</td>\n",
       "      <td>0.00655</td>\n",
       "      <td>0.00908</td>\n",
       "      <td>0.01966</td>\n",
       "      <td>0.06425</td>\n",
       "      <td>...</td>\n",
       "      <td>0.10470</td>\n",
       "      <td>0.01767</td>\n",
       "      <td>19.649</td>\n",
       "      <td>1</td>\n",
       "      <td>0.417356</td>\n",
       "      <td>0.823484</td>\n",
       "      <td>-3.747787</td>\n",
       "      <td>0.234513</td>\n",
       "      <td>2.332180</td>\n",
       "      <td>0.410335</td>\n",
       "    </tr>\n",
       "  </tbody>\n",
       "</table>\n",
       "<p>5 rows × 24 columns</p>\n",
       "</div>"
      ],
      "text/plain": [
       "             name  MDVP:Fo(Hz)  MDVP:Fhi(Hz)  MDVP:Flo(Hz)  MDVP:Jitter(%)  \\\n",
       "0  phon_R01_S01_1      119.992       157.302        74.997         0.00784   \n",
       "1  phon_R01_S01_2      122.400       148.650       113.819         0.00968   \n",
       "2  phon_R01_S01_3      116.682       131.111       111.555         0.01050   \n",
       "3  phon_R01_S01_4      116.676       137.871       111.366         0.00997   \n",
       "4  phon_R01_S01_5      116.014       141.781       110.655         0.01284   \n",
       "\n",
       "   MDVP:Jitter(Abs)  MDVP:RAP  MDVP:PPQ  Jitter:DDP  MDVP:Shimmer  ...  \\\n",
       "0           0.00007   0.00370   0.00554     0.01109       0.04374  ...   \n",
       "1           0.00008   0.00465   0.00696     0.01394       0.06134  ...   \n",
       "2           0.00009   0.00544   0.00781     0.01633       0.05233  ...   \n",
       "3           0.00009   0.00502   0.00698     0.01505       0.05492  ...   \n",
       "4           0.00011   0.00655   0.00908     0.01966       0.06425  ...   \n",
       "\n",
       "   Shimmer:DDA      NHR     HNR  status      RPDE       DFA   spread1  \\\n",
       "0      0.06545  0.02211  21.033       1  0.414783  0.815285 -4.813031   \n",
       "1      0.09403  0.01929  19.085       1  0.458359  0.819521 -4.075192   \n",
       "2      0.08270  0.01309  20.651       1  0.429895  0.825288 -4.443179   \n",
       "3      0.08771  0.01353  20.644       1  0.434969  0.819235 -4.117501   \n",
       "4      0.10470  0.01767  19.649       1  0.417356  0.823484 -3.747787   \n",
       "\n",
       "    spread2        D2       PPE  \n",
       "0  0.266482  2.301442  0.284654  \n",
       "1  0.335590  2.486855  0.368674  \n",
       "2  0.311173  2.342259  0.332634  \n",
       "3  0.334147  2.405554  0.368975  \n",
       "4  0.234513  2.332180  0.410335  \n",
       "\n",
       "[5 rows x 24 columns]"
      ]
     },
     "execution_count": 3,
     "metadata": {},
     "output_type": "execute_result"
    }
   ],
   "source": [
    "parkinsons_data.head()"
   ]
  },
  {
   "cell_type": "code",
   "execution_count": 4,
   "id": "fe59537e",
   "metadata": {},
   "outputs": [
    {
     "data": {
      "text/plain": [
       "(195, 24)"
      ]
     },
     "execution_count": 4,
     "metadata": {},
     "output_type": "execute_result"
    }
   ],
   "source": [
    "parkinsons_data.shape"
   ]
  },
  {
   "cell_type": "code",
   "execution_count": 5,
   "id": "4bf0d739",
   "metadata": {},
   "outputs": [
    {
     "data": {
      "text/plain": [
       "1    147\n",
       "0     48\n",
       "Name: status, dtype: int64"
      ]
     },
     "execution_count": 5,
     "metadata": {},
     "output_type": "execute_result"
    }
   ],
   "source": [
    "parkinsons_data['status'].value_counts()"
   ]
  },
  {
   "cell_type": "code",
   "execution_count": 6,
   "id": "0b4d88d4",
   "metadata": {},
   "outputs": [
    {
     "data": {
      "text/plain": [
       "name                0\n",
       "MDVP:Fo(Hz)         0\n",
       "MDVP:Fhi(Hz)        0\n",
       "MDVP:Flo(Hz)        0\n",
       "MDVP:Jitter(%)      0\n",
       "MDVP:Jitter(Abs)    0\n",
       "MDVP:RAP            0\n",
       "MDVP:PPQ            0\n",
       "Jitter:DDP          0\n",
       "MDVP:Shimmer        0\n",
       "MDVP:Shimmer(dB)    0\n",
       "Shimmer:APQ3        0\n",
       "Shimmer:APQ5        0\n",
       "MDVP:APQ            0\n",
       "Shimmer:DDA         0\n",
       "NHR                 0\n",
       "HNR                 0\n",
       "status              0\n",
       "RPDE                0\n",
       "DFA                 0\n",
       "spread1             0\n",
       "spread2             0\n",
       "D2                  0\n",
       "PPE                 0\n",
       "dtype: int64"
      ]
     },
     "execution_count": 6,
     "metadata": {},
     "output_type": "execute_result"
    }
   ],
   "source": [
    "parkinsons_data.isna().sum()"
   ]
  },
  {
   "cell_type": "markdown",
   "id": "ae94b461",
   "metadata": {},
   "source": [
    "##### Split data into feautures and labels"
   ]
  },
  {
   "cell_type": "code",
   "execution_count": 7,
   "id": "b9181b5d",
   "metadata": {},
   "outputs": [],
   "source": [
    "X = parkinsons_data.drop(columns = ['status','name'])\n",
    "Y = parkinsons_data['status']"
   ]
  },
  {
   "cell_type": "markdown",
   "id": "a44b7344",
   "metadata": {},
   "source": [
    "##### Standardize the data"
   ]
  },
  {
   "cell_type": "code",
   "execution_count": 8,
   "id": "83b0514a",
   "metadata": {},
   "outputs": [
    {
     "name": "stdout",
     "output_type": "stream",
     "text": [
      "[[-0.82929965 -0.43616456 -0.95203729 ...  0.48047686 -0.21053082\n",
      "   0.86888575]\n",
      " [-0.77097169 -0.53097409 -0.05772056 ...  1.31118546  0.27507712\n",
      "   1.80360503]\n",
      " [-0.90947638 -0.7231683  -0.10987483 ...  1.01768236 -0.10362861\n",
      "   1.40266141]\n",
      " ...\n",
      " [ 0.49557839  0.47010361 -0.96839309 ... -0.81807931  0.78033848\n",
      "  -0.83241014]\n",
      " [ 1.07876114  2.19004398 -0.95417967 ... -0.22906571 -0.63700298\n",
      "  -0.92610456]\n",
      " [ 1.45481664  0.69224632 -0.88348115 ... -0.43085284  0.45480231\n",
      "  -0.64505466]] 0      1\n",
      "1      1\n",
      "2      1\n",
      "3      1\n",
      "4      1\n",
      "      ..\n",
      "190    0\n",
      "191    0\n",
      "192    0\n",
      "193    0\n",
      "194    0\n",
      "Name: status, Length: 195, dtype: int64\n"
     ]
    }
   ],
   "source": [
    "scaler = StandardScaler()\n",
    "scaler.fit(X)\n",
    "standardized_data = scaler.transform(X)\n",
    "X = standardized_data\n",
    "Y = parkinsons_data['status']\n",
    "print(X,Y)"
   ]
  },
  {
   "cell_type": "markdown",
   "id": "29e7932e",
   "metadata": {},
   "source": [
    "##### Train test split"
   ]
  },
  {
   "cell_type": "code",
   "execution_count": 9,
   "id": "8a320711",
   "metadata": {},
   "outputs": [],
   "source": [
    "X_train, X_test, Y_train, Y_test = train_test_split(X,Y, test_size = .2, stratify = Y)"
   ]
  },
  {
   "cell_type": "code",
   "execution_count": 10,
   "id": "64181300",
   "metadata": {},
   "outputs": [
    {
     "name": "stdout",
     "output_type": "stream",
     "text": [
      "(195, 22) (156, 22) (39, 22)\n"
     ]
    }
   ],
   "source": [
    "print(X.shape, X_train.shape, X_test.shape)"
   ]
  },
  {
   "cell_type": "markdown",
   "id": "da7f395f",
   "metadata": {},
   "source": [
    "###### Hyperparameter tuned models"
   ]
  },
  {
   "cell_type": "code",
   "execution_count": 11,
   "id": "7f3c5098",
   "metadata": {},
   "outputs": [
    {
     "name": "stderr",
     "output_type": "stream",
     "text": [
      "C:\\Users\\Zooby\\anaconda3\\lib\\site-packages\\sklearn\\model_selection\\_search.py:292: UserWarning: The total space of parameters 20 is smaller than n_iter=30. Running 20 iterations. For exhaustive searches, use GridSearchCV.\n",
      "  warnings.warn(\n",
      "C:\\Users\\Zooby\\anaconda3\\lib\\site-packages\\sklearn\\model_selection\\_search.py:292: UserWarning: The total space of parameters 18 is smaller than n_iter=30. Running 18 iterations. For exhaustive searches, use GridSearchCV.\n",
      "  warnings.warn(\n"
     ]
    },
    {
     "name": "stdout",
     "output_type": "stream",
     "text": [
      "Logistic Regression Best Parameters (Fine Search): {'C': 10, 'penalty': 'l1', 'solver': 'liblinear'}\n",
      "XGBoost Best Parameters (Fine Search): {'colsample_bytree': 0.8, 'learning_rate': 0.1, 'max_depth': 7, 'min_child_weight': 1, 'n_estimators': 200, 'subsample': 0.8}\n",
      "SVM Best Parameters (Fine Search): {'C': 10, 'gamma': 0.1, 'kernel': 'rbf'}\n",
      "Best Model Train Accuracy (Fine Search): 1.0\n",
      "Best Model Test Accuracy (Fine Search): 0.9743589743589743\n"
     ]
    }
   ],
   "source": [
    "from sklearn.linear_model import LogisticRegression\n",
    "from xgboost import XGBClassifier\n",
    "from sklearn.metrics import accuracy_score, precision_score, recall_score, f1_score, roc_auc_score, confusion_matrix \n",
    "from sklearn import svm\n",
    "from sklearn.model_selection import GridSearchCV, RandomizedSearchCV\n",
    "\n",
    "# Define parameter grids for randomized search (coarse search)\n",
    "logistic_param_grid_coarse = {\n",
    "    'penalty': ['l1', 'l2'],\n",
    "    'C': [0.01, 0.1, 1, 10, 100],\n",
    "    'solver': ['liblinear', 'saga']\n",
    "}\n",
    "\n",
    "xgboost_param_grid_coarse = {\n",
    "    'learning_rate': [0.01, 0.1, 0.2],\n",
    "    'n_estimators': [50, 100, 200],\n",
    "    'max_depth': [3, 5, 7],\n",
    "    'min_child_weight': [1, 3, 5],\n",
    "    'subsample': [0.5, 0.8, 1.0],\n",
    "    'colsample_bytree': [0.5, 0.8, 1.0]\n",
    "}\n",
    "\n",
    "svm_param_grid_coarse = {\n",
    "    'C': [0.1, 1, 10],\n",
    "    'gamma': [0.01, 0.1, 1],\n",
    "    'kernel': ['linear', 'rbf']\n",
    "}\n",
    "\n",
    "# RandomizedSearchCV for each model (coarse search)\n",
    "logistic_random_search_coarse = RandomizedSearchCV(LogisticRegression(), logistic_param_grid_coarse, n_iter=30, cv=5, n_jobs=-1)\n",
    "xgboost_random_search_coarse = RandomizedSearchCV(XGBClassifier(objective='binary:logistic'), xgboost_param_grid_coarse, n_iter=30, cv=5, n_jobs=-1)\n",
    "svm_random_search_coarse = RandomizedSearchCV(svm.SVC(), svm_param_grid_coarse, n_iter=30, cv=5, n_jobs=-1)\n",
    "\n",
    "# Fit models using RandomizedSearchCV (coarse search)\n",
    "logistic_random_search_coarse.fit(X_train, Y_train)\n",
    "xgboost_random_search_coarse.fit(X_train, Y_train)\n",
    "svm_random_search_coarse.fit(X_train, Y_train)\n",
    "\n",
    "# Get best hyperparameters from RandomizedSearchCV (coarse search)\n",
    "best_logistic_params_coarse = logistic_random_search_coarse.best_params_\n",
    "best_xgboost_params_coarse = xgboost_random_search_coarse.best_params_\n",
    "best_svm_params_coarse = svm_random_search_coarse.best_params_\n",
    "\n",
    "# Define parameter grids for GridSearchCV (fine search)\n",
    "logistic_param_grid_fine = {\n",
    "    'penalty': [best_logistic_params_coarse['penalty']],\n",
    "    'C': [best_logistic_params_coarse['C'] * i for i in [0.1, 1, 10]],\n",
    "    'solver': [best_logistic_params_coarse['solver']]\n",
    "}\n",
    "\n",
    "xgboost_param_grid_fine = {\n",
    "    'learning_rate': [best_xgboost_params_coarse['learning_rate'] * i for i in [0.5, 1, 2]],\n",
    "    'n_estimators': [best_xgboost_params_coarse['n_estimators']],\n",
    "    'max_depth': [best_xgboost_params_coarse['max_depth']],\n",
    "    'min_child_weight': [best_xgboost_params_coarse['min_child_weight']],\n",
    "    'subsample': [best_xgboost_params_coarse['subsample']],\n",
    "    'colsample_bytree': [best_xgboost_params_coarse['colsample_bytree']]\n",
    "}\n",
    "\n",
    "svm_param_grid_fine = {\n",
    "    'C': [best_svm_params_coarse['C'] * i for i in [0.1, 1, 10]],\n",
    "    'gamma': [best_svm_params_coarse['gamma'] * i for i in [0.1, 1, 10]],\n",
    "    'kernel': [best_svm_params_coarse['kernel']]\n",
    "}\n",
    "\n",
    "# GridSearchCV for each model (fine search)\n",
    "logistic_grid_search_fine = GridSearchCV(LogisticRegression(), param_grid=logistic_param_grid_fine, cv=5, n_jobs=-1)\n",
    "xgboost_grid_search_fine = GridSearchCV(XGBClassifier(objective='binary:logistic'), param_grid=xgboost_param_grid_fine, cv=5, n_jobs=-1)\n",
    "svm_grid_search_fine = GridSearchCV(svm.SVC(), param_grid=svm_param_grid_fine, cv=5, n_jobs=-1)\n",
    "\n",
    "# Fit models using GridSearchCV (fine search)\n",
    "logistic_grid_search_fine.fit(X_train, Y_train)\n",
    "xgboost_grid_search_fine.fit(X_train, Y_train)\n",
    "svm_grid_search_fine.fit(X_train, Y_train)\n",
    "\n",
    "# Print best hyperparameters from GridSearchCV (fine search)\n",
    "print(\"Logistic Regression Best Parameters (Fine Search):\", logistic_grid_search_fine.best_params_)\n",
    "print(\"XGBoost Best Parameters (Fine Search):\", xgboost_grid_search_fine.best_params_)\n",
    "print(\"SVM Best Parameters (Fine Search):\", svm_grid_search_fine.best_params_)\n",
    "\n",
    "# Compare cross-validated scores of each model\n",
    "logistic_cv_score_fine = logistic_grid_search_fine.best_score_\n",
    "xgboost_cv_score_fine = xgboost_grid_search_fine.best_score_\n",
    "svm_cv_score_fine = svm_grid_search_fine.best_score_\n",
    "\n",
    "# Select the best model based on cross-validated scores\n",
    "best_model_fine = None\n",
    "if logistic_cv_score_fine >= xgboost_cv_score_fine and logistic_cv_score_fine >= svm_cv_score_fine:\n",
    "    best_model_fine = logistic_grid_search_fine.best_estimator_\n",
    "elif xgboost_cv_score_fine >= logistic_cv_score_fine and xgboost_cv_score_fine >= svm_cv_score_fine:\n",
    "    best_model_fine = xgboost_grid_search_fine.best_estimator_\n",
    "else:\n",
    "    best_model_fine = svm_grid_search_fine.best_estimator_\n",
    "\n",
    "# Evaluate the best model on the test set\n",
    "train_accuracy_fine = best_model_fine.score(X_train, Y_train)\n",
    "print(\"Best Model Train Accuracy (Fine Search):\", train_accuracy_fine)\n",
    "test_accuracy_fine = best_model_fine.score(X_test, Y_test)\n",
    "print(\"Best Model Test Accuracy (Fine Search):\", test_accuracy_fine)\n",
    "\n",
    "\n"
   ]
  },
  {
   "cell_type": "code",
   "execution_count": 12,
   "id": "06721f6a",
   "metadata": {},
   "outputs": [
    {
     "name": "stdout",
     "output_type": "stream",
     "text": [
      "Accuracy: 0.9743589743589743\n",
      "Precision: 1.0\n",
      "Recall: 0.9655172413793104\n",
      "F1 Score: 0.9824561403508771\n",
      "Confusion Matrix:\n",
      "[[10  0]\n",
      " [ 1 28]]\n"
     ]
    }
   ],
   "source": [
    "y_pred = best_model_fine.predict(X_test)\n",
    "\n",
    "# Calculate evaluation metrics\n",
    "accuracy = accuracy_score(Y_test, y_pred)\n",
    "precision = precision_score(Y_test, y_pred)\n",
    "recall = recall_score(Y_test, y_pred)\n",
    "f1 = f1_score(Y_test, y_pred)\n",
    "conf_matrix = confusion_matrix(Y_test, y_pred)\n",
    "\n",
    "# Print the results\n",
    "print(\"Accuracy:\", accuracy)\n",
    "print(\"Precision:\", precision)\n",
    "print(\"Recall:\", recall)\n",
    "print(\"F1 Score:\", f1)\n",
    "print(\"Confusion Matrix:\")\n",
    "print(conf_matrix)"
   ]
  },
  {
   "cell_type": "code",
   "execution_count": null,
   "id": "04b1b4f6",
   "metadata": {},
   "outputs": [],
   "source": []
  },
  {
   "cell_type": "code",
   "execution_count": null,
   "id": "fc736df4",
   "metadata": {},
   "outputs": [],
   "source": []
  },
  {
   "cell_type": "code",
   "execution_count": null,
   "id": "b0af89ec",
   "metadata": {},
   "outputs": [],
   "source": []
  },
  {
   "cell_type": "code",
   "execution_count": null,
   "id": "488b6353",
   "metadata": {},
   "outputs": [],
   "source": []
  },
  {
   "cell_type": "code",
   "execution_count": null,
   "id": "a1423e0f",
   "metadata": {},
   "outputs": [],
   "source": []
  },
  {
   "cell_type": "code",
   "execution_count": null,
   "id": "caef956a",
   "metadata": {},
   "outputs": [],
   "source": []
  },
  {
   "cell_type": "markdown",
   "id": "34a0e32a",
   "metadata": {},
   "source": [
    "##### SVM"
   ]
  },
  {
   "cell_type": "code",
   "execution_count": 11,
   "id": "653232c4",
   "metadata": {},
   "outputs": [
    {
     "name": "stderr",
     "output_type": "stream",
     "text": [
      "C:\\Users\\Zooby\\anaconda3\\lib\\site-packages\\sklearn\\model_selection\\_search.py:292: UserWarning: The total space of parameters 80 is smaller than n_iter=100. Running 80 iterations. For exhaustive searches, use GridSearchCV.\n",
      "  warnings.warn(\n"
     ]
    },
    {
     "name": "stdout",
     "output_type": "stream",
     "text": [
      "Best Parameters from RandomizedSearchCV: {'kernel': 'rbf', 'gamma': 0.1, 'C': 10}\n"
     ]
    }
   ],
   "source": [
    "# Define the XGBoost classifier\n",
    "SVM_classifier = svm.SVC(probability=True)\n",
    "\n",
    "# Define the hyperparameter distributions for RandomizedSearchCV\n",
    "random_param_dist = {'C': [0.1, 1, 10, 100],\n",
    "                     'gamma': [0.01, 0.1, 1, 'scale', 'auto'],\n",
    "                     'kernel': ['linear', 'rbf', 'poly', 'sigmoid']\n",
    "                    }\n",
    "\n",
    "# Perform RandomizedSearchCV\n",
    "random_search = RandomizedSearchCV(\n",
    "    SVM_classifier, random_param_dist, n_iter=100, scoring='accuracy', cv=5\n",
    ")\n",
    "\n",
    "random_search.fit(X_train, Y_train)\n",
    "\n",
    "# Display the best parameters from RandomizedSearchCV\n",
    "print(\"Best Parameters from RandomizedSearchCV:\", random_search.best_params_)\n"
   ]
  },
  {
   "cell_type": "code",
   "execution_count": 12,
   "id": "121615c9",
   "metadata": {},
   "outputs": [
    {
     "name": "stdout",
     "output_type": "stream",
     "text": [
      "Best Parameters from GridSearchCV: {'C': 10, 'gamma': 0.1, 'kernel': 'rbf'}\n",
      "Best Accuracy Score from GridSearchCV: 0.9169354838709678\n"
     ]
    }
   ],
   "source": [
    "# Define the hyperparameter grid for GridSearchCV based on the results from RandomizedSearchCV\n",
    "param_grid = {'C': [random_search.best_params_['C']],\n",
    "              'gamma': [random_search.best_params_['gamma']],\n",
    "              'kernel': [random_search.best_params_['kernel']]\n",
    "             }\n",
    "\n",
    "# Perform GridSearchCV\n",
    "grid_search = GridSearchCV(\n",
    "    SVM_classifier, param_grid, scoring='accuracy', cv=5\n",
    ")\n",
    "\n",
    "grid_search.fit(X_train, Y_train)\n",
    "\n",
    "# Display the best parameters and accuracy score from GridSearchCV\n",
    "print(\"Best Parameters from GridSearchCV:\", grid_search.best_params_)\n",
    "print(\"Best Accuracy Score from GridSearchCV:\", grid_search.best_score_)\n"
   ]
  },
  {
   "cell_type": "code",
   "execution_count": null,
   "id": "ab315c86",
   "metadata": {},
   "outputs": [],
   "source": []
  },
  {
   "cell_type": "markdown",
   "id": "78443ed6",
   "metadata": {},
   "source": [
    "##### Model Eval"
   ]
  },
  {
   "cell_type": "code",
   "execution_count": 13,
   "id": "858c22ff",
   "metadata": {},
   "outputs": [
    {
     "name": "stdout",
     "output_type": "stream",
     "text": [
      "Final Model Accuracy on Train Set: 1.0\n",
      "Final Model Accuracy on Test Set: 0.9487179487179487\n"
     ]
    }
   ],
   "source": [
    "#Evaluate the final model on train set\n",
    "final_model = grid_search.best_estimator_\n",
    "y_pred_train = final_model.predict(X_train)\n",
    "train_accuracy = accuracy_score(Y_train, y_pred_train)\n",
    "print(\"Final Model Accuracy on Train Set:\", train_accuracy)\n",
    "\n",
    "# Evaluate the final model on the test set\n",
    "y_pred_test = final_model.predict(X_test)\n",
    "accuracy = accuracy_score(Y_test, y_pred_test)\n",
    "print(\"Final Model Accuracy on Test Set:\", accuracy)"
   ]
  },
  {
   "cell_type": "code",
   "execution_count": 14,
   "id": "4d8cb07d",
   "metadata": {},
   "outputs": [
    {
     "name": "stdout",
     "output_type": "stream",
     "text": [
      "Accuracy: 0.9487179487179487\n",
      "Precision: 1.0\n",
      "Recall: 0.9310344827586207\n",
      "F1 Score: 0.9642857142857143\n",
      "ROC AUC Score: 0.993103448275862\n",
      "\n",
      "Confusion Matrix:\n",
      "[[10  0]\n",
      " [ 2 27]]\n"
     ]
    }
   ],
   "source": [
    "accuracy = accuracy_score(Y_test, y_pred_test)\n",
    "precision = precision_score(Y_test, y_pred_test)\n",
    "recall = recall_score(Y_test, y_pred_test)\n",
    "f1 = f1_score(Y_test, y_pred_test)\n",
    "roc_auc = roc_auc_score(Y_test, final_model.predict_proba(X_test)[:, 1])  # Assuming binary classification\n",
    "\n",
    "# Display the evaluation metrics\n",
    "print(\"Accuracy:\", accuracy)\n",
    "print(\"Precision:\", precision)\n",
    "print(\"Recall:\", recall)\n",
    "print(\"F1 Score:\", f1)\n",
    "print(\"ROC AUC Score:\", roc_auc)\n",
    "\n",
    "# Display the confusion matrix\n",
    "conf_matrix = confusion_matrix(Y_test, y_pred_test)\n",
    "print(\"\\nConfusion Matrix:\")\n",
    "print(conf_matrix)"
   ]
  },
  {
   "cell_type": "markdown",
   "id": "de6d8c0a",
   "metadata": {},
   "source": [
    "##### Predictive System"
   ]
  },
  {
   "cell_type": "code",
   "execution_count": 13,
   "id": "311972ea",
   "metadata": {},
   "outputs": [
    {
     "name": "stdout",
     "output_type": "stream",
     "text": [
      "Has Parkinson's Disease\n"
     ]
    },
    {
     "name": "stderr",
     "output_type": "stream",
     "text": [
      "C:\\Users\\Zooby\\anaconda3\\lib\\site-packages\\sklearn\\base.py:450: UserWarning: X does not have valid feature names, but StandardScaler was fitted with feature names\n",
      "  warnings.warn(\n"
     ]
    }
   ],
   "source": [
    "input_data = (139.224,586.567,66.157,0.03011,0.00022,0.01854,0.01628,0.05563,0.09419,0.93,0.05551,0.05005,0.06023,0.16654,0.2593,10.489,0.596362,0.641418,-3.269487,0.270641,2.690917,0.444774)\n",
    "# Convert input data to a NumPy array\n",
    "input_data_as_np_array = np.asarray(input_data)\n",
    "\n",
    "# Reshape the array for prediction on a single instance\n",
    "input_data_reshaped = input_data_as_np_array.reshape(1, -1)\n",
    "\n",
    "# Standardize the input data using the same scaler\n",
    "std_data = scaler.transform(input_data_reshaped)\n",
    "\n",
    "# Make predictions\n",
    "prediction = best_model_fine.predict(std_data)\n",
    "if prediction ==0:\n",
    "    print(\"Does not have Parkinson's Disease\")\n",
    "else:\n",
    "    print(\"Has Parkinson's Disease\")\n"
   ]
  },
  {
   "cell_type": "markdown",
   "id": "8c09e9d0",
   "metadata": {},
   "source": [
    "##### dumping model to save it for later use"
   ]
  },
  {
   "cell_type": "code",
   "execution_count": 14,
   "id": "5bb3826e",
   "metadata": {},
   "outputs": [
    {
     "data": {
      "text/plain": [
       "['best_model.pkl']"
      ]
     },
     "execution_count": 14,
     "metadata": {},
     "output_type": "execute_result"
    }
   ],
   "source": [
    "import joblib\n",
    "joblib.dump(best_model_fine, 'best_model.pkl')\n",
    "#if you want load the model later on for use without having to retrain the model\n",
    "#loaded_model = joblib.load(svm_model.pkl)"
   ]
  },
  {
   "cell_type": "code",
   "execution_count": null,
   "id": "4470eb51",
   "metadata": {},
   "outputs": [],
   "source": []
  },
  {
   "cell_type": "code",
   "execution_count": null,
   "id": "c72b0a3e",
   "metadata": {},
   "outputs": [],
   "source": []
  },
  {
   "cell_type": "code",
   "execution_count": null,
   "id": "723198bd",
   "metadata": {},
   "outputs": [],
   "source": []
  }
 ],
 "metadata": {
  "kernelspec": {
   "display_name": "Python 3 (ipykernel)",
   "language": "python",
   "name": "python3"
  },
  "language_info": {
   "codemirror_mode": {
    "name": "ipython",
    "version": 3
   },
   "file_extension": ".py",
   "mimetype": "text/x-python",
   "name": "python",
   "nbconvert_exporter": "python",
   "pygments_lexer": "ipython3",
   "version": "3.9.13"
  }
 },
 "nbformat": 4,
 "nbformat_minor": 5
}
