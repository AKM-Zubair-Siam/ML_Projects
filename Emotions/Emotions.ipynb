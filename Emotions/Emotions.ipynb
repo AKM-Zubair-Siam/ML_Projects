{
 "cells": [
  {
   "cell_type": "code",
   "execution_count": 2,
   "id": "1137ca42",
   "metadata": {},
   "outputs": [],
   "source": [
    "import numpy as np\n",
    "import pandas as pd\n",
    "#from os import path\n",
    "#from PIL import Image\n",
    "#from wordcloud import WordCloud, STOPWORDS, ImageColorGenerator\n",
    "import matplotlib.pyplot as plt\n",
    "#sadness (0), \n",
    "#joy (1),\n",
    "#love (2),\n",
    "#anger (3),\n",
    "#fear (4),\n",
    "#surprise (5)"
   ]
  },
  {
   "cell_type": "code",
   "execution_count": 3,
   "id": "e67192d2",
   "metadata": {},
   "outputs": [],
   "source": [
    "df = pd.read_csv('text.csv')"
   ]
  },
  {
   "cell_type": "code",
   "execution_count": 4,
   "id": "953920e9",
   "metadata": {},
   "outputs": [],
   "source": [
    "df = df.loc[:, ~df.columns.str.contains('^Unnamed')]"
   ]
  },
  {
   "cell_type": "code",
   "execution_count": 5,
   "id": "ed2304bb",
   "metadata": {},
   "outputs": [
    {
     "data": {
      "text/html": [
       "<div>\n",
       "<style scoped>\n",
       "    .dataframe tbody tr th:only-of-type {\n",
       "        vertical-align: middle;\n",
       "    }\n",
       "\n",
       "    .dataframe tbody tr th {\n",
       "        vertical-align: top;\n",
       "    }\n",
       "\n",
       "    .dataframe thead th {\n",
       "        text-align: right;\n",
       "    }\n",
       "</style>\n",
       "<table border=\"1\" class=\"dataframe\">\n",
       "  <thead>\n",
       "    <tr style=\"text-align: right;\">\n",
       "      <th></th>\n",
       "      <th>text</th>\n",
       "      <th>label</th>\n",
       "    </tr>\n",
       "  </thead>\n",
       "  <tbody>\n",
       "    <tr>\n",
       "      <th>0</th>\n",
       "      <td>i just feel really helpless and heavy hearted</td>\n",
       "      <td>4</td>\n",
       "    </tr>\n",
       "    <tr>\n",
       "      <th>1</th>\n",
       "      <td>ive enjoyed being able to slouch about relax a...</td>\n",
       "      <td>0</td>\n",
       "    </tr>\n",
       "    <tr>\n",
       "      <th>2</th>\n",
       "      <td>i gave up my internship with the dmrg and am f...</td>\n",
       "      <td>4</td>\n",
       "    </tr>\n",
       "    <tr>\n",
       "      <th>3</th>\n",
       "      <td>i dont know i feel so lost</td>\n",
       "      <td>0</td>\n",
       "    </tr>\n",
       "    <tr>\n",
       "      <th>4</th>\n",
       "      <td>i am a kindergarten teacher and i am thoroughl...</td>\n",
       "      <td>4</td>\n",
       "    </tr>\n",
       "  </tbody>\n",
       "</table>\n",
       "</div>"
      ],
      "text/plain": [
       "                                                text  label\n",
       "0      i just feel really helpless and heavy hearted      4\n",
       "1  ive enjoyed being able to slouch about relax a...      0\n",
       "2  i gave up my internship with the dmrg and am f...      4\n",
       "3                         i dont know i feel so lost      0\n",
       "4  i am a kindergarten teacher and i am thoroughl...      4"
      ]
     },
     "execution_count": 5,
     "metadata": {},
     "output_type": "execute_result"
    }
   ],
   "source": [
    "df.head()"
   ]
  },
  {
   "cell_type": "code",
   "execution_count": 5,
   "id": "f1ce5dd8",
   "metadata": {},
   "outputs": [],
   "source": [
    "#sadness_df = df[df['label'] == 0]"
   ]
  },
  {
   "cell_type": "code",
   "execution_count": 6,
   "id": "7aa9c5d8",
   "metadata": {},
   "outputs": [],
   "source": [
    "#joy_df = df[df['label'] == 1]"
   ]
  },
  {
   "cell_type": "code",
   "execution_count": 7,
   "id": "11fb31e1",
   "metadata": {},
   "outputs": [],
   "source": [
    "#love_df = df[df['label'] == 2]"
   ]
  },
  {
   "cell_type": "code",
   "execution_count": 8,
   "id": "70dc589c",
   "metadata": {},
   "outputs": [],
   "source": [
    "#anger_df = df[df['label'] == 3]"
   ]
  },
  {
   "cell_type": "code",
   "execution_count": 9,
   "id": "00bd74f3",
   "metadata": {},
   "outputs": [],
   "source": [
    "#fear_df = df[df['label'] == 4]"
   ]
  },
  {
   "cell_type": "code",
   "execution_count": 4,
   "id": "3e4c2241",
   "metadata": {},
   "outputs": [],
   "source": [
    "#surprise_df = df[df['label'] == 5]"
   ]
  },
  {
   "cell_type": "code",
   "execution_count": 5,
   "id": "384a519c",
   "metadata": {},
   "outputs": [
    {
     "data": {
      "text/plain": [
       "\"\\n Replace 'review_column' with the actual column name containing the reviews\\nsadness_text = ' '.join(sadness_df['text'])\\n\\n# Generate WordCloud\\nsadness_wordcloud = WordCloud(width=800, height=400, background_color='white').generate(sadness_text)\\n\\n# Display WordCloud\\nplt.figure(figsize=(10, 5))\\nplt.imshow(sadness_wordcloud, interpolation='bilinear')\\nplt.axis('off')\\nplt.show()\\n\""
      ]
     },
     "execution_count": 5,
     "metadata": {},
     "output_type": "execute_result"
    }
   ],
   "source": [
    "'''\n",
    " Replace 'review_column' with the actual column name containing the reviews\n",
    "sadness_text = ' '.join(sadness_df['text'])\n",
    "\n",
    "# Generate WordCloud\n",
    "sadness_wordcloud = WordCloud(width=800, height=400, background_color='white').generate(sadness_text)\n",
    "\n",
    "# Display WordCloud\n",
    "plt.figure(figsize=(10, 5))\n",
    "plt.imshow(sadness_wordcloud, interpolation='bilinear')\n",
    "plt.axis('off')\n",
    "plt.show()\n",
    "'''"
   ]
  },
  {
   "cell_type": "code",
   "execution_count": 6,
   "id": "05e9340a",
   "metadata": {},
   "outputs": [
    {
     "data": {
      "text/plain": [
       "\"# Replace 'review_column' with the actual column name containing the reviews\\njoy_text = ' '.join(joy_df['text'])\\n\\n# Generate WordCloud\\njoy_wordcloud = WordCloud(width=800, height=400, background_color='white').generate(joy_text)\\n\\n# Display WordCloud\\nplt.figure(figsize=(10, 5))\\nplt.imshow(joy_wordcloud, interpolation='bilinear')\\nplt.axis('off')\\nplt.show()\\n\""
      ]
     },
     "execution_count": 6,
     "metadata": {},
     "output_type": "execute_result"
    }
   ],
   "source": [
    "'''# Replace 'review_column' with the actual column name containing the reviews\n",
    "joy_text = ' '.join(joy_df['text'])\n",
    "\n",
    "# Generate WordCloud\n",
    "joy_wordcloud = WordCloud(width=800, height=400, background_color='white').generate(joy_text)\n",
    "\n",
    "# Display WordCloud\n",
    "plt.figure(figsize=(10, 5))\n",
    "plt.imshow(joy_wordcloud, interpolation='bilinear')\n",
    "plt.axis('off')\n",
    "plt.show()\n",
    "'''"
   ]
  },
  {
   "cell_type": "code",
   "execution_count": 8,
   "id": "c0460c51",
   "metadata": {},
   "outputs": [
    {
     "data": {
      "text/plain": [
       "\"# Replace 'review_column' with the actual column name containing the reviews\\ntext = ' '.join(df['text'])\\n\\n# Generate WordCloud\\nwordcloud = WordCloud(width=800, height=400, background_color='white').generate(text)\\n\\n# Display WordCloud\\nplt.figure(figsize=(10, 5))\\nplt.imshow(wordcloud, interpolation='bilinear')\\nplt.axis('off')\\nplt.show()\\n\""
      ]
     },
     "execution_count": 8,
     "metadata": {},
     "output_type": "execute_result"
    }
   ],
   "source": [
    "'''# Replace 'review_column' with the actual column name containing the reviews\n",
    "text = ' '.join(df['text'])\n",
    "\n",
    "# Generate WordCloud\n",
    "wordcloud = WordCloud(width=800, height=400, background_color='white').generate(text)\n",
    "\n",
    "# Display WordCloud\n",
    "plt.figure(figsize=(10, 5))\n",
    "plt.imshow(wordcloud, interpolation='bilinear')\n",
    "plt.axis('off')\n",
    "plt.show()\n",
    "'''"
   ]
  },
  {
   "cell_type": "code",
   "execution_count": null,
   "id": "b7e8543b",
   "metadata": {},
   "outputs": [],
   "source": []
  },
  {
   "cell_type": "code",
   "execution_count": null,
   "id": "257c4995",
   "metadata": {},
   "outputs": [],
   "source": []
  },
  {
   "cell_type": "code",
   "execution_count": null,
   "id": "7843e5ed",
   "metadata": {},
   "outputs": [],
   "source": []
  },
  {
   "cell_type": "code",
   "execution_count": null,
   "id": "48a4870d",
   "metadata": {},
   "outputs": [],
   "source": []
  },
  {
   "cell_type": "code",
   "execution_count": null,
   "id": "bd0026b3",
   "metadata": {},
   "outputs": [],
   "source": []
  },
  {
   "cell_type": "code",
   "execution_count": 7,
   "id": "edf6c09f",
   "metadata": {},
   "outputs": [
    {
     "data": {
      "text/plain": [
       "\"# Replace 'review_column' with the actual column name containing the reviews\\ntext = ' '.join(df['text'])\\n\\n# Generate WordCloud\\nwordcloud = WordCloud(width=800, height=400, background_color='white').generate(text)\\n\\n# Display WordCloud\\nplt.figure(figsize=(10, 5))\\nplt.imshow(wordcloud, interpolation='bilinear')\\nplt.axis('off')\\nplt.show()\\n\""
      ]
     },
     "execution_count": 7,
     "metadata": {},
     "output_type": "execute_result"
    }
   ],
   "source": []
  },
  {
   "cell_type": "code",
   "execution_count": null,
   "id": "1cb67642",
   "metadata": {},
   "outputs": [],
   "source": []
  }
 ],
 "metadata": {
  "kernelspec": {
   "display_name": "Python 3 (ipykernel)",
   "language": "python",
   "name": "python3"
  },
  "language_info": {
   "codemirror_mode": {
    "name": "ipython",
    "version": 3
   },
   "file_extension": ".py",
   "mimetype": "text/x-python",
   "name": "python",
   "nbconvert_exporter": "python",
   "pygments_lexer": "ipython3",
   "version": "3.9.13"
  }
 },
 "nbformat": 4,
 "nbformat_minor": 5
}
