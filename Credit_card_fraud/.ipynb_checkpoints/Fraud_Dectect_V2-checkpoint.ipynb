{
 "cells": [
  {
   "cell_type": "code",
   "execution_count": 1,
   "id": "33cfe22d",
   "metadata": {},
   "outputs": [],
   "source": [
    "import numpy as np\n",
    "import pandas as pd"
   ]
  },
  {
   "cell_type": "code",
   "execution_count": 2,
   "id": "184fc59e",
   "metadata": {},
   "outputs": [],
   "source": [
    "data = pd.read_csv(\"fraud test.csv\")"
   ]
  },
  {
   "cell_type": "code",
   "execution_count": 3,
   "id": "40394e15",
   "metadata": {},
   "outputs": [
    {
     "data": {
      "text/html": [
       "<div>\n",
       "<style scoped>\n",
       "    .dataframe tbody tr th:only-of-type {\n",
       "        vertical-align: middle;\n",
       "    }\n",
       "\n",
       "    .dataframe tbody tr th {\n",
       "        vertical-align: top;\n",
       "    }\n",
       "\n",
       "    .dataframe thead th {\n",
       "        text-align: right;\n",
       "    }\n",
       "</style>\n",
       "<table border=\"1\" class=\"dataframe\">\n",
       "  <thead>\n",
       "    <tr style=\"text-align: right;\">\n",
       "      <th></th>\n",
       "      <th>Unnamed: 0</th>\n",
       "      <th>trans_date_trans_time</th>\n",
       "      <th>cc_num</th>\n",
       "      <th>merchant</th>\n",
       "      <th>category</th>\n",
       "      <th>amt</th>\n",
       "      <th>first</th>\n",
       "      <th>last</th>\n",
       "      <th>gender</th>\n",
       "      <th>street</th>\n",
       "      <th>...</th>\n",
       "      <th>lat</th>\n",
       "      <th>long</th>\n",
       "      <th>city_pop</th>\n",
       "      <th>job</th>\n",
       "      <th>dob</th>\n",
       "      <th>trans_num</th>\n",
       "      <th>unix_time</th>\n",
       "      <th>merch_lat</th>\n",
       "      <th>merch_long</th>\n",
       "      <th>is_fraud</th>\n",
       "    </tr>\n",
       "  </thead>\n",
       "  <tbody>\n",
       "    <tr>\n",
       "      <th>0</th>\n",
       "      <td>0</td>\n",
       "      <td>21/06/2020 12:14</td>\n",
       "      <td>2.291160e+15</td>\n",
       "      <td>fraud_Kirlin and Sons</td>\n",
       "      <td>personal_care</td>\n",
       "      <td>2.86</td>\n",
       "      <td>Jeff</td>\n",
       "      <td>Elliott</td>\n",
       "      <td>M</td>\n",
       "      <td>351 Darlene Green</td>\n",
       "      <td>...</td>\n",
       "      <td>33.9659</td>\n",
       "      <td>-80.9355</td>\n",
       "      <td>333497</td>\n",
       "      <td>Mechanical engineer</td>\n",
       "      <td>19/03/1968</td>\n",
       "      <td>2da90c7d74bd46a0caf3777415b3ebd3</td>\n",
       "      <td>1371816865</td>\n",
       "      <td>33.986391</td>\n",
       "      <td>-81.200714</td>\n",
       "      <td>0</td>\n",
       "    </tr>\n",
       "    <tr>\n",
       "      <th>1</th>\n",
       "      <td>1</td>\n",
       "      <td>21/06/2020 12:14</td>\n",
       "      <td>3.573030e+15</td>\n",
       "      <td>fraud_Sporer-Keebler</td>\n",
       "      <td>personal_care</td>\n",
       "      <td>29.84</td>\n",
       "      <td>Joanne</td>\n",
       "      <td>Williams</td>\n",
       "      <td>F</td>\n",
       "      <td>3638 Marsh Union</td>\n",
       "      <td>...</td>\n",
       "      <td>40.3207</td>\n",
       "      <td>-110.4360</td>\n",
       "      <td>302</td>\n",
       "      <td>Sales professional, IT</td>\n",
       "      <td>17/01/1990</td>\n",
       "      <td>324cc204407e99f51b0d6ca0055005e7</td>\n",
       "      <td>1371816873</td>\n",
       "      <td>39.450498</td>\n",
       "      <td>-109.960431</td>\n",
       "      <td>0</td>\n",
       "    </tr>\n",
       "    <tr>\n",
       "      <th>2</th>\n",
       "      <td>2</td>\n",
       "      <td>21/06/2020 12:14</td>\n",
       "      <td>3.598220e+15</td>\n",
       "      <td>fraud_Swaniawski, Nitzsche and Welch</td>\n",
       "      <td>health_fitness</td>\n",
       "      <td>41.28</td>\n",
       "      <td>Ashley</td>\n",
       "      <td>Lopez</td>\n",
       "      <td>F</td>\n",
       "      <td>9333 Valentine Point</td>\n",
       "      <td>...</td>\n",
       "      <td>40.6729</td>\n",
       "      <td>-73.5365</td>\n",
       "      <td>34496</td>\n",
       "      <td>Librarian, public</td>\n",
       "      <td>21/10/1970</td>\n",
       "      <td>c81755dbbbea9d5c77f094348a7579be</td>\n",
       "      <td>1371816893</td>\n",
       "      <td>40.495810</td>\n",
       "      <td>-74.196111</td>\n",
       "      <td>0</td>\n",
       "    </tr>\n",
       "    <tr>\n",
       "      <th>3</th>\n",
       "      <td>3</td>\n",
       "      <td>21/06/2020 12:15</td>\n",
       "      <td>3.591920e+15</td>\n",
       "      <td>fraud_Haley Group</td>\n",
       "      <td>misc_pos</td>\n",
       "      <td>60.05</td>\n",
       "      <td>Brian</td>\n",
       "      <td>Williams</td>\n",
       "      <td>M</td>\n",
       "      <td>32941 Krystal Mill Apt. 552</td>\n",
       "      <td>...</td>\n",
       "      <td>28.5697</td>\n",
       "      <td>-80.8191</td>\n",
       "      <td>54767</td>\n",
       "      <td>Set designer</td>\n",
       "      <td>25/07/1987</td>\n",
       "      <td>2159175b9efe66dc301f149d3d5abf8c</td>\n",
       "      <td>1371816915</td>\n",
       "      <td>28.812398</td>\n",
       "      <td>-80.883061</td>\n",
       "      <td>0</td>\n",
       "    </tr>\n",
       "    <tr>\n",
       "      <th>4</th>\n",
       "      <td>4</td>\n",
       "      <td>21/06/2020 12:15</td>\n",
       "      <td>3.526830e+15</td>\n",
       "      <td>fraud_Johnston-Casper</td>\n",
       "      <td>travel</td>\n",
       "      <td>3.19</td>\n",
       "      <td>Nathan</td>\n",
       "      <td>Massey</td>\n",
       "      <td>M</td>\n",
       "      <td>5783 Evan Roads Apt. 465</td>\n",
       "      <td>...</td>\n",
       "      <td>44.2529</td>\n",
       "      <td>-85.0170</td>\n",
       "      <td>1126</td>\n",
       "      <td>Furniture designer</td>\n",
       "      <td>06/07/1955</td>\n",
       "      <td>57ff021bd3f328f8738bb535c302a31b</td>\n",
       "      <td>1371816917</td>\n",
       "      <td>44.959148</td>\n",
       "      <td>-85.884734</td>\n",
       "      <td>0</td>\n",
       "    </tr>\n",
       "  </tbody>\n",
       "</table>\n",
       "<p>5 rows × 23 columns</p>\n",
       "</div>"
      ],
      "text/plain": [
       "   Unnamed: 0 trans_date_trans_time        cc_num  \\\n",
       "0           0      21/06/2020 12:14  2.291160e+15   \n",
       "1           1      21/06/2020 12:14  3.573030e+15   \n",
       "2           2      21/06/2020 12:14  3.598220e+15   \n",
       "3           3      21/06/2020 12:15  3.591920e+15   \n",
       "4           4      21/06/2020 12:15  3.526830e+15   \n",
       "\n",
       "                               merchant        category    amt   first  \\\n",
       "0                 fraud_Kirlin and Sons   personal_care   2.86    Jeff   \n",
       "1                  fraud_Sporer-Keebler   personal_care  29.84  Joanne   \n",
       "2  fraud_Swaniawski, Nitzsche and Welch  health_fitness  41.28  Ashley   \n",
       "3                     fraud_Haley Group        misc_pos  60.05   Brian   \n",
       "4                 fraud_Johnston-Casper          travel   3.19  Nathan   \n",
       "\n",
       "       last gender                       street  ...      lat      long  \\\n",
       "0   Elliott      M            351 Darlene Green  ...  33.9659  -80.9355   \n",
       "1  Williams      F             3638 Marsh Union  ...  40.3207 -110.4360   \n",
       "2     Lopez      F         9333 Valentine Point  ...  40.6729  -73.5365   \n",
       "3  Williams      M  32941 Krystal Mill Apt. 552  ...  28.5697  -80.8191   \n",
       "4    Massey      M     5783 Evan Roads Apt. 465  ...  44.2529  -85.0170   \n",
       "\n",
       "   city_pop                     job         dob  \\\n",
       "0    333497     Mechanical engineer  19/03/1968   \n",
       "1       302  Sales professional, IT  17/01/1990   \n",
       "2     34496       Librarian, public  21/10/1970   \n",
       "3     54767            Set designer  25/07/1987   \n",
       "4      1126      Furniture designer  06/07/1955   \n",
       "\n",
       "                          trans_num   unix_time  merch_lat  merch_long  \\\n",
       "0  2da90c7d74bd46a0caf3777415b3ebd3  1371816865  33.986391  -81.200714   \n",
       "1  324cc204407e99f51b0d6ca0055005e7  1371816873  39.450498 -109.960431   \n",
       "2  c81755dbbbea9d5c77f094348a7579be  1371816893  40.495810  -74.196111   \n",
       "3  2159175b9efe66dc301f149d3d5abf8c  1371816915  28.812398  -80.883061   \n",
       "4  57ff021bd3f328f8738bb535c302a31b  1371816917  44.959148  -85.884734   \n",
       "\n",
       "   is_fraud  \n",
       "0         0  \n",
       "1         0  \n",
       "2         0  \n",
       "3         0  \n",
       "4         0  \n",
       "\n",
       "[5 rows x 23 columns]"
      ]
     },
     "execution_count": 3,
     "metadata": {},
     "output_type": "execute_result"
    }
   ],
   "source": [
    "data.head()"
   ]
  },
  {
   "cell_type": "code",
   "execution_count": 4,
   "id": "84176257",
   "metadata": {},
   "outputs": [],
   "source": [
    "data = data.loc[:, ~data.columns.str.contains('^Unnamed')]"
   ]
  },
  {
   "cell_type": "code",
   "execution_count": 5,
   "id": "9bf8b873",
   "metadata": {},
   "outputs": [
    {
     "data": {
      "text/html": [
       "<div>\n",
       "<style scoped>\n",
       "    .dataframe tbody tr th:only-of-type {\n",
       "        vertical-align: middle;\n",
       "    }\n",
       "\n",
       "    .dataframe tbody tr th {\n",
       "        vertical-align: top;\n",
       "    }\n",
       "\n",
       "    .dataframe thead th {\n",
       "        text-align: right;\n",
       "    }\n",
       "</style>\n",
       "<table border=\"1\" class=\"dataframe\">\n",
       "  <thead>\n",
       "    <tr style=\"text-align: right;\">\n",
       "      <th></th>\n",
       "      <th>trans_date_trans_time</th>\n",
       "      <th>cc_num</th>\n",
       "      <th>merchant</th>\n",
       "      <th>category</th>\n",
       "      <th>amt</th>\n",
       "      <th>first</th>\n",
       "      <th>last</th>\n",
       "      <th>gender</th>\n",
       "      <th>street</th>\n",
       "      <th>city</th>\n",
       "      <th>...</th>\n",
       "      <th>lat</th>\n",
       "      <th>long</th>\n",
       "      <th>city_pop</th>\n",
       "      <th>job</th>\n",
       "      <th>dob</th>\n",
       "      <th>trans_num</th>\n",
       "      <th>unix_time</th>\n",
       "      <th>merch_lat</th>\n",
       "      <th>merch_long</th>\n",
       "      <th>is_fraud</th>\n",
       "    </tr>\n",
       "  </thead>\n",
       "  <tbody>\n",
       "    <tr>\n",
       "      <th>0</th>\n",
       "      <td>21/06/2020 12:14</td>\n",
       "      <td>2.291160e+15</td>\n",
       "      <td>fraud_Kirlin and Sons</td>\n",
       "      <td>personal_care</td>\n",
       "      <td>2.86</td>\n",
       "      <td>Jeff</td>\n",
       "      <td>Elliott</td>\n",
       "      <td>M</td>\n",
       "      <td>351 Darlene Green</td>\n",
       "      <td>Columbia</td>\n",
       "      <td>...</td>\n",
       "      <td>33.9659</td>\n",
       "      <td>-80.9355</td>\n",
       "      <td>333497</td>\n",
       "      <td>Mechanical engineer</td>\n",
       "      <td>19/03/1968</td>\n",
       "      <td>2da90c7d74bd46a0caf3777415b3ebd3</td>\n",
       "      <td>1371816865</td>\n",
       "      <td>33.986391</td>\n",
       "      <td>-81.200714</td>\n",
       "      <td>0</td>\n",
       "    </tr>\n",
       "    <tr>\n",
       "      <th>1</th>\n",
       "      <td>21/06/2020 12:14</td>\n",
       "      <td>3.573030e+15</td>\n",
       "      <td>fraud_Sporer-Keebler</td>\n",
       "      <td>personal_care</td>\n",
       "      <td>29.84</td>\n",
       "      <td>Joanne</td>\n",
       "      <td>Williams</td>\n",
       "      <td>F</td>\n",
       "      <td>3638 Marsh Union</td>\n",
       "      <td>Altonah</td>\n",
       "      <td>...</td>\n",
       "      <td>40.3207</td>\n",
       "      <td>-110.4360</td>\n",
       "      <td>302</td>\n",
       "      <td>Sales professional, IT</td>\n",
       "      <td>17/01/1990</td>\n",
       "      <td>324cc204407e99f51b0d6ca0055005e7</td>\n",
       "      <td>1371816873</td>\n",
       "      <td>39.450498</td>\n",
       "      <td>-109.960431</td>\n",
       "      <td>0</td>\n",
       "    </tr>\n",
       "    <tr>\n",
       "      <th>2</th>\n",
       "      <td>21/06/2020 12:14</td>\n",
       "      <td>3.598220e+15</td>\n",
       "      <td>fraud_Swaniawski, Nitzsche and Welch</td>\n",
       "      <td>health_fitness</td>\n",
       "      <td>41.28</td>\n",
       "      <td>Ashley</td>\n",
       "      <td>Lopez</td>\n",
       "      <td>F</td>\n",
       "      <td>9333 Valentine Point</td>\n",
       "      <td>Bellmore</td>\n",
       "      <td>...</td>\n",
       "      <td>40.6729</td>\n",
       "      <td>-73.5365</td>\n",
       "      <td>34496</td>\n",
       "      <td>Librarian, public</td>\n",
       "      <td>21/10/1970</td>\n",
       "      <td>c81755dbbbea9d5c77f094348a7579be</td>\n",
       "      <td>1371816893</td>\n",
       "      <td>40.495810</td>\n",
       "      <td>-74.196111</td>\n",
       "      <td>0</td>\n",
       "    </tr>\n",
       "    <tr>\n",
       "      <th>3</th>\n",
       "      <td>21/06/2020 12:15</td>\n",
       "      <td>3.591920e+15</td>\n",
       "      <td>fraud_Haley Group</td>\n",
       "      <td>misc_pos</td>\n",
       "      <td>60.05</td>\n",
       "      <td>Brian</td>\n",
       "      <td>Williams</td>\n",
       "      <td>M</td>\n",
       "      <td>32941 Krystal Mill Apt. 552</td>\n",
       "      <td>Titusville</td>\n",
       "      <td>...</td>\n",
       "      <td>28.5697</td>\n",
       "      <td>-80.8191</td>\n",
       "      <td>54767</td>\n",
       "      <td>Set designer</td>\n",
       "      <td>25/07/1987</td>\n",
       "      <td>2159175b9efe66dc301f149d3d5abf8c</td>\n",
       "      <td>1371816915</td>\n",
       "      <td>28.812398</td>\n",
       "      <td>-80.883061</td>\n",
       "      <td>0</td>\n",
       "    </tr>\n",
       "    <tr>\n",
       "      <th>4</th>\n",
       "      <td>21/06/2020 12:15</td>\n",
       "      <td>3.526830e+15</td>\n",
       "      <td>fraud_Johnston-Casper</td>\n",
       "      <td>travel</td>\n",
       "      <td>3.19</td>\n",
       "      <td>Nathan</td>\n",
       "      <td>Massey</td>\n",
       "      <td>M</td>\n",
       "      <td>5783 Evan Roads Apt. 465</td>\n",
       "      <td>Falmouth</td>\n",
       "      <td>...</td>\n",
       "      <td>44.2529</td>\n",
       "      <td>-85.0170</td>\n",
       "      <td>1126</td>\n",
       "      <td>Furniture designer</td>\n",
       "      <td>06/07/1955</td>\n",
       "      <td>57ff021bd3f328f8738bb535c302a31b</td>\n",
       "      <td>1371816917</td>\n",
       "      <td>44.959148</td>\n",
       "      <td>-85.884734</td>\n",
       "      <td>0</td>\n",
       "    </tr>\n",
       "  </tbody>\n",
       "</table>\n",
       "<p>5 rows × 22 columns</p>\n",
       "</div>"
      ],
      "text/plain": [
       "  trans_date_trans_time        cc_num                              merchant  \\\n",
       "0      21/06/2020 12:14  2.291160e+15                 fraud_Kirlin and Sons   \n",
       "1      21/06/2020 12:14  3.573030e+15                  fraud_Sporer-Keebler   \n",
       "2      21/06/2020 12:14  3.598220e+15  fraud_Swaniawski, Nitzsche and Welch   \n",
       "3      21/06/2020 12:15  3.591920e+15                     fraud_Haley Group   \n",
       "4      21/06/2020 12:15  3.526830e+15                 fraud_Johnston-Casper   \n",
       "\n",
       "         category    amt   first      last gender  \\\n",
       "0   personal_care   2.86    Jeff   Elliott      M   \n",
       "1   personal_care  29.84  Joanne  Williams      F   \n",
       "2  health_fitness  41.28  Ashley     Lopez      F   \n",
       "3        misc_pos  60.05   Brian  Williams      M   \n",
       "4          travel   3.19  Nathan    Massey      M   \n",
       "\n",
       "                        street        city  ...      lat      long  city_pop  \\\n",
       "0            351 Darlene Green    Columbia  ...  33.9659  -80.9355    333497   \n",
       "1             3638 Marsh Union     Altonah  ...  40.3207 -110.4360       302   \n",
       "2         9333 Valentine Point    Bellmore  ...  40.6729  -73.5365     34496   \n",
       "3  32941 Krystal Mill Apt. 552  Titusville  ...  28.5697  -80.8191     54767   \n",
       "4     5783 Evan Roads Apt. 465    Falmouth  ...  44.2529  -85.0170      1126   \n",
       "\n",
       "                      job         dob                         trans_num  \\\n",
       "0     Mechanical engineer  19/03/1968  2da90c7d74bd46a0caf3777415b3ebd3   \n",
       "1  Sales professional, IT  17/01/1990  324cc204407e99f51b0d6ca0055005e7   \n",
       "2       Librarian, public  21/10/1970  c81755dbbbea9d5c77f094348a7579be   \n",
       "3            Set designer  25/07/1987  2159175b9efe66dc301f149d3d5abf8c   \n",
       "4      Furniture designer  06/07/1955  57ff021bd3f328f8738bb535c302a31b   \n",
       "\n",
       "    unix_time  merch_lat  merch_long  is_fraud  \n",
       "0  1371816865  33.986391  -81.200714         0  \n",
       "1  1371816873  39.450498 -109.960431         0  \n",
       "2  1371816893  40.495810  -74.196111         0  \n",
       "3  1371816915  28.812398  -80.883061         0  \n",
       "4  1371816917  44.959148  -85.884734         0  \n",
       "\n",
       "[5 rows x 22 columns]"
      ]
     },
     "execution_count": 5,
     "metadata": {},
     "output_type": "execute_result"
    }
   ],
   "source": [
    "data.head()"
   ]
  },
  {
   "cell_type": "code",
   "execution_count": 6,
   "id": "ee44bfe2",
   "metadata": {},
   "outputs": [
    {
     "data": {
      "text/plain": [
       "(555719, 22)"
      ]
     },
     "execution_count": 6,
     "metadata": {},
     "output_type": "execute_result"
    }
   ],
   "source": [
    "data.shape"
   ]
  },
  {
   "cell_type": "code",
   "execution_count": 7,
   "id": "9cc1ab13",
   "metadata": {},
   "outputs": [
    {
     "data": {
      "text/plain": [
       "trans_date_trans_time    0\n",
       "cc_num                   0\n",
       "merchant                 0\n",
       "category                 0\n",
       "amt                      0\n",
       "first                    0\n",
       "last                     0\n",
       "gender                   0\n",
       "street                   0\n",
       "city                     0\n",
       "state                    0\n",
       "zip                      0\n",
       "lat                      0\n",
       "long                     0\n",
       "city_pop                 0\n",
       "job                      0\n",
       "dob                      0\n",
       "trans_num                0\n",
       "unix_time                0\n",
       "merch_lat                0\n",
       "merch_long               0\n",
       "is_fraud                 0\n",
       "dtype: int64"
      ]
     },
     "execution_count": 7,
     "metadata": {},
     "output_type": "execute_result"
    }
   ],
   "source": [
    "data.isna().sum()"
   ]
  },
  {
   "cell_type": "code",
   "execution_count": 8,
   "id": "4e224301",
   "metadata": {},
   "outputs": [
    {
     "name": "stdout",
     "output_type": "stream",
     "text": [
      "<class 'pandas.core.frame.DataFrame'>\n",
      "RangeIndex: 555719 entries, 0 to 555718\n",
      "Data columns (total 22 columns):\n",
      " #   Column                 Non-Null Count   Dtype  \n",
      "---  ------                 --------------   -----  \n",
      " 0   trans_date_trans_time  555719 non-null  object \n",
      " 1   cc_num                 555719 non-null  float64\n",
      " 2   merchant               555719 non-null  object \n",
      " 3   category               555719 non-null  object \n",
      " 4   amt                    555719 non-null  float64\n",
      " 5   first                  555719 non-null  object \n",
      " 6   last                   555719 non-null  object \n",
      " 7   gender                 555719 non-null  object \n",
      " 8   street                 555719 non-null  object \n",
      " 9   city                   555719 non-null  object \n",
      " 10  state                  555719 non-null  object \n",
      " 11  zip                    555719 non-null  int64  \n",
      " 12  lat                    555719 non-null  float64\n",
      " 13  long                   555719 non-null  float64\n",
      " 14  city_pop               555719 non-null  int64  \n",
      " 15  job                    555719 non-null  object \n",
      " 16  dob                    555719 non-null  object \n",
      " 17  trans_num              555719 non-null  object \n",
      " 18  unix_time              555719 non-null  int64  \n",
      " 19  merch_lat              555719 non-null  float64\n",
      " 20  merch_long             555719 non-null  float64\n",
      " 21  is_fraud               555719 non-null  int64  \n",
      "dtypes: float64(6), int64(4), object(12)\n",
      "memory usage: 93.3+ MB\n"
     ]
    }
   ],
   "source": [
    "data.info()"
   ]
  },
  {
   "cell_type": "code",
   "execution_count": 9,
   "id": "6c73e270",
   "metadata": {},
   "outputs": [
    {
     "data": {
      "text/plain": [
       "0    553574\n",
       "1      2145\n",
       "Name: is_fraud, dtype: int64"
      ]
     },
     "execution_count": 9,
     "metadata": {},
     "output_type": "execute_result"
    }
   ],
   "source": [
    "data['is_fraud'].value_counts() #very unbalanced dataset so need to balance it"
   ]
  },
  {
   "cell_type": "code",
   "execution_count": 10,
   "id": "944282ba",
   "metadata": {},
   "outputs": [
    {
     "data": {
      "text/html": [
       "<div>\n",
       "<style scoped>\n",
       "    .dataframe tbody tr th:only-of-type {\n",
       "        vertical-align: middle;\n",
       "    }\n",
       "\n",
       "    .dataframe tbody tr th {\n",
       "        vertical-align: top;\n",
       "    }\n",
       "\n",
       "    .dataframe thead th {\n",
       "        text-align: right;\n",
       "    }\n",
       "</style>\n",
       "<table border=\"1\" class=\"dataframe\">\n",
       "  <thead>\n",
       "    <tr style=\"text-align: right;\">\n",
       "      <th></th>\n",
       "      <th>cc_num</th>\n",
       "      <th>amt</th>\n",
       "      <th>zip</th>\n",
       "      <th>lat</th>\n",
       "      <th>long</th>\n",
       "      <th>city_pop</th>\n",
       "      <th>unix_time</th>\n",
       "      <th>merch_lat</th>\n",
       "      <th>merch_long</th>\n",
       "    </tr>\n",
       "    <tr>\n",
       "      <th>is_fraud</th>\n",
       "      <th></th>\n",
       "      <th></th>\n",
       "      <th></th>\n",
       "      <th></th>\n",
       "      <th></th>\n",
       "      <th></th>\n",
       "      <th></th>\n",
       "      <th></th>\n",
       "      <th></th>\n",
       "    </tr>\n",
       "  </thead>\n",
       "  <tbody>\n",
       "    <tr>\n",
       "      <th>0</th>\n",
       "      <td>4.179643e+17</td>\n",
       "      <td>67.614408</td>\n",
       "      <td>48846.424285</td>\n",
       "      <td>38.541406</td>\n",
       "      <td>-90.230495</td>\n",
       "      <td>88313.692365</td>\n",
       "      <td>1.380683e+09</td>\n",
       "      <td>38.540954</td>\n",
       "      <td>-90.230474</td>\n",
       "    </tr>\n",
       "    <tr>\n",
       "      <th>1</th>\n",
       "      <td>3.854275e+17</td>\n",
       "      <td>528.356494</td>\n",
       "      <td>47862.900233</td>\n",
       "      <td>39.019971</td>\n",
       "      <td>-90.445556</td>\n",
       "      <td>64529.321678</td>\n",
       "      <td>1.379587e+09</td>\n",
       "      <td>39.018618</td>\n",
       "      <td>-90.465222</td>\n",
       "    </tr>\n",
       "  </tbody>\n",
       "</table>\n",
       "</div>"
      ],
      "text/plain": [
       "                cc_num         amt           zip        lat       long  \\\n",
       "is_fraud                                                                 \n",
       "0         4.179643e+17   67.614408  48846.424285  38.541406 -90.230495   \n",
       "1         3.854275e+17  528.356494  47862.900233  39.019971 -90.445556   \n",
       "\n",
       "              city_pop     unix_time  merch_lat  merch_long  \n",
       "is_fraud                                                     \n",
       "0         88313.692365  1.380683e+09  38.540954  -90.230474  \n",
       "1         64529.321678  1.379587e+09  39.018618  -90.465222  "
      ]
     },
     "execution_count": 10,
     "metadata": {},
     "output_type": "execute_result"
    }
   ],
   "source": [
    "data.groupby('is_fraud').mean()"
   ]
  },
  {
   "cell_type": "code",
   "execution_count": 11,
   "id": "6525823c",
   "metadata": {},
   "outputs": [],
   "source": [
    "legit = data[data.is_fraud == 0]\n",
    "fraud = data[data.is_fraud == 1]"
   ]
  },
  {
   "cell_type": "code",
   "execution_count": 12,
   "id": "4398d451",
   "metadata": {},
   "outputs": [],
   "source": [
    "legit_sample = legit.sample(n=2145)"
   ]
  },
  {
   "cell_type": "code",
   "execution_count": 13,
   "id": "80e983af",
   "metadata": {},
   "outputs": [],
   "source": [
    "merged_card_data = pd.concat([legit_sample, fraud], axis = 0)"
   ]
  },
  {
   "cell_type": "code",
   "execution_count": 14,
   "id": "c1b85af5",
   "metadata": {},
   "outputs": [
    {
     "data": {
      "text/plain": [
       "(4290, 22)"
      ]
     },
     "execution_count": 14,
     "metadata": {},
     "output_type": "execute_result"
    }
   ],
   "source": [
    "merged_card_data.shape"
   ]
  },
  {
   "cell_type": "code",
   "execution_count": 15,
   "id": "ee919fd5",
   "metadata": {},
   "outputs": [
    {
     "data": {
      "text/plain": [
       "0    2145\n",
       "1    2145\n",
       "Name: is_fraud, dtype: int64"
      ]
     },
     "execution_count": 15,
     "metadata": {},
     "output_type": "execute_result"
    }
   ],
   "source": [
    "merged_card_data['is_fraud'].value_counts()"
   ]
  },
  {
   "cell_type": "code",
   "execution_count": 16,
   "id": "3dfd80a1",
   "metadata": {},
   "outputs": [
    {
     "data": {
      "text/plain": [
       "F    2329\n",
       "M    1961\n",
       "Name: gender, dtype: int64"
      ]
     },
     "execution_count": 16,
     "metadata": {},
     "output_type": "execute_result"
    }
   ],
   "source": [
    "merged_card_data['gender'].value_counts()"
   ]
  },
  {
   "cell_type": "code",
   "execution_count": 17,
   "id": "f6d8bd13",
   "metadata": {},
   "outputs": [
    {
     "data": {
      "text/html": [
       "<div>\n",
       "<style scoped>\n",
       "    .dataframe tbody tr th:only-of-type {\n",
       "        vertical-align: middle;\n",
       "    }\n",
       "\n",
       "    .dataframe tbody tr th {\n",
       "        vertical-align: top;\n",
       "    }\n",
       "\n",
       "    .dataframe thead th {\n",
       "        text-align: right;\n",
       "    }\n",
       "</style>\n",
       "<table border=\"1\" class=\"dataframe\">\n",
       "  <thead>\n",
       "    <tr style=\"text-align: right;\">\n",
       "      <th></th>\n",
       "      <th>cc_num</th>\n",
       "      <th>amt</th>\n",
       "      <th>zip</th>\n",
       "      <th>lat</th>\n",
       "      <th>long</th>\n",
       "      <th>city_pop</th>\n",
       "      <th>unix_time</th>\n",
       "      <th>merch_lat</th>\n",
       "      <th>merch_long</th>\n",
       "    </tr>\n",
       "    <tr>\n",
       "      <th>is_fraud</th>\n",
       "      <th></th>\n",
       "      <th></th>\n",
       "      <th></th>\n",
       "      <th></th>\n",
       "      <th></th>\n",
       "      <th></th>\n",
       "      <th></th>\n",
       "      <th></th>\n",
       "      <th></th>\n",
       "    </tr>\n",
       "  </thead>\n",
       "  <tbody>\n",
       "    <tr>\n",
       "      <th>0</th>\n",
       "      <td>4.470426e+17</td>\n",
       "      <td>66.310196</td>\n",
       "      <td>48897.248485</td>\n",
       "      <td>38.643115</td>\n",
       "      <td>-90.128349</td>\n",
       "      <td>86978.216783</td>\n",
       "      <td>1.380715e+09</td>\n",
       "      <td>38.658757</td>\n",
       "      <td>-90.142401</td>\n",
       "    </tr>\n",
       "    <tr>\n",
       "      <th>1</th>\n",
       "      <td>3.854275e+17</td>\n",
       "      <td>528.356494</td>\n",
       "      <td>47862.900233</td>\n",
       "      <td>39.019971</td>\n",
       "      <td>-90.445556</td>\n",
       "      <td>64529.321678</td>\n",
       "      <td>1.379587e+09</td>\n",
       "      <td>39.018618</td>\n",
       "      <td>-90.465222</td>\n",
       "    </tr>\n",
       "  </tbody>\n",
       "</table>\n",
       "</div>"
      ],
      "text/plain": [
       "                cc_num         amt           zip        lat       long  \\\n",
       "is_fraud                                                                 \n",
       "0         4.470426e+17   66.310196  48897.248485  38.643115 -90.128349   \n",
       "1         3.854275e+17  528.356494  47862.900233  39.019971 -90.445556   \n",
       "\n",
       "              city_pop     unix_time  merch_lat  merch_long  \n",
       "is_fraud                                                     \n",
       "0         86978.216783  1.380715e+09  38.658757  -90.142401  \n",
       "1         64529.321678  1.379587e+09  39.018618  -90.465222  "
      ]
     },
     "execution_count": 17,
     "metadata": {},
     "output_type": "execute_result"
    }
   ],
   "source": [
    "merged_card_data.groupby('is_fraud').mean()"
   ]
  },
  {
   "cell_type": "code",
   "execution_count": 18,
   "id": "52912dc1",
   "metadata": {},
   "outputs": [
    {
     "name": "stdout",
     "output_type": "stream",
     "text": [
      "<class 'pandas.core.frame.DataFrame'>\n",
      "Int64Index: 4290 entries, 408756 to 517571\n",
      "Data columns (total 22 columns):\n",
      " #   Column                 Non-Null Count  Dtype  \n",
      "---  ------                 --------------  -----  \n",
      " 0   trans_date_trans_time  4290 non-null   object \n",
      " 1   cc_num                 4290 non-null   float64\n",
      " 2   merchant               4290 non-null   object \n",
      " 3   category               4290 non-null   object \n",
      " 4   amt                    4290 non-null   float64\n",
      " 5   first                  4290 non-null   object \n",
      " 6   last                   4290 non-null   object \n",
      " 7   gender                 4290 non-null   object \n",
      " 8   street                 4290 non-null   object \n",
      " 9   city                   4290 non-null   object \n",
      " 10  state                  4290 non-null   object \n",
      " 11  zip                    4290 non-null   int64  \n",
      " 12  lat                    4290 non-null   float64\n",
      " 13  long                   4290 non-null   float64\n",
      " 14  city_pop               4290 non-null   int64  \n",
      " 15  job                    4290 non-null   object \n",
      " 16  dob                    4290 non-null   object \n",
      " 17  trans_num              4290 non-null   object \n",
      " 18  unix_time              4290 non-null   int64  \n",
      " 19  merch_lat              4290 non-null   float64\n",
      " 20  merch_long             4290 non-null   float64\n",
      " 21  is_fraud               4290 non-null   int64  \n",
      "dtypes: float64(6), int64(4), object(12)\n",
      "memory usage: 770.9+ KB\n"
     ]
    }
   ],
   "source": [
    "merged_card_data.info()"
   ]
  },
  {
   "cell_type": "code",
   "execution_count": null,
   "id": "1fcf1949",
   "metadata": {},
   "outputs": [],
   "source": []
  },
  {
   "cell_type": "markdown",
   "id": "02c397cc",
   "metadata": {},
   "source": [
    "###### Dropping unnecessary columns"
   ]
  },
  {
   "cell_type": "code",
   "execution_count": 19,
   "id": "1dc65707",
   "metadata": {},
   "outputs": [],
   "source": [
    "merged_card_data.drop(columns = ['trans_date_trans_time', 'first', 'last', 'street', 'city_pop', 'unix_time', 'trans_num'], axis = 1, inplace = True)"
   ]
  },
  {
   "cell_type": "code",
   "execution_count": 20,
   "id": "18b29ed9",
   "metadata": {},
   "outputs": [
    {
     "data": {
      "text/plain": [
       "(4290, 15)"
      ]
     },
     "execution_count": 20,
     "metadata": {},
     "output_type": "execute_result"
    }
   ],
   "source": [
    "merged_card_data.shape"
   ]
  },
  {
   "cell_type": "markdown",
   "id": "9c380c7e",
   "metadata": {},
   "source": [
    "###### Feature Engineering"
   ]
  },
  {
   "cell_type": "code",
   "execution_count": 21,
   "id": "2c103920",
   "metadata": {},
   "outputs": [],
   "source": [
    "merged_card_data['location'] = merged_card_data['city'] + ', ' + merged_card_data['state'] + ', ' + merged_card_data['zip'].astype(str)\n",
    "merged_card_data = merged_card_data.drop(['city', 'state', 'zip'], axis=1)"
   ]
  },
  {
   "cell_type": "code",
   "execution_count": 22,
   "id": "e71f81ef",
   "metadata": {},
   "outputs": [
    {
     "data": {
      "text/html": [
       "<div>\n",
       "<style scoped>\n",
       "    .dataframe tbody tr th:only-of-type {\n",
       "        vertical-align: middle;\n",
       "    }\n",
       "\n",
       "    .dataframe tbody tr th {\n",
       "        vertical-align: top;\n",
       "    }\n",
       "\n",
       "    .dataframe thead th {\n",
       "        text-align: right;\n",
       "    }\n",
       "</style>\n",
       "<table border=\"1\" class=\"dataframe\">\n",
       "  <thead>\n",
       "    <tr style=\"text-align: right;\">\n",
       "      <th></th>\n",
       "      <th>cc_num</th>\n",
       "      <th>merchant</th>\n",
       "      <th>category</th>\n",
       "      <th>amt</th>\n",
       "      <th>gender</th>\n",
       "      <th>job</th>\n",
       "      <th>dob</th>\n",
       "      <th>merch_lat</th>\n",
       "      <th>merch_long</th>\n",
       "      <th>is_fraud</th>\n",
       "      <th>location</th>\n",
       "      <th>lat_long</th>\n",
       "    </tr>\n",
       "  </thead>\n",
       "  <tbody>\n",
       "    <tr>\n",
       "      <th>408756</th>\n",
       "      <td>3.586010e+15</td>\n",
       "      <td>fraud_O'Reilly, Mohr and Purdy</td>\n",
       "      <td>home</td>\n",
       "      <td>17.20</td>\n",
       "      <td>F</td>\n",
       "      <td>Osteopath</td>\n",
       "      <td>29/02/1984</td>\n",
       "      <td>47.266159</td>\n",
       "      <td>-122.886556</td>\n",
       "      <td>0</td>\n",
       "      <td>Issaquah, WA, 98027</td>\n",
       "      <td>47.4974, -122.0107</td>\n",
       "    </tr>\n",
       "    <tr>\n",
       "      <th>141814</th>\n",
       "      <td>2.224100e+15</td>\n",
       "      <td>fraud_Cole PLC</td>\n",
       "      <td>grocery_pos</td>\n",
       "      <td>167.36</td>\n",
       "      <td>F</td>\n",
       "      <td>Naval architect</td>\n",
       "      <td>11/09/1963</td>\n",
       "      <td>31.223798</td>\n",
       "      <td>-81.559031</td>\n",
       "      <td>0</td>\n",
       "      <td>Kings Bay, GA, 31547</td>\n",
       "      <td>30.7906, -81.5607</td>\n",
       "    </tr>\n",
       "    <tr>\n",
       "      <th>454418</th>\n",
       "      <td>6.304520e+11</td>\n",
       "      <td>fraud_Mante Group</td>\n",
       "      <td>misc_net</td>\n",
       "      <td>33.40</td>\n",
       "      <td>F</td>\n",
       "      <td>Immunologist</td>\n",
       "      <td>12/06/1972</td>\n",
       "      <td>47.118586</td>\n",
       "      <td>-86.219648</td>\n",
       "      <td>0</td>\n",
       "      <td>Wetmore, MI, 49895</td>\n",
       "      <td>46.3535, -86.6345</td>\n",
       "    </tr>\n",
       "    <tr>\n",
       "      <th>98771</th>\n",
       "      <td>3.567880e+15</td>\n",
       "      <td>fraud_Hickle Group</td>\n",
       "      <td>shopping_pos</td>\n",
       "      <td>30.28</td>\n",
       "      <td>F</td>\n",
       "      <td>Producer, radio</td>\n",
       "      <td>14/08/1958</td>\n",
       "      <td>44.702999</td>\n",
       "      <td>-75.915299</td>\n",
       "      <td>0</td>\n",
       "      <td>Brownville, NY, 13615</td>\n",
       "      <td>44.0577, -76.0196</td>\n",
       "    </tr>\n",
       "    <tr>\n",
       "      <th>31578</th>\n",
       "      <td>4.587580e+15</td>\n",
       "      <td>fraud_Reichert, Shanahan and Hayes</td>\n",
       "      <td>shopping_net</td>\n",
       "      <td>43.11</td>\n",
       "      <td>F</td>\n",
       "      <td>Financial trader</td>\n",
       "      <td>12/04/1976</td>\n",
       "      <td>43.566546</td>\n",
       "      <td>-70.051878</td>\n",
       "      <td>0</td>\n",
       "      <td>Nobleboro, ME, 4555</td>\n",
       "      <td>44.0943, -69.4828</td>\n",
       "    </tr>\n",
       "  </tbody>\n",
       "</table>\n",
       "</div>"
      ],
      "text/plain": [
       "              cc_num                            merchant      category  \\\n",
       "408756  3.586010e+15      fraud_O'Reilly, Mohr and Purdy          home   \n",
       "141814  2.224100e+15                      fraud_Cole PLC   grocery_pos   \n",
       "454418  6.304520e+11                   fraud_Mante Group      misc_net   \n",
       "98771   3.567880e+15                  fraud_Hickle Group  shopping_pos   \n",
       "31578   4.587580e+15  fraud_Reichert, Shanahan and Hayes  shopping_net   \n",
       "\n",
       "           amt gender               job         dob  merch_lat  merch_long  \\\n",
       "408756   17.20      F         Osteopath  29/02/1984  47.266159 -122.886556   \n",
       "141814  167.36      F   Naval architect  11/09/1963  31.223798  -81.559031   \n",
       "454418   33.40      F      Immunologist  12/06/1972  47.118586  -86.219648   \n",
       "98771    30.28      F   Producer, radio  14/08/1958  44.702999  -75.915299   \n",
       "31578    43.11      F  Financial trader  12/04/1976  43.566546  -70.051878   \n",
       "\n",
       "        is_fraud               location            lat_long  \n",
       "408756         0    Issaquah, WA, 98027  47.4974, -122.0107  \n",
       "141814         0   Kings Bay, GA, 31547   30.7906, -81.5607  \n",
       "454418         0     Wetmore, MI, 49895   46.3535, -86.6345  \n",
       "98771          0  Brownville, NY, 13615   44.0577, -76.0196  \n",
       "31578          0    Nobleboro, ME, 4555   44.0943, -69.4828  "
      ]
     },
     "execution_count": 22,
     "metadata": {},
     "output_type": "execute_result"
    }
   ],
   "source": [
    "merged_card_data['lat_long'] = merged_card_data['lat'].astype(str) + ', ' + merged_card_data['long'].astype(str)\n",
    "merged_card_data = merged_card_data.drop(['lat', 'long'], axis=1)\n",
    "merged_card_data.head()"
   ]
  },
  {
   "cell_type": "code",
   "execution_count": 23,
   "id": "4314adb8",
   "metadata": {},
   "outputs": [
    {
     "data": {
      "text/html": [
       "<div>\n",
       "<style scoped>\n",
       "    .dataframe tbody tr th:only-of-type {\n",
       "        vertical-align: middle;\n",
       "    }\n",
       "\n",
       "    .dataframe tbody tr th {\n",
       "        vertical-align: top;\n",
       "    }\n",
       "\n",
       "    .dataframe thead th {\n",
       "        text-align: right;\n",
       "    }\n",
       "</style>\n",
       "<table border=\"1\" class=\"dataframe\">\n",
       "  <thead>\n",
       "    <tr style=\"text-align: right;\">\n",
       "      <th></th>\n",
       "      <th>cc_num</th>\n",
       "      <th>merchant</th>\n",
       "      <th>category</th>\n",
       "      <th>amt</th>\n",
       "      <th>gender</th>\n",
       "      <th>job</th>\n",
       "      <th>dob</th>\n",
       "      <th>is_fraud</th>\n",
       "      <th>location</th>\n",
       "      <th>lat_long</th>\n",
       "      <th>merchant_lat_long</th>\n",
       "    </tr>\n",
       "  </thead>\n",
       "  <tbody>\n",
       "    <tr>\n",
       "      <th>408756</th>\n",
       "      <td>3.586010e+15</td>\n",
       "      <td>fraud_O'Reilly, Mohr and Purdy</td>\n",
       "      <td>home</td>\n",
       "      <td>17.20</td>\n",
       "      <td>F</td>\n",
       "      <td>Osteopath</td>\n",
       "      <td>29/02/1984</td>\n",
       "      <td>0</td>\n",
       "      <td>Issaquah, WA, 98027</td>\n",
       "      <td>47.4974, -122.0107</td>\n",
       "      <td>47.266159, -122.886556</td>\n",
       "    </tr>\n",
       "    <tr>\n",
       "      <th>141814</th>\n",
       "      <td>2.224100e+15</td>\n",
       "      <td>fraud_Cole PLC</td>\n",
       "      <td>grocery_pos</td>\n",
       "      <td>167.36</td>\n",
       "      <td>F</td>\n",
       "      <td>Naval architect</td>\n",
       "      <td>11/09/1963</td>\n",
       "      <td>0</td>\n",
       "      <td>Kings Bay, GA, 31547</td>\n",
       "      <td>30.7906, -81.5607</td>\n",
       "      <td>31.223798, -81.559031</td>\n",
       "    </tr>\n",
       "    <tr>\n",
       "      <th>454418</th>\n",
       "      <td>6.304520e+11</td>\n",
       "      <td>fraud_Mante Group</td>\n",
       "      <td>misc_net</td>\n",
       "      <td>33.40</td>\n",
       "      <td>F</td>\n",
       "      <td>Immunologist</td>\n",
       "      <td>12/06/1972</td>\n",
       "      <td>0</td>\n",
       "      <td>Wetmore, MI, 49895</td>\n",
       "      <td>46.3535, -86.6345</td>\n",
       "      <td>47.118586, -86.219648</td>\n",
       "    </tr>\n",
       "    <tr>\n",
       "      <th>98771</th>\n",
       "      <td>3.567880e+15</td>\n",
       "      <td>fraud_Hickle Group</td>\n",
       "      <td>shopping_pos</td>\n",
       "      <td>30.28</td>\n",
       "      <td>F</td>\n",
       "      <td>Producer, radio</td>\n",
       "      <td>14/08/1958</td>\n",
       "      <td>0</td>\n",
       "      <td>Brownville, NY, 13615</td>\n",
       "      <td>44.0577, -76.0196</td>\n",
       "      <td>44.702999, -75.915299</td>\n",
       "    </tr>\n",
       "    <tr>\n",
       "      <th>31578</th>\n",
       "      <td>4.587580e+15</td>\n",
       "      <td>fraud_Reichert, Shanahan and Hayes</td>\n",
       "      <td>shopping_net</td>\n",
       "      <td>43.11</td>\n",
       "      <td>F</td>\n",
       "      <td>Financial trader</td>\n",
       "      <td>12/04/1976</td>\n",
       "      <td>0</td>\n",
       "      <td>Nobleboro, ME, 4555</td>\n",
       "      <td>44.0943, -69.4828</td>\n",
       "      <td>43.566546, -70.051878</td>\n",
       "    </tr>\n",
       "  </tbody>\n",
       "</table>\n",
       "</div>"
      ],
      "text/plain": [
       "              cc_num                            merchant      category  \\\n",
       "408756  3.586010e+15      fraud_O'Reilly, Mohr and Purdy          home   \n",
       "141814  2.224100e+15                      fraud_Cole PLC   grocery_pos   \n",
       "454418  6.304520e+11                   fraud_Mante Group      misc_net   \n",
       "98771   3.567880e+15                  fraud_Hickle Group  shopping_pos   \n",
       "31578   4.587580e+15  fraud_Reichert, Shanahan and Hayes  shopping_net   \n",
       "\n",
       "           amt gender               job         dob  is_fraud  \\\n",
       "408756   17.20      F         Osteopath  29/02/1984         0   \n",
       "141814  167.36      F   Naval architect  11/09/1963         0   \n",
       "454418   33.40      F      Immunologist  12/06/1972         0   \n",
       "98771    30.28      F   Producer, radio  14/08/1958         0   \n",
       "31578    43.11      F  Financial trader  12/04/1976         0   \n",
       "\n",
       "                     location            lat_long       merchant_lat_long  \n",
       "408756    Issaquah, WA, 98027  47.4974, -122.0107  47.266159, -122.886556  \n",
       "141814   Kings Bay, GA, 31547   30.7906, -81.5607   31.223798, -81.559031  \n",
       "454418     Wetmore, MI, 49895   46.3535, -86.6345   47.118586, -86.219648  \n",
       "98771   Brownville, NY, 13615   44.0577, -76.0196   44.702999, -75.915299  \n",
       "31578     Nobleboro, ME, 4555   44.0943, -69.4828   43.566546, -70.051878  "
      ]
     },
     "execution_count": 23,
     "metadata": {},
     "output_type": "execute_result"
    }
   ],
   "source": [
    "merged_card_data['merchant_lat_long'] = merged_card_data['merch_lat'].astype(str) + ', ' + merged_card_data['merch_long'].astype(str)\n",
    "merged_card_data = merged_card_data.drop(['merch_lat', 'merch_long'], axis=1)\n",
    "merged_card_data.head()"
   ]
  },
  {
   "cell_type": "markdown",
   "id": "cea5f5bf",
   "metadata": {},
   "source": [
    "###### Label Encoder"
   ]
  },
  {
   "cell_type": "code",
   "execution_count": 24,
   "id": "2fd7331f",
   "metadata": {},
   "outputs": [],
   "source": [
    "from sklearn.preprocessing import LabelEncoder\n",
    "\n",
    "# Initialize LabelEncoder\n",
    "label_encoder = LabelEncoder()\n",
    "\n",
    "# Fit label encoder and return encoded labels\n",
    "merged_card_data['gender'] = label_encoder.fit_transform(merged_card_data['gender'])\n",
    "merged_card_data['job'] = label_encoder.fit_transform(merged_card_data['job'])\n",
    "merged_card_data['dob'] = label_encoder.fit_transform(merged_card_data['dob'])\n",
    "merged_card_data['cc_num'] = label_encoder.fit_transform(merged_card_data['cc_num'])\n",
    "merged_card_data['merchant'] = label_encoder.fit_transform(merged_card_data['merchant'])\n",
    "merged_card_data['category'] = label_encoder.fit_transform(merged_card_data['category'])\n",
    "merged_card_data['location'] = label_encoder.fit_transform(merged_card_data['location'])\n",
    "merged_card_data['lat_long'] = label_encoder.fit_transform(merged_card_data['lat_long'])\n",
    "merged_card_data['merchant_lat_long'] = label_encoder.fit_transform(merged_card_data['merchant_lat_long'])\n",
    "\n"
   ]
  },
  {
   "cell_type": "code",
   "execution_count": 25,
   "id": "f4636328",
   "metadata": {},
   "outputs": [
    {
     "data": {
      "text/html": [
       "<div>\n",
       "<style scoped>\n",
       "    .dataframe tbody tr th:only-of-type {\n",
       "        vertical-align: middle;\n",
       "    }\n",
       "\n",
       "    .dataframe tbody tr th {\n",
       "        vertical-align: top;\n",
       "    }\n",
       "\n",
       "    .dataframe thead th {\n",
       "        text-align: right;\n",
       "    }\n",
       "</style>\n",
       "<table border=\"1\" class=\"dataframe\">\n",
       "  <thead>\n",
       "    <tr style=\"text-align: right;\">\n",
       "      <th></th>\n",
       "      <th>cc_num</th>\n",
       "      <th>merchant</th>\n",
       "      <th>category</th>\n",
       "      <th>amt</th>\n",
       "      <th>gender</th>\n",
       "      <th>job</th>\n",
       "      <th>dob</th>\n",
       "      <th>is_fraud</th>\n",
       "      <th>location</th>\n",
       "      <th>lat_long</th>\n",
       "      <th>merchant_lat_long</th>\n",
       "    </tr>\n",
       "  </thead>\n",
       "  <tbody>\n",
       "    <tr>\n",
       "      <th>408756</th>\n",
       "      <td>498</td>\n",
       "      <td>457</td>\n",
       "      <td>6</td>\n",
       "      <td>17.20</td>\n",
       "      <td>0</td>\n",
       "      <td>295</td>\n",
       "      <td>735</td>\n",
       "      <td>0</td>\n",
       "      <td>361</td>\n",
       "      <td>788</td>\n",
       "      <td>4125</td>\n",
       "    </tr>\n",
       "    <tr>\n",
       "      <th>141814</th>\n",
       "      <td>325</td>\n",
       "      <td>94</td>\n",
       "      <td>4</td>\n",
       "      <td>167.36</td>\n",
       "      <td>0</td>\n",
       "      <td>280</td>\n",
       "      <td>267</td>\n",
       "      <td>0</td>\n",
       "      <td>381</td>\n",
       "      <td>57</td>\n",
       "      <td>313</td>\n",
       "    </tr>\n",
       "    <tr>\n",
       "      <th>454418</th>\n",
       "      <td>39</td>\n",
       "      <td>402</td>\n",
       "      <td>8</td>\n",
       "      <td>33.40</td>\n",
       "      <td>0</td>\n",
       "      <td>222</td>\n",
       "      <td>289</td>\n",
       "      <td>0</td>\n",
       "      <td>786</td>\n",
       "      <td>777</td>\n",
       "      <td>4115</td>\n",
       "    </tr>\n",
       "    <tr>\n",
       "      <th>98771</th>\n",
       "      <td>475</td>\n",
       "      <td>252</td>\n",
       "      <td>12</td>\n",
       "      <td>30.28</td>\n",
       "      <td>0</td>\n",
       "      <td>322</td>\n",
       "      <td>364</td>\n",
       "      <td>0</td>\n",
       "      <td>105</td>\n",
       "      <td>708</td>\n",
       "      <td>3804</td>\n",
       "    </tr>\n",
       "    <tr>\n",
       "      <th>31578</th>\n",
       "      <td>594</td>\n",
       "      <td>500</td>\n",
       "      <td>11</td>\n",
       "      <td>43.11</td>\n",
       "      <td>0</td>\n",
       "      <td>178</td>\n",
       "      <td>285</td>\n",
       "      <td>0</td>\n",
       "      <td>522</td>\n",
       "      <td>709</td>\n",
       "      <td>3588</td>\n",
       "    </tr>\n",
       "  </tbody>\n",
       "</table>\n",
       "</div>"
      ],
      "text/plain": [
       "        cc_num  merchant  category     amt  gender  job  dob  is_fraud  \\\n",
       "408756     498       457         6   17.20       0  295  735         0   \n",
       "141814     325        94         4  167.36       0  280  267         0   \n",
       "454418      39       402         8   33.40       0  222  289         0   \n",
       "98771      475       252        12   30.28       0  322  364         0   \n",
       "31578      594       500        11   43.11       0  178  285         0   \n",
       "\n",
       "        location  lat_long  merchant_lat_long  \n",
       "408756       361       788               4125  \n",
       "141814       381        57                313  \n",
       "454418       786       777               4115  \n",
       "98771        105       708               3804  \n",
       "31578        522       709               3588  "
      ]
     },
     "execution_count": 25,
     "metadata": {},
     "output_type": "execute_result"
    }
   ],
   "source": [
    "merged_card_data.head()"
   ]
  },
  {
   "cell_type": "markdown",
   "id": "78c49c56",
   "metadata": {},
   "source": [
    "###### Seperating features and labels"
   ]
  },
  {
   "cell_type": "code",
   "execution_count": 26,
   "id": "ae2c0335",
   "metadata": {},
   "outputs": [
    {
     "name": "stdout",
     "output_type": "stream",
     "text": [
      "        cc_num  merchant  category      amt  gender  job  dob  location  \\\n",
      "408756     498       457         6    17.20       0  295  735       361   \n",
      "141814     325        94         4   167.36       0  280  267       381   \n",
      "454418      39       402         8    33.40       0  222  289       786   \n",
      "98771      475       252        12    30.28       0  322  364       105   \n",
      "31578      594       500        11    43.11       0  178  285       522   \n",
      "...        ...       ...       ...      ...     ...  ...  ...       ...   \n",
      "517197     332       661        12  1041.51       1  103   65       669   \n",
      "517274     332       347        12   868.09       1  103   65       669   \n",
      "517341     332       439        11  1039.42       1  103   65       669   \n",
      "517529     332        29         4   289.27       1  103   65       669   \n",
      "517571     332       281         8   766.38       1  103   65       669   \n",
      "\n",
      "        lat_long  merchant_lat_long  \n",
      "408756       788               4125  \n",
      "141814        57                313  \n",
      "454418       777               4115  \n",
      "98771        708               3804  \n",
      "31578        709               3588  \n",
      "...          ...                ...  \n",
      "517197       190                978  \n",
      "517274       190                874  \n",
      "517341       190                992  \n",
      "517529       190               1029  \n",
      "517571       190                802  \n",
      "\n",
      "[4290 rows x 10 columns] 408756    0\n",
      "141814    0\n",
      "454418    0\n",
      "98771     0\n",
      "31578     0\n",
      "         ..\n",
      "517197    1\n",
      "517274    1\n",
      "517341    1\n",
      "517529    1\n",
      "517571    1\n",
      "Name: is_fraud, Length: 4290, dtype: int64\n"
     ]
    }
   ],
   "source": [
    "X = merged_card_data.drop(columns = 'is_fraud', axis = 1)\n",
    "Y = merged_card_data['is_fraud']\n",
    "print(X,Y)"
   ]
  },
  {
   "cell_type": "code",
   "execution_count": 27,
   "id": "708207cd",
   "metadata": {},
   "outputs": [
    {
     "data": {
      "text/plain": [
       "(4290, 10)"
      ]
     },
     "execution_count": 27,
     "metadata": {},
     "output_type": "execute_result"
    }
   ],
   "source": [
    "X.shape"
   ]
  },
  {
   "cell_type": "code",
   "execution_count": 28,
   "id": "d86ef371",
   "metadata": {},
   "outputs": [
    {
     "data": {
      "text/plain": [
       "(4290,)"
      ]
     },
     "execution_count": 28,
     "metadata": {},
     "output_type": "execute_result"
    }
   ],
   "source": [
    "Y.shape"
   ]
  },
  {
   "cell_type": "markdown",
   "id": "dbf7e6b2",
   "metadata": {},
   "source": [
    "###### Train Test Split"
   ]
  },
  {
   "cell_type": "code",
   "execution_count": 29,
   "id": "791c9dc4",
   "metadata": {},
   "outputs": [],
   "source": [
    "from sklearn.model_selection import train_test_split"
   ]
  },
  {
   "cell_type": "code",
   "execution_count": 30,
   "id": "7d630860",
   "metadata": {},
   "outputs": [],
   "source": [
    "X_train, X_test, Y_train, Y_test = train_test_split(X, Y, test_size = .2, stratify = Y)"
   ]
  },
  {
   "cell_type": "markdown",
   "id": "9e712a5b",
   "metadata": {},
   "source": [
    "###### StandardScaler"
   ]
  },
  {
   "cell_type": "code",
   "execution_count": 31,
   "id": "68eba155",
   "metadata": {},
   "outputs": [
    {
     "name": "stdout",
     "output_type": "stream",
     "text": [
      "(4290, 10) (3432, 10) (858, 10)\n"
     ]
    }
   ],
   "source": [
    "from sklearn.preprocessing import StandardScaler\n",
    "\n",
    "scaler = StandardScaler()\n",
    "X_train_scaled = scaler.fit_transform(X_train)\n",
    "X_test_scaled = scaler.transform(X_test)\n",
    "print(X.shape, X_train_scaled.shape, X_test_scaled.shape)"
   ]
  },
  {
   "cell_type": "markdown",
   "id": "3fe059f5",
   "metadata": {},
   "source": [
    "###### Building NN"
   ]
  },
  {
   "cell_type": "code",
   "execution_count": 32,
   "id": "971b6265",
   "metadata": {},
   "outputs": [],
   "source": [
    "#importing Tensorflow and Keras\n",
    "import tensorflow as tf\n",
    "from tensorflow import keras"
   ]
  },
  {
   "cell_type": "code",
   "execution_count": 33,
   "id": "c6782525",
   "metadata": {},
   "outputs": [
    {
     "name": "stderr",
     "output_type": "stream",
     "text": [
      "C:\\Users\\Zooby\\anaconda3\\lib\\site-packages\\keras\\src\\layers\\reshaping\\flatten.py:37: UserWarning: Do not pass an `input_shape`/`input_dim` argument to a layer. When using Sequential models, prefer using an `Input(shape)` object as the first layer in the model instead.\n",
      "  super().__init__(**kwargs)\n"
     ]
    },
    {
     "data": {
      "text/html": [
       "<pre style=\"white-space:pre;overflow-x:auto;line-height:normal;font-family:Menlo,'DejaVu Sans Mono',consolas,'Courier New',monospace\"><span style=\"font-weight: bold\">Model: \"sequential\"</span>\n",
       "</pre>\n"
      ],
      "text/plain": [
       "\u001b[1mModel: \"sequential\"\u001b[0m\n"
      ]
     },
     "metadata": {},
     "output_type": "display_data"
    },
    {
     "data": {
      "text/html": [
       "<pre style=\"white-space:pre;overflow-x:auto;line-height:normal;font-family:Menlo,'DejaVu Sans Mono',consolas,'Courier New',monospace\">┏━━━━━━━━━━━━━━━━━━━━━━━━━━━━━━━━━┳━━━━━━━━━━━━━━━━━━━━━━━━┳━━━━━━━━━━━━━━━┓\n",
       "┃<span style=\"font-weight: bold\"> Layer (type)                    </span>┃<span style=\"font-weight: bold\"> Output Shape           </span>┃<span style=\"font-weight: bold\">       Param # </span>┃\n",
       "┡━━━━━━━━━━━━━━━━━━━━━━━━━━━━━━━━━╇━━━━━━━━━━━━━━━━━━━━━━━━╇━━━━━━━━━━━━━━━┩\n",
       "│ flatten (<span style=\"color: #0087ff; text-decoration-color: #0087ff\">Flatten</span>)               │ (<span style=\"color: #00d7ff; text-decoration-color: #00d7ff\">None</span>, <span style=\"color: #00af00; text-decoration-color: #00af00\">10</span>)             │             <span style=\"color: #00af00; text-decoration-color: #00af00\">0</span> │\n",
       "├─────────────────────────────────┼────────────────────────┼───────────────┤\n",
       "│ dense (<span style=\"color: #0087ff; text-decoration-color: #0087ff\">Dense</span>)                   │ (<span style=\"color: #00d7ff; text-decoration-color: #00d7ff\">None</span>, <span style=\"color: #00af00; text-decoration-color: #00af00\">100</span>)            │         <span style=\"color: #00af00; text-decoration-color: #00af00\">1,100</span> │\n",
       "├─────────────────────────────────┼────────────────────────┼───────────────┤\n",
       "│ dropout (<span style=\"color: #0087ff; text-decoration-color: #0087ff\">Dropout</span>)               │ (<span style=\"color: #00d7ff; text-decoration-color: #00d7ff\">None</span>, <span style=\"color: #00af00; text-decoration-color: #00af00\">100</span>)            │             <span style=\"color: #00af00; text-decoration-color: #00af00\">0</span> │\n",
       "├─────────────────────────────────┼────────────────────────┼───────────────┤\n",
       "│ dense_1 (<span style=\"color: #0087ff; text-decoration-color: #0087ff\">Dense</span>)                 │ (<span style=\"color: #00d7ff; text-decoration-color: #00d7ff\">None</span>, <span style=\"color: #00af00; text-decoration-color: #00af00\">20</span>)             │         <span style=\"color: #00af00; text-decoration-color: #00af00\">2,020</span> │\n",
       "├─────────────────────────────────┼────────────────────────┼───────────────┤\n",
       "│ dropout_1 (<span style=\"color: #0087ff; text-decoration-color: #0087ff\">Dropout</span>)             │ (<span style=\"color: #00d7ff; text-decoration-color: #00d7ff\">None</span>, <span style=\"color: #00af00; text-decoration-color: #00af00\">20</span>)             │             <span style=\"color: #00af00; text-decoration-color: #00af00\">0</span> │\n",
       "├─────────────────────────────────┼────────────────────────┼───────────────┤\n",
       "│ dense_2 (<span style=\"color: #0087ff; text-decoration-color: #0087ff\">Dense</span>)                 │ (<span style=\"color: #00d7ff; text-decoration-color: #00d7ff\">None</span>, <span style=\"color: #00af00; text-decoration-color: #00af00\">2</span>)              │            <span style=\"color: #00af00; text-decoration-color: #00af00\">42</span> │\n",
       "└─────────────────────────────────┴────────────────────────┴───────────────┘\n",
       "</pre>\n"
      ],
      "text/plain": [
       "┏━━━━━━━━━━━━━━━━━━━━━━━━━━━━━━━━━┳━━━━━━━━━━━━━━━━━━━━━━━━┳━━━━━━━━━━━━━━━┓\n",
       "┃\u001b[1m \u001b[0m\u001b[1mLayer (type)                   \u001b[0m\u001b[1m \u001b[0m┃\u001b[1m \u001b[0m\u001b[1mOutput Shape          \u001b[0m\u001b[1m \u001b[0m┃\u001b[1m \u001b[0m\u001b[1m      Param #\u001b[0m\u001b[1m \u001b[0m┃\n",
       "┡━━━━━━━━━━━━━━━━━━━━━━━━━━━━━━━━━╇━━━━━━━━━━━━━━━━━━━━━━━━╇━━━━━━━━━━━━━━━┩\n",
       "│ flatten (\u001b[38;5;33mFlatten\u001b[0m)               │ (\u001b[38;5;45mNone\u001b[0m, \u001b[38;5;34m10\u001b[0m)             │             \u001b[38;5;34m0\u001b[0m │\n",
       "├─────────────────────────────────┼────────────────────────┼───────────────┤\n",
       "│ dense (\u001b[38;5;33mDense\u001b[0m)                   │ (\u001b[38;5;45mNone\u001b[0m, \u001b[38;5;34m100\u001b[0m)            │         \u001b[38;5;34m1,100\u001b[0m │\n",
       "├─────────────────────────────────┼────────────────────────┼───────────────┤\n",
       "│ dropout (\u001b[38;5;33mDropout\u001b[0m)               │ (\u001b[38;5;45mNone\u001b[0m, \u001b[38;5;34m100\u001b[0m)            │             \u001b[38;5;34m0\u001b[0m │\n",
       "├─────────────────────────────────┼────────────────────────┼───────────────┤\n",
       "│ dense_1 (\u001b[38;5;33mDense\u001b[0m)                 │ (\u001b[38;5;45mNone\u001b[0m, \u001b[38;5;34m20\u001b[0m)             │         \u001b[38;5;34m2,020\u001b[0m │\n",
       "├─────────────────────────────────┼────────────────────────┼───────────────┤\n",
       "│ dropout_1 (\u001b[38;5;33mDropout\u001b[0m)             │ (\u001b[38;5;45mNone\u001b[0m, \u001b[38;5;34m20\u001b[0m)             │             \u001b[38;5;34m0\u001b[0m │\n",
       "├─────────────────────────────────┼────────────────────────┼───────────────┤\n",
       "│ dense_2 (\u001b[38;5;33mDense\u001b[0m)                 │ (\u001b[38;5;45mNone\u001b[0m, \u001b[38;5;34m2\u001b[0m)              │            \u001b[38;5;34m42\u001b[0m │\n",
       "└─────────────────────────────────┴────────────────────────┴───────────────┘\n"
      ]
     },
     "metadata": {},
     "output_type": "display_data"
    },
    {
     "data": {
      "text/html": [
       "<pre style=\"white-space:pre;overflow-x:auto;line-height:normal;font-family:Menlo,'DejaVu Sans Mono',consolas,'Courier New',monospace\"><span style=\"font-weight: bold\"> Total params: </span><span style=\"color: #00af00; text-decoration-color: #00af00\">3,162</span> (12.35 KB)\n",
       "</pre>\n"
      ],
      "text/plain": [
       "\u001b[1m Total params: \u001b[0m\u001b[38;5;34m3,162\u001b[0m (12.35 KB)\n"
      ]
     },
     "metadata": {},
     "output_type": "display_data"
    },
    {
     "data": {
      "text/html": [
       "<pre style=\"white-space:pre;overflow-x:auto;line-height:normal;font-family:Menlo,'DejaVu Sans Mono',consolas,'Courier New',monospace\"><span style=\"font-weight: bold\"> Trainable params: </span><span style=\"color: #00af00; text-decoration-color: #00af00\">3,162</span> (12.35 KB)\n",
       "</pre>\n"
      ],
      "text/plain": [
       "\u001b[1m Trainable params: \u001b[0m\u001b[38;5;34m3,162\u001b[0m (12.35 KB)\n"
      ]
     },
     "metadata": {},
     "output_type": "display_data"
    },
    {
     "data": {
      "text/html": [
       "<pre style=\"white-space:pre;overflow-x:auto;line-height:normal;font-family:Menlo,'DejaVu Sans Mono',consolas,'Courier New',monospace\"><span style=\"font-weight: bold\"> Non-trainable params: </span><span style=\"color: #00af00; text-decoration-color: #00af00\">0</span> (0.00 B)\n",
       "</pre>\n"
      ],
      "text/plain": [
       "\u001b[1m Non-trainable params: \u001b[0m\u001b[38;5;34m0\u001b[0m (0.00 B)\n"
      ]
     },
     "metadata": {},
     "output_type": "display_data"
    }
   ],
   "source": [
    "#setting up layers of neural network\n",
    "model = keras.Sequential([\n",
    "    keras.layers.Flatten(input_shape = (10,)), \n",
    "    keras.layers.Dense(100, activation = 'relu', kernel_regularizer=tf.keras.regularizers.l2(0.01)),\n",
    "    tf.keras.layers.Dropout(0.5),\n",
    "    keras.layers.Dense(20, activation = 'relu', kernel_regularizer=tf.keras.regularizers.l2(0.01)),\n",
    "    tf.keras.layers.Dropout(0.5),\n",
    "    keras.layers.Dense(2, activation = 'sigmoid', kernel_regularizer=tf.keras.regularizers.l2(0.01))\n",
    "\n",
    "])\n",
    "# Print model summary\n",
    "model.summary()"
   ]
  },
  {
   "cell_type": "code",
   "execution_count": 34,
   "id": "22a9bb13",
   "metadata": {},
   "outputs": [],
   "source": [
    "model.compile(optimizer = 'adam',\n",
    "              loss = 'sparse_categorical_crossentropy',\n",
    "              metrics = ['accuracy']\n",
    "             )"
   ]
  },
  {
   "cell_type": "code",
   "execution_count": 35,
   "id": "7b61d1c1",
   "metadata": {},
   "outputs": [
    {
     "name": "stdout",
     "output_type": "stream",
     "text": [
      "Epoch 1/10\n",
      "\u001b[1m97/97\u001b[0m \u001b[32m━━━━━━━━━━━━━━━━━━━━\u001b[0m\u001b[37m\u001b[0m \u001b[1m1s\u001b[0m 2ms/step - accuracy: 0.5551 - loss: 1.2281 - val_accuracy: 0.7297 - val_loss: 0.9446\n",
      "Epoch 2/10\n",
      "\u001b[1m97/97\u001b[0m \u001b[32m━━━━━━━━━━━━━━━━━━━━\u001b[0m\u001b[37m\u001b[0m \u001b[1m0s\u001b[0m 868us/step - accuracy: 0.7048 - loss: 0.9192 - val_accuracy: 0.7791 - val_loss: 0.7969\n",
      "Epoch 3/10\n",
      "\u001b[1m97/97\u001b[0m \u001b[32m━━━━━━━━━━━━━━━━━━━━\u001b[0m\u001b[37m\u001b[0m \u001b[1m0s\u001b[0m 856us/step - accuracy: 0.7827 - loss: 0.7532 - val_accuracy: 0.8052 - val_loss: 0.7098\n",
      "Epoch 4/10\n",
      "\u001b[1m97/97\u001b[0m \u001b[32m━━━━━━━━━━━━━━━━━━━━\u001b[0m\u001b[37m\u001b[0m \u001b[1m0s\u001b[0m 857us/step - accuracy: 0.8175 - loss: 0.6611 - val_accuracy: 0.7994 - val_loss: 0.6534\n",
      "Epoch 5/10\n",
      "\u001b[1m97/97\u001b[0m \u001b[32m━━━━━━━━━━━━━━━━━━━━\u001b[0m\u001b[37m\u001b[0m \u001b[1m0s\u001b[0m 925us/step - accuracy: 0.8322 - loss: 0.6147 - val_accuracy: 0.8023 - val_loss: 0.6141\n",
      "Epoch 6/10\n",
      "\u001b[1m97/97\u001b[0m \u001b[32m━━━━━━━━━━━━━━━━━━━━\u001b[0m\u001b[37m\u001b[0m \u001b[1m0s\u001b[0m 904us/step - accuracy: 0.8484 - loss: 0.5604 - val_accuracy: 0.7994 - val_loss: 0.5846\n",
      "Epoch 7/10\n",
      "\u001b[1m97/97\u001b[0m \u001b[32m━━━━━━━━━━━━━━━━━━━━\u001b[0m\u001b[37m\u001b[0m \u001b[1m0s\u001b[0m 914us/step - accuracy: 0.8365 - loss: 0.5457 - val_accuracy: 0.7994 - val_loss: 0.5693\n",
      "Epoch 8/10\n",
      "\u001b[1m97/97\u001b[0m \u001b[32m━━━━━━━━━━━━━━━━━━━━\u001b[0m\u001b[37m\u001b[0m \u001b[1m0s\u001b[0m 904us/step - accuracy: 0.8457 - loss: 0.5109 - val_accuracy: 0.8052 - val_loss: 0.5527\n",
      "Epoch 9/10\n",
      "\u001b[1m97/97\u001b[0m \u001b[32m━━━━━━━━━━━━━━━━━━━━\u001b[0m\u001b[37m\u001b[0m \u001b[1m0s\u001b[0m 904us/step - accuracy: 0.8442 - loss: 0.4973 - val_accuracy: 0.7878 - val_loss: 0.5450\n",
      "Epoch 10/10\n",
      "\u001b[1m97/97\u001b[0m \u001b[32m━━━━━━━━━━━━━━━━━━━━\u001b[0m\u001b[37m\u001b[0m \u001b[1m0s\u001b[0m 862us/step - accuracy: 0.8478 - loss: 0.4960 - val_accuracy: 0.7994 - val_loss: 0.5346\n"
     ]
    }
   ],
   "source": [
    "history = model.fit(X_train_scaled, Y_train, validation_split= .1, epochs = 10) "
   ]
  },
  {
   "cell_type": "code",
   "execution_count": 36,
   "id": "0d041487",
   "metadata": {},
   "outputs": [
    {
     "name": "stdout",
     "output_type": "stream",
     "text": [
      "\u001b[1m27/27\u001b[0m \u001b[32m━━━━━━━━━━━━━━━━━━━━\u001b[0m\u001b[37m\u001b[0m \u001b[1m0s\u001b[0m 652us/step - accuracy: 0.8655 - loss: 0.4777\n",
      "Test Loss = 0.4739050269126892\n",
      "Test Accuracy = 0.8554778695106506\n"
     ]
    }
   ],
   "source": [
    "score, acc = model.evaluate(X_test_scaled, Y_test)\n",
    "print('Test Loss =', score)\n",
    "print('Test Accuracy =', acc)"
   ]
  },
  {
   "cell_type": "code",
   "execution_count": null,
   "id": "aa1d4756",
   "metadata": {},
   "outputs": [],
   "source": []
  },
  {
   "cell_type": "code",
   "execution_count": null,
   "id": "e0af4a0f",
   "metadata": {},
   "outputs": [],
   "source": []
  },
  {
   "cell_type": "code",
   "execution_count": null,
   "id": "e9bec196",
   "metadata": {},
   "outputs": [],
   "source": []
  },
  {
   "cell_type": "code",
   "execution_count": null,
   "id": "d9ce24ce",
   "metadata": {},
   "outputs": [],
   "source": []
  },
  {
   "cell_type": "markdown",
   "id": "9195ab6a",
   "metadata": {},
   "source": [
    "###### Building other ML models for better performance"
   ]
  },
  {
   "cell_type": "code",
   "execution_count": 37,
   "id": "4517d26d",
   "metadata": {},
   "outputs": [
    {
     "name": "stderr",
     "output_type": "stream",
     "text": [
      "C:\\Users\\Zooby\\anaconda3\\lib\\site-packages\\sklearn\\model_selection\\_search.py:292: UserWarning: The total space of parameters 20 is smaller than n_iter=30. Running 20 iterations. For exhaustive searches, use GridSearchCV.\n",
      "  warnings.warn(\n",
      "C:\\Users\\Zooby\\anaconda3\\lib\\site-packages\\sklearn\\model_selection\\_search.py:292: UserWarning: The total space of parameters 18 is smaller than n_iter=30. Running 18 iterations. For exhaustive searches, use GridSearchCV.\n",
      "  warnings.warn(\n"
     ]
    },
    {
     "name": "stdout",
     "output_type": "stream",
     "text": [
      "Logistic Regression Best Parameters (Fine Search): {'C': 0.01, 'penalty': 'l1', 'solver': 'saga'}\n",
      "XGBoost Best Parameters (Fine Search): {'colsample_bytree': 0.5, 'learning_rate': 0.2, 'max_depth': 5, 'min_child_weight': 3, 'n_estimators': 100, 'subsample': 1.0}\n",
      "SVM Best Parameters (Fine Search): {'C': 1, 'gamma': 0.1, 'kernel': 'rbf'}\n",
      "Best Model Train Accuracy (Fine Search): 0.9947552447552448\n",
      "Best Model Test Accuracy (Fine Search): 0.9627039627039627\n"
     ]
    }
   ],
   "source": [
    "from sklearn.linear_model import LogisticRegression\n",
    "from xgboost import XGBClassifier\n",
    "from sklearn.metrics import accuracy_score, precision_score, recall_score, f1_score, roc_auc_score, confusion_matrix \n",
    "from sklearn import svm\n",
    "from sklearn.model_selection import GridSearchCV, RandomizedSearchCV\n",
    "\n",
    "# Define parameter grids for randomized search (coarse search)\n",
    "logistic_param_grid_coarse = {\n",
    "    'penalty': ['l1', 'l2'],\n",
    "    'C': [0.01, 0.1, 1, 10, 100],\n",
    "    'solver': ['liblinear', 'saga']\n",
    "}\n",
    "\n",
    "xgboost_param_grid_coarse = {\n",
    "    'learning_rate': [0.01, 0.1, 0.2],\n",
    "    'n_estimators': [50, 100, 200],\n",
    "    'max_depth': [3, 5, 7],\n",
    "    'min_child_weight': [1, 3, 5],\n",
    "    'subsample': [0.5, 0.8, 1.0],\n",
    "    'colsample_bytree': [0.5, 0.8, 1.0]\n",
    "}\n",
    "\n",
    "svm_param_grid_coarse = {\n",
    "    'C': [0.1, 1, 10],\n",
    "    'gamma': [0.01, 0.1, 1],\n",
    "    'kernel': ['linear', 'rbf']\n",
    "}\n",
    "\n",
    "# RandomizedSearchCV for each model (coarse search)\n",
    "logistic_random_search_coarse = RandomizedSearchCV(LogisticRegression(), logistic_param_grid_coarse, n_iter=30, cv=5, n_jobs=-1)\n",
    "xgboost_random_search_coarse = RandomizedSearchCV(XGBClassifier(objective='binary:logistic'), xgboost_param_grid_coarse, n_iter=30, cv=5, n_jobs=-1)\n",
    "svm_random_search_coarse = RandomizedSearchCV(svm.SVC(), svm_param_grid_coarse, n_iter=30, cv=5, n_jobs=-1)\n",
    "\n",
    "# Fit models using RandomizedSearchCV (coarse search)\n",
    "logistic_random_search_coarse.fit(X_train_scaled, Y_train)\n",
    "xgboost_random_search_coarse.fit(X_train_scaled, Y_train)\n",
    "svm_random_search_coarse.fit(X_train_scaled, Y_train)\n",
    "\n",
    "# Get best hyperparameters from RandomizedSearchCV (coarse search)\n",
    "best_logistic_params_coarse = logistic_random_search_coarse.best_params_\n",
    "best_xgboost_params_coarse = xgboost_random_search_coarse.best_params_\n",
    "best_svm_params_coarse = svm_random_search_coarse.best_params_\n",
    "\n",
    "# Define parameter grids for GridSearchCV (fine search)\n",
    "logistic_param_grid_fine = {\n",
    "    'penalty': [best_logistic_params_coarse['penalty']],\n",
    "    'C': [best_logistic_params_coarse['C'] * i for i in [0.1, 1, 10]],\n",
    "    'solver': [best_logistic_params_coarse['solver']]\n",
    "}\n",
    "\n",
    "xgboost_param_grid_fine = {\n",
    "    'learning_rate': [best_xgboost_params_coarse['learning_rate'] * i for i in [0.5, 1, 2]],\n",
    "    'n_estimators': [best_xgboost_params_coarse['n_estimators']],\n",
    "    'max_depth': [best_xgboost_params_coarse['max_depth']],\n",
    "    'min_child_weight': [best_xgboost_params_coarse['min_child_weight']],\n",
    "    'subsample': [best_xgboost_params_coarse['subsample']],\n",
    "    'colsample_bytree': [best_xgboost_params_coarse['colsample_bytree']]\n",
    "}\n",
    "\n",
    "svm_param_grid_fine = {\n",
    "    'C': [best_svm_params_coarse['C'] * i for i in [0.1, 1, 10]],\n",
    "    'gamma': [best_svm_params_coarse['gamma'] * i for i in [0.1, 1, 10]],\n",
    "    'kernel': [best_svm_params_coarse['kernel']]\n",
    "}\n",
    "\n",
    "# GridSearchCV for each model (fine search)\n",
    "logistic_grid_search_fine = GridSearchCV(LogisticRegression(), param_grid=logistic_param_grid_fine, cv=5, n_jobs=-1)\n",
    "xgboost_grid_search_fine = GridSearchCV(XGBClassifier(objective='binary:logistic'), param_grid=xgboost_param_grid_fine, cv=5, n_jobs=-1)\n",
    "svm_grid_search_fine = GridSearchCV(svm.SVC(), param_grid=svm_param_grid_fine, cv=5, n_jobs=-1)\n",
    "\n",
    "# Fit models using GridSearchCV (fine search)\n",
    "logistic_grid_search_fine.fit(X_train_scaled, Y_train)\n",
    "xgboost_grid_search_fine.fit(X_train_scaled, Y_train)\n",
    "svm_grid_search_fine.fit(X_train_scaled, Y_train)\n",
    "\n",
    "# Print best hyperparameters from GridSearchCV (fine search)\n",
    "print(\"Logistic Regression Best Parameters (Fine Search):\", logistic_grid_search_fine.best_params_)\n",
    "print(\"XGBoost Best Parameters (Fine Search):\", xgboost_grid_search_fine.best_params_)\n",
    "print(\"SVM Best Parameters (Fine Search):\", svm_grid_search_fine.best_params_)\n",
    "\n",
    "# Compare cross-validated scores of each model\n",
    "logistic_cv_score_fine = logistic_grid_search_fine.best_score_\n",
    "xgboost_cv_score_fine = xgboost_grid_search_fine.best_score_\n",
    "svm_cv_score_fine = svm_grid_search_fine.best_score_\n",
    "\n",
    "# Select the best model based on cross-validated scores\n",
    "best_model_fine = None\n",
    "if logistic_cv_score_fine >= xgboost_cv_score_fine and logistic_cv_score_fine >= svm_cv_score_fine:\n",
    "    best_model_fine = logistic_grid_search_fine.best_estimator_\n",
    "elif xgboost_cv_score_fine >= logistic_cv_score_fine and xgboost_cv_score_fine >= svm_cv_score_fine:\n",
    "    best_model_fine = xgboost_grid_search_fine.best_estimator_\n",
    "else:\n",
    "    best_model_fine = svm_grid_search_fine.best_estimator_\n",
    "\n",
    "# Evaluate the best model on the test set\n",
    "train_accuracy_fine = best_model_fine.score(X_train_scaled, Y_train)\n",
    "print(\"Best Model Train Accuracy (Fine Search):\", train_accuracy_fine)\n",
    "test_accuracy_fine = best_model_fine.score(X_test_scaled, Y_test)\n",
    "print(\"Best Model Test Accuracy (Fine Search):\", test_accuracy_fine)\n",
    "\n",
    "\n"
   ]
  },
  {
   "cell_type": "code",
   "execution_count": 38,
   "id": "f34dd557",
   "metadata": {},
   "outputs": [
    {
     "name": "stdout",
     "output_type": "stream",
     "text": [
      "Accuracy: 0.9627039627039627\n",
      "Precision: 0.9627039627039627\n",
      "Recall: 0.9627039627039627\n",
      "F1 Score: 0.9627039627039627\n",
      "ROC AUC Score: 0.9929798251476574\n",
      "Confusion Matrix:\n",
      "[[413  16]\n",
      " [ 16 413]]\n"
     ]
    }
   ],
   "source": [
    "y_pred = best_model_fine.predict(X_test_scaled)\n",
    "\n",
    "# Calculate evaluation metrics\n",
    "accuracy = accuracy_score(Y_test, y_pred)\n",
    "precision = precision_score(Y_test, y_pred)\n",
    "recall = recall_score(Y_test, y_pred)\n",
    "f1 = f1_score(Y_test, y_pred)\n",
    "roc_auc = roc_auc_score(Y_test, best_model_fine.predict_proba(X_test_scaled)[:, 1])\n",
    "conf_matrix = confusion_matrix(Y_test, y_pred)\n",
    "\n",
    "# Print the results\n",
    "print(\"Accuracy:\", accuracy)\n",
    "print(\"Precision:\", precision)\n",
    "print(\"Recall:\", recall)\n",
    "print(\"F1 Score:\", f1)\n",
    "print(\"ROC AUC Score:\", roc_auc)\n",
    "print(\"Confusion Matrix:\")\n",
    "print(conf_matrix)"
   ]
  },
  {
   "cell_type": "markdown",
   "id": "0e2b6566",
   "metadata": {},
   "source": [
    "# Final Notes:"
   ]
  },
  {
   "cell_type": "markdown",
   "id": "b1c5a251",
   "metadata": {},
   "source": [
    "Neural Network model accuracy on validation set: 86%\n",
    "\n",
    "ML best model using GridSearchCV accuracy on test set: 96%"
   ]
  },
  {
   "cell_type": "code",
   "execution_count": null,
   "id": "55d788e2",
   "metadata": {},
   "outputs": [],
   "source": []
  }
 ],
 "metadata": {
  "kernelspec": {
   "display_name": "Python 3 (ipykernel)",
   "language": "python",
   "name": "python3"
  },
  "language_info": {
   "codemirror_mode": {
    "name": "ipython",
    "version": 3
   },
   "file_extension": ".py",
   "mimetype": "text/x-python",
   "name": "python",
   "nbconvert_exporter": "python",
   "pygments_lexer": "ipython3",
   "version": "3.9.13"
  }
 },
 "nbformat": 4,
 "nbformat_minor": 5
}
