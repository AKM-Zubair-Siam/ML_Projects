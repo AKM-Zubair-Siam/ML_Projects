{
 "cells": [
  {
   "cell_type": "code",
   "execution_count": 1,
   "id": "e33a7152",
   "metadata": {},
   "outputs": [],
   "source": [
    "import numpy as np\n",
    "import pandas as pd"
   ]
  },
  {
   "cell_type": "code",
   "execution_count": 2,
   "id": "a5ce8ecb",
   "metadata": {},
   "outputs": [],
   "source": [
    "data = pd.read_csv(\"fraud test.csv\")"
   ]
  },
  {
   "cell_type": "code",
   "execution_count": 3,
   "id": "45924161",
   "metadata": {},
   "outputs": [
    {
     "data": {
      "text/html": [
       "<div>\n",
       "<style scoped>\n",
       "    .dataframe tbody tr th:only-of-type {\n",
       "        vertical-align: middle;\n",
       "    }\n",
       "\n",
       "    .dataframe tbody tr th {\n",
       "        vertical-align: top;\n",
       "    }\n",
       "\n",
       "    .dataframe thead th {\n",
       "        text-align: right;\n",
       "    }\n",
       "</style>\n",
       "<table border=\"1\" class=\"dataframe\">\n",
       "  <thead>\n",
       "    <tr style=\"text-align: right;\">\n",
       "      <th></th>\n",
       "      <th>Unnamed: 0</th>\n",
       "      <th>trans_date_trans_time</th>\n",
       "      <th>cc_num</th>\n",
       "      <th>merchant</th>\n",
       "      <th>category</th>\n",
       "      <th>amt</th>\n",
       "      <th>first</th>\n",
       "      <th>last</th>\n",
       "      <th>gender</th>\n",
       "      <th>street</th>\n",
       "      <th>...</th>\n",
       "      <th>lat</th>\n",
       "      <th>long</th>\n",
       "      <th>city_pop</th>\n",
       "      <th>job</th>\n",
       "      <th>dob</th>\n",
       "      <th>trans_num</th>\n",
       "      <th>unix_time</th>\n",
       "      <th>merch_lat</th>\n",
       "      <th>merch_long</th>\n",
       "      <th>is_fraud</th>\n",
       "    </tr>\n",
       "  </thead>\n",
       "  <tbody>\n",
       "    <tr>\n",
       "      <th>0</th>\n",
       "      <td>0</td>\n",
       "      <td>21/06/2020 12:14</td>\n",
       "      <td>2.291160e+15</td>\n",
       "      <td>fraud_Kirlin and Sons</td>\n",
       "      <td>personal_care</td>\n",
       "      <td>2.86</td>\n",
       "      <td>Jeff</td>\n",
       "      <td>Elliott</td>\n",
       "      <td>M</td>\n",
       "      <td>351 Darlene Green</td>\n",
       "      <td>...</td>\n",
       "      <td>33.9659</td>\n",
       "      <td>-80.9355</td>\n",
       "      <td>333497</td>\n",
       "      <td>Mechanical engineer</td>\n",
       "      <td>19/03/1968</td>\n",
       "      <td>2da90c7d74bd46a0caf3777415b3ebd3</td>\n",
       "      <td>1371816865</td>\n",
       "      <td>33.986391</td>\n",
       "      <td>-81.200714</td>\n",
       "      <td>0</td>\n",
       "    </tr>\n",
       "    <tr>\n",
       "      <th>1</th>\n",
       "      <td>1</td>\n",
       "      <td>21/06/2020 12:14</td>\n",
       "      <td>3.573030e+15</td>\n",
       "      <td>fraud_Sporer-Keebler</td>\n",
       "      <td>personal_care</td>\n",
       "      <td>29.84</td>\n",
       "      <td>Joanne</td>\n",
       "      <td>Williams</td>\n",
       "      <td>F</td>\n",
       "      <td>3638 Marsh Union</td>\n",
       "      <td>...</td>\n",
       "      <td>40.3207</td>\n",
       "      <td>-110.4360</td>\n",
       "      <td>302</td>\n",
       "      <td>Sales professional, IT</td>\n",
       "      <td>17/01/1990</td>\n",
       "      <td>324cc204407e99f51b0d6ca0055005e7</td>\n",
       "      <td>1371816873</td>\n",
       "      <td>39.450498</td>\n",
       "      <td>-109.960431</td>\n",
       "      <td>0</td>\n",
       "    </tr>\n",
       "    <tr>\n",
       "      <th>2</th>\n",
       "      <td>2</td>\n",
       "      <td>21/06/2020 12:14</td>\n",
       "      <td>3.598220e+15</td>\n",
       "      <td>fraud_Swaniawski, Nitzsche and Welch</td>\n",
       "      <td>health_fitness</td>\n",
       "      <td>41.28</td>\n",
       "      <td>Ashley</td>\n",
       "      <td>Lopez</td>\n",
       "      <td>F</td>\n",
       "      <td>9333 Valentine Point</td>\n",
       "      <td>...</td>\n",
       "      <td>40.6729</td>\n",
       "      <td>-73.5365</td>\n",
       "      <td>34496</td>\n",
       "      <td>Librarian, public</td>\n",
       "      <td>21/10/1970</td>\n",
       "      <td>c81755dbbbea9d5c77f094348a7579be</td>\n",
       "      <td>1371816893</td>\n",
       "      <td>40.495810</td>\n",
       "      <td>-74.196111</td>\n",
       "      <td>0</td>\n",
       "    </tr>\n",
       "    <tr>\n",
       "      <th>3</th>\n",
       "      <td>3</td>\n",
       "      <td>21/06/2020 12:15</td>\n",
       "      <td>3.591920e+15</td>\n",
       "      <td>fraud_Haley Group</td>\n",
       "      <td>misc_pos</td>\n",
       "      <td>60.05</td>\n",
       "      <td>Brian</td>\n",
       "      <td>Williams</td>\n",
       "      <td>M</td>\n",
       "      <td>32941 Krystal Mill Apt. 552</td>\n",
       "      <td>...</td>\n",
       "      <td>28.5697</td>\n",
       "      <td>-80.8191</td>\n",
       "      <td>54767</td>\n",
       "      <td>Set designer</td>\n",
       "      <td>25/07/1987</td>\n",
       "      <td>2159175b9efe66dc301f149d3d5abf8c</td>\n",
       "      <td>1371816915</td>\n",
       "      <td>28.812398</td>\n",
       "      <td>-80.883061</td>\n",
       "      <td>0</td>\n",
       "    </tr>\n",
       "    <tr>\n",
       "      <th>4</th>\n",
       "      <td>4</td>\n",
       "      <td>21/06/2020 12:15</td>\n",
       "      <td>3.526830e+15</td>\n",
       "      <td>fraud_Johnston-Casper</td>\n",
       "      <td>travel</td>\n",
       "      <td>3.19</td>\n",
       "      <td>Nathan</td>\n",
       "      <td>Massey</td>\n",
       "      <td>M</td>\n",
       "      <td>5783 Evan Roads Apt. 465</td>\n",
       "      <td>...</td>\n",
       "      <td>44.2529</td>\n",
       "      <td>-85.0170</td>\n",
       "      <td>1126</td>\n",
       "      <td>Furniture designer</td>\n",
       "      <td>06/07/1955</td>\n",
       "      <td>57ff021bd3f328f8738bb535c302a31b</td>\n",
       "      <td>1371816917</td>\n",
       "      <td>44.959148</td>\n",
       "      <td>-85.884734</td>\n",
       "      <td>0</td>\n",
       "    </tr>\n",
       "  </tbody>\n",
       "</table>\n",
       "<p>5 rows × 23 columns</p>\n",
       "</div>"
      ],
      "text/plain": [
       "   Unnamed: 0 trans_date_trans_time        cc_num  \\\n",
       "0           0      21/06/2020 12:14  2.291160e+15   \n",
       "1           1      21/06/2020 12:14  3.573030e+15   \n",
       "2           2      21/06/2020 12:14  3.598220e+15   \n",
       "3           3      21/06/2020 12:15  3.591920e+15   \n",
       "4           4      21/06/2020 12:15  3.526830e+15   \n",
       "\n",
       "                               merchant        category    amt   first  \\\n",
       "0                 fraud_Kirlin and Sons   personal_care   2.86    Jeff   \n",
       "1                  fraud_Sporer-Keebler   personal_care  29.84  Joanne   \n",
       "2  fraud_Swaniawski, Nitzsche and Welch  health_fitness  41.28  Ashley   \n",
       "3                     fraud_Haley Group        misc_pos  60.05   Brian   \n",
       "4                 fraud_Johnston-Casper          travel   3.19  Nathan   \n",
       "\n",
       "       last gender                       street  ...      lat      long  \\\n",
       "0   Elliott      M            351 Darlene Green  ...  33.9659  -80.9355   \n",
       "1  Williams      F             3638 Marsh Union  ...  40.3207 -110.4360   \n",
       "2     Lopez      F         9333 Valentine Point  ...  40.6729  -73.5365   \n",
       "3  Williams      M  32941 Krystal Mill Apt. 552  ...  28.5697  -80.8191   \n",
       "4    Massey      M     5783 Evan Roads Apt. 465  ...  44.2529  -85.0170   \n",
       "\n",
       "   city_pop                     job         dob  \\\n",
       "0    333497     Mechanical engineer  19/03/1968   \n",
       "1       302  Sales professional, IT  17/01/1990   \n",
       "2     34496       Librarian, public  21/10/1970   \n",
       "3     54767            Set designer  25/07/1987   \n",
       "4      1126      Furniture designer  06/07/1955   \n",
       "\n",
       "                          trans_num   unix_time  merch_lat  merch_long  \\\n",
       "0  2da90c7d74bd46a0caf3777415b3ebd3  1371816865  33.986391  -81.200714   \n",
       "1  324cc204407e99f51b0d6ca0055005e7  1371816873  39.450498 -109.960431   \n",
       "2  c81755dbbbea9d5c77f094348a7579be  1371816893  40.495810  -74.196111   \n",
       "3  2159175b9efe66dc301f149d3d5abf8c  1371816915  28.812398  -80.883061   \n",
       "4  57ff021bd3f328f8738bb535c302a31b  1371816917  44.959148  -85.884734   \n",
       "\n",
       "   is_fraud  \n",
       "0         0  \n",
       "1         0  \n",
       "2         0  \n",
       "3         0  \n",
       "4         0  \n",
       "\n",
       "[5 rows x 23 columns]"
      ]
     },
     "execution_count": 3,
     "metadata": {},
     "output_type": "execute_result"
    }
   ],
   "source": [
    "data.head()"
   ]
  },
  {
   "cell_type": "code",
   "execution_count": 4,
   "id": "06345bf3",
   "metadata": {},
   "outputs": [],
   "source": [
    "data = data.loc[:, ~data.columns.str.contains('^Unnamed')]"
   ]
  },
  {
   "cell_type": "code",
   "execution_count": 5,
   "id": "bb2e5acc",
   "metadata": {},
   "outputs": [
    {
     "data": {
      "text/html": [
       "<div>\n",
       "<style scoped>\n",
       "    .dataframe tbody tr th:only-of-type {\n",
       "        vertical-align: middle;\n",
       "    }\n",
       "\n",
       "    .dataframe tbody tr th {\n",
       "        vertical-align: top;\n",
       "    }\n",
       "\n",
       "    .dataframe thead th {\n",
       "        text-align: right;\n",
       "    }\n",
       "</style>\n",
       "<table border=\"1\" class=\"dataframe\">\n",
       "  <thead>\n",
       "    <tr style=\"text-align: right;\">\n",
       "      <th></th>\n",
       "      <th>trans_date_trans_time</th>\n",
       "      <th>cc_num</th>\n",
       "      <th>merchant</th>\n",
       "      <th>category</th>\n",
       "      <th>amt</th>\n",
       "      <th>first</th>\n",
       "      <th>last</th>\n",
       "      <th>gender</th>\n",
       "      <th>street</th>\n",
       "      <th>city</th>\n",
       "      <th>...</th>\n",
       "      <th>lat</th>\n",
       "      <th>long</th>\n",
       "      <th>city_pop</th>\n",
       "      <th>job</th>\n",
       "      <th>dob</th>\n",
       "      <th>trans_num</th>\n",
       "      <th>unix_time</th>\n",
       "      <th>merch_lat</th>\n",
       "      <th>merch_long</th>\n",
       "      <th>is_fraud</th>\n",
       "    </tr>\n",
       "  </thead>\n",
       "  <tbody>\n",
       "    <tr>\n",
       "      <th>0</th>\n",
       "      <td>21/06/2020 12:14</td>\n",
       "      <td>2.291160e+15</td>\n",
       "      <td>fraud_Kirlin and Sons</td>\n",
       "      <td>personal_care</td>\n",
       "      <td>2.86</td>\n",
       "      <td>Jeff</td>\n",
       "      <td>Elliott</td>\n",
       "      <td>M</td>\n",
       "      <td>351 Darlene Green</td>\n",
       "      <td>Columbia</td>\n",
       "      <td>...</td>\n",
       "      <td>33.9659</td>\n",
       "      <td>-80.9355</td>\n",
       "      <td>333497</td>\n",
       "      <td>Mechanical engineer</td>\n",
       "      <td>19/03/1968</td>\n",
       "      <td>2da90c7d74bd46a0caf3777415b3ebd3</td>\n",
       "      <td>1371816865</td>\n",
       "      <td>33.986391</td>\n",
       "      <td>-81.200714</td>\n",
       "      <td>0</td>\n",
       "    </tr>\n",
       "    <tr>\n",
       "      <th>1</th>\n",
       "      <td>21/06/2020 12:14</td>\n",
       "      <td>3.573030e+15</td>\n",
       "      <td>fraud_Sporer-Keebler</td>\n",
       "      <td>personal_care</td>\n",
       "      <td>29.84</td>\n",
       "      <td>Joanne</td>\n",
       "      <td>Williams</td>\n",
       "      <td>F</td>\n",
       "      <td>3638 Marsh Union</td>\n",
       "      <td>Altonah</td>\n",
       "      <td>...</td>\n",
       "      <td>40.3207</td>\n",
       "      <td>-110.4360</td>\n",
       "      <td>302</td>\n",
       "      <td>Sales professional, IT</td>\n",
       "      <td>17/01/1990</td>\n",
       "      <td>324cc204407e99f51b0d6ca0055005e7</td>\n",
       "      <td>1371816873</td>\n",
       "      <td>39.450498</td>\n",
       "      <td>-109.960431</td>\n",
       "      <td>0</td>\n",
       "    </tr>\n",
       "    <tr>\n",
       "      <th>2</th>\n",
       "      <td>21/06/2020 12:14</td>\n",
       "      <td>3.598220e+15</td>\n",
       "      <td>fraud_Swaniawski, Nitzsche and Welch</td>\n",
       "      <td>health_fitness</td>\n",
       "      <td>41.28</td>\n",
       "      <td>Ashley</td>\n",
       "      <td>Lopez</td>\n",
       "      <td>F</td>\n",
       "      <td>9333 Valentine Point</td>\n",
       "      <td>Bellmore</td>\n",
       "      <td>...</td>\n",
       "      <td>40.6729</td>\n",
       "      <td>-73.5365</td>\n",
       "      <td>34496</td>\n",
       "      <td>Librarian, public</td>\n",
       "      <td>21/10/1970</td>\n",
       "      <td>c81755dbbbea9d5c77f094348a7579be</td>\n",
       "      <td>1371816893</td>\n",
       "      <td>40.495810</td>\n",
       "      <td>-74.196111</td>\n",
       "      <td>0</td>\n",
       "    </tr>\n",
       "    <tr>\n",
       "      <th>3</th>\n",
       "      <td>21/06/2020 12:15</td>\n",
       "      <td>3.591920e+15</td>\n",
       "      <td>fraud_Haley Group</td>\n",
       "      <td>misc_pos</td>\n",
       "      <td>60.05</td>\n",
       "      <td>Brian</td>\n",
       "      <td>Williams</td>\n",
       "      <td>M</td>\n",
       "      <td>32941 Krystal Mill Apt. 552</td>\n",
       "      <td>Titusville</td>\n",
       "      <td>...</td>\n",
       "      <td>28.5697</td>\n",
       "      <td>-80.8191</td>\n",
       "      <td>54767</td>\n",
       "      <td>Set designer</td>\n",
       "      <td>25/07/1987</td>\n",
       "      <td>2159175b9efe66dc301f149d3d5abf8c</td>\n",
       "      <td>1371816915</td>\n",
       "      <td>28.812398</td>\n",
       "      <td>-80.883061</td>\n",
       "      <td>0</td>\n",
       "    </tr>\n",
       "    <tr>\n",
       "      <th>4</th>\n",
       "      <td>21/06/2020 12:15</td>\n",
       "      <td>3.526830e+15</td>\n",
       "      <td>fraud_Johnston-Casper</td>\n",
       "      <td>travel</td>\n",
       "      <td>3.19</td>\n",
       "      <td>Nathan</td>\n",
       "      <td>Massey</td>\n",
       "      <td>M</td>\n",
       "      <td>5783 Evan Roads Apt. 465</td>\n",
       "      <td>Falmouth</td>\n",
       "      <td>...</td>\n",
       "      <td>44.2529</td>\n",
       "      <td>-85.0170</td>\n",
       "      <td>1126</td>\n",
       "      <td>Furniture designer</td>\n",
       "      <td>06/07/1955</td>\n",
       "      <td>57ff021bd3f328f8738bb535c302a31b</td>\n",
       "      <td>1371816917</td>\n",
       "      <td>44.959148</td>\n",
       "      <td>-85.884734</td>\n",
       "      <td>0</td>\n",
       "    </tr>\n",
       "  </tbody>\n",
       "</table>\n",
       "<p>5 rows × 22 columns</p>\n",
       "</div>"
      ],
      "text/plain": [
       "  trans_date_trans_time        cc_num                              merchant  \\\n",
       "0      21/06/2020 12:14  2.291160e+15                 fraud_Kirlin and Sons   \n",
       "1      21/06/2020 12:14  3.573030e+15                  fraud_Sporer-Keebler   \n",
       "2      21/06/2020 12:14  3.598220e+15  fraud_Swaniawski, Nitzsche and Welch   \n",
       "3      21/06/2020 12:15  3.591920e+15                     fraud_Haley Group   \n",
       "4      21/06/2020 12:15  3.526830e+15                 fraud_Johnston-Casper   \n",
       "\n",
       "         category    amt   first      last gender  \\\n",
       "0   personal_care   2.86    Jeff   Elliott      M   \n",
       "1   personal_care  29.84  Joanne  Williams      F   \n",
       "2  health_fitness  41.28  Ashley     Lopez      F   \n",
       "3        misc_pos  60.05   Brian  Williams      M   \n",
       "4          travel   3.19  Nathan    Massey      M   \n",
       "\n",
       "                        street        city  ...      lat      long  city_pop  \\\n",
       "0            351 Darlene Green    Columbia  ...  33.9659  -80.9355    333497   \n",
       "1             3638 Marsh Union     Altonah  ...  40.3207 -110.4360       302   \n",
       "2         9333 Valentine Point    Bellmore  ...  40.6729  -73.5365     34496   \n",
       "3  32941 Krystal Mill Apt. 552  Titusville  ...  28.5697  -80.8191     54767   \n",
       "4     5783 Evan Roads Apt. 465    Falmouth  ...  44.2529  -85.0170      1126   \n",
       "\n",
       "                      job         dob                         trans_num  \\\n",
       "0     Mechanical engineer  19/03/1968  2da90c7d74bd46a0caf3777415b3ebd3   \n",
       "1  Sales professional, IT  17/01/1990  324cc204407e99f51b0d6ca0055005e7   \n",
       "2       Librarian, public  21/10/1970  c81755dbbbea9d5c77f094348a7579be   \n",
       "3            Set designer  25/07/1987  2159175b9efe66dc301f149d3d5abf8c   \n",
       "4      Furniture designer  06/07/1955  57ff021bd3f328f8738bb535c302a31b   \n",
       "\n",
       "    unix_time  merch_lat  merch_long  is_fraud  \n",
       "0  1371816865  33.986391  -81.200714         0  \n",
       "1  1371816873  39.450498 -109.960431         0  \n",
       "2  1371816893  40.495810  -74.196111         0  \n",
       "3  1371816915  28.812398  -80.883061         0  \n",
       "4  1371816917  44.959148  -85.884734         0  \n",
       "\n",
       "[5 rows x 22 columns]"
      ]
     },
     "execution_count": 5,
     "metadata": {},
     "output_type": "execute_result"
    }
   ],
   "source": [
    "data.head()"
   ]
  },
  {
   "cell_type": "code",
   "execution_count": 6,
   "id": "ff0eddab",
   "metadata": {},
   "outputs": [
    {
     "data": {
      "text/plain": [
       "(555719, 22)"
      ]
     },
     "execution_count": 6,
     "metadata": {},
     "output_type": "execute_result"
    }
   ],
   "source": [
    "data.shape"
   ]
  },
  {
   "cell_type": "code",
   "execution_count": 7,
   "id": "185b4492",
   "metadata": {},
   "outputs": [
    {
     "data": {
      "text/plain": [
       "trans_date_trans_time    0\n",
       "cc_num                   0\n",
       "merchant                 0\n",
       "category                 0\n",
       "amt                      0\n",
       "first                    0\n",
       "last                     0\n",
       "gender                   0\n",
       "street                   0\n",
       "city                     0\n",
       "state                    0\n",
       "zip                      0\n",
       "lat                      0\n",
       "long                     0\n",
       "city_pop                 0\n",
       "job                      0\n",
       "dob                      0\n",
       "trans_num                0\n",
       "unix_time                0\n",
       "merch_lat                0\n",
       "merch_long               0\n",
       "is_fraud                 0\n",
       "dtype: int64"
      ]
     },
     "execution_count": 7,
     "metadata": {},
     "output_type": "execute_result"
    }
   ],
   "source": [
    "data.isna().sum()"
   ]
  },
  {
   "cell_type": "code",
   "execution_count": 8,
   "id": "43ffdc6b",
   "metadata": {},
   "outputs": [
    {
     "name": "stdout",
     "output_type": "stream",
     "text": [
      "<class 'pandas.core.frame.DataFrame'>\n",
      "RangeIndex: 555719 entries, 0 to 555718\n",
      "Data columns (total 22 columns):\n",
      " #   Column                 Non-Null Count   Dtype  \n",
      "---  ------                 --------------   -----  \n",
      " 0   trans_date_trans_time  555719 non-null  object \n",
      " 1   cc_num                 555719 non-null  float64\n",
      " 2   merchant               555719 non-null  object \n",
      " 3   category               555719 non-null  object \n",
      " 4   amt                    555719 non-null  float64\n",
      " 5   first                  555719 non-null  object \n",
      " 6   last                   555719 non-null  object \n",
      " 7   gender                 555719 non-null  object \n",
      " 8   street                 555719 non-null  object \n",
      " 9   city                   555719 non-null  object \n",
      " 10  state                  555719 non-null  object \n",
      " 11  zip                    555719 non-null  int64  \n",
      " 12  lat                    555719 non-null  float64\n",
      " 13  long                   555719 non-null  float64\n",
      " 14  city_pop               555719 non-null  int64  \n",
      " 15  job                    555719 non-null  object \n",
      " 16  dob                    555719 non-null  object \n",
      " 17  trans_num              555719 non-null  object \n",
      " 18  unix_time              555719 non-null  int64  \n",
      " 19  merch_lat              555719 non-null  float64\n",
      " 20  merch_long             555719 non-null  float64\n",
      " 21  is_fraud               555719 non-null  int64  \n",
      "dtypes: float64(6), int64(4), object(12)\n",
      "memory usage: 93.3+ MB\n"
     ]
    }
   ],
   "source": [
    "data.info()"
   ]
  },
  {
   "cell_type": "code",
   "execution_count": 9,
   "id": "3b6378f4",
   "metadata": {},
   "outputs": [
    {
     "data": {
      "text/plain": [
       "0    553574\n",
       "1      2145\n",
       "Name: is_fraud, dtype: int64"
      ]
     },
     "execution_count": 9,
     "metadata": {},
     "output_type": "execute_result"
    }
   ],
   "source": [
    "data['is_fraud'].value_counts() #very unbalanced dataset so need to balance it"
   ]
  },
  {
   "cell_type": "code",
   "execution_count": 10,
   "id": "5bb30423",
   "metadata": {},
   "outputs": [
    {
     "data": {
      "text/html": [
       "<div>\n",
       "<style scoped>\n",
       "    .dataframe tbody tr th:only-of-type {\n",
       "        vertical-align: middle;\n",
       "    }\n",
       "\n",
       "    .dataframe tbody tr th {\n",
       "        vertical-align: top;\n",
       "    }\n",
       "\n",
       "    .dataframe thead th {\n",
       "        text-align: right;\n",
       "    }\n",
       "</style>\n",
       "<table border=\"1\" class=\"dataframe\">\n",
       "  <thead>\n",
       "    <tr style=\"text-align: right;\">\n",
       "      <th></th>\n",
       "      <th>cc_num</th>\n",
       "      <th>amt</th>\n",
       "      <th>zip</th>\n",
       "      <th>lat</th>\n",
       "      <th>long</th>\n",
       "      <th>city_pop</th>\n",
       "      <th>unix_time</th>\n",
       "      <th>merch_lat</th>\n",
       "      <th>merch_long</th>\n",
       "    </tr>\n",
       "    <tr>\n",
       "      <th>is_fraud</th>\n",
       "      <th></th>\n",
       "      <th></th>\n",
       "      <th></th>\n",
       "      <th></th>\n",
       "      <th></th>\n",
       "      <th></th>\n",
       "      <th></th>\n",
       "      <th></th>\n",
       "      <th></th>\n",
       "    </tr>\n",
       "  </thead>\n",
       "  <tbody>\n",
       "    <tr>\n",
       "      <th>0</th>\n",
       "      <td>4.179643e+17</td>\n",
       "      <td>67.614408</td>\n",
       "      <td>48846.424285</td>\n",
       "      <td>38.541406</td>\n",
       "      <td>-90.230495</td>\n",
       "      <td>88313.692365</td>\n",
       "      <td>1.380683e+09</td>\n",
       "      <td>38.540954</td>\n",
       "      <td>-90.230474</td>\n",
       "    </tr>\n",
       "    <tr>\n",
       "      <th>1</th>\n",
       "      <td>3.854275e+17</td>\n",
       "      <td>528.356494</td>\n",
       "      <td>47862.900233</td>\n",
       "      <td>39.019971</td>\n",
       "      <td>-90.445556</td>\n",
       "      <td>64529.321678</td>\n",
       "      <td>1.379587e+09</td>\n",
       "      <td>39.018618</td>\n",
       "      <td>-90.465222</td>\n",
       "    </tr>\n",
       "  </tbody>\n",
       "</table>\n",
       "</div>"
      ],
      "text/plain": [
       "                cc_num         amt           zip        lat       long  \\\n",
       "is_fraud                                                                 \n",
       "0         4.179643e+17   67.614408  48846.424285  38.541406 -90.230495   \n",
       "1         3.854275e+17  528.356494  47862.900233  39.019971 -90.445556   \n",
       "\n",
       "              city_pop     unix_time  merch_lat  merch_long  \n",
       "is_fraud                                                     \n",
       "0         88313.692365  1.380683e+09  38.540954  -90.230474  \n",
       "1         64529.321678  1.379587e+09  39.018618  -90.465222  "
      ]
     },
     "execution_count": 10,
     "metadata": {},
     "output_type": "execute_result"
    }
   ],
   "source": [
    "data.groupby('is_fraud').mean()"
   ]
  },
  {
   "cell_type": "code",
   "execution_count": 11,
   "id": "f4216baa",
   "metadata": {},
   "outputs": [],
   "source": [
    "legit = data[data.is_fraud == 0]\n",
    "fraud = data[data.is_fraud == 1]"
   ]
  },
  {
   "cell_type": "code",
   "execution_count": 12,
   "id": "69a46790",
   "metadata": {},
   "outputs": [],
   "source": [
    "legit_sample = legit.sample(n=2145)"
   ]
  },
  {
   "cell_type": "code",
   "execution_count": 13,
   "id": "27186fef",
   "metadata": {},
   "outputs": [],
   "source": [
    "merged_card_data = pd.concat([legit_sample, fraud], axis = 0)"
   ]
  },
  {
   "cell_type": "code",
   "execution_count": 14,
   "id": "3ed301bb",
   "metadata": {},
   "outputs": [
    {
     "data": {
      "text/plain": [
       "(4290, 22)"
      ]
     },
     "execution_count": 14,
     "metadata": {},
     "output_type": "execute_result"
    }
   ],
   "source": [
    "merged_card_data.shape"
   ]
  },
  {
   "cell_type": "code",
   "execution_count": 15,
   "id": "54da470b",
   "metadata": {},
   "outputs": [
    {
     "data": {
      "text/plain": [
       "0    2145\n",
       "1    2145\n",
       "Name: is_fraud, dtype: int64"
      ]
     },
     "execution_count": 15,
     "metadata": {},
     "output_type": "execute_result"
    }
   ],
   "source": [
    "merged_card_data['is_fraud'].value_counts()"
   ]
  },
  {
   "cell_type": "code",
   "execution_count": 16,
   "id": "dc127689",
   "metadata": {},
   "outputs": [
    {
     "data": {
      "text/plain": [
       "F    2354\n",
       "M    1936\n",
       "Name: gender, dtype: int64"
      ]
     },
     "execution_count": 16,
     "metadata": {},
     "output_type": "execute_result"
    }
   ],
   "source": [
    "merged_card_data['gender'].value_counts()"
   ]
  },
  {
   "cell_type": "code",
   "execution_count": 17,
   "id": "900d514f",
   "metadata": {},
   "outputs": [
    {
     "data": {
      "text/html": [
       "<div>\n",
       "<style scoped>\n",
       "    .dataframe tbody tr th:only-of-type {\n",
       "        vertical-align: middle;\n",
       "    }\n",
       "\n",
       "    .dataframe tbody tr th {\n",
       "        vertical-align: top;\n",
       "    }\n",
       "\n",
       "    .dataframe thead th {\n",
       "        text-align: right;\n",
       "    }\n",
       "</style>\n",
       "<table border=\"1\" class=\"dataframe\">\n",
       "  <thead>\n",
       "    <tr style=\"text-align: right;\">\n",
       "      <th></th>\n",
       "      <th>cc_num</th>\n",
       "      <th>amt</th>\n",
       "      <th>zip</th>\n",
       "      <th>lat</th>\n",
       "      <th>long</th>\n",
       "      <th>city_pop</th>\n",
       "      <th>unix_time</th>\n",
       "      <th>merch_lat</th>\n",
       "      <th>merch_long</th>\n",
       "    </tr>\n",
       "    <tr>\n",
       "      <th>is_fraud</th>\n",
       "      <th></th>\n",
       "      <th></th>\n",
       "      <th></th>\n",
       "      <th></th>\n",
       "      <th></th>\n",
       "      <th></th>\n",
       "      <th></th>\n",
       "      <th></th>\n",
       "      <th></th>\n",
       "    </tr>\n",
       "  </thead>\n",
       "  <tbody>\n",
       "    <tr>\n",
       "      <th>0</th>\n",
       "      <td>3.998619e+17</td>\n",
       "      <td>65.412648</td>\n",
       "      <td>48786.543124</td>\n",
       "      <td>38.660616</td>\n",
       "      <td>-90.324980</td>\n",
       "      <td>80197.140326</td>\n",
       "      <td>1.380721e+09</td>\n",
       "      <td>38.660670</td>\n",
       "      <td>-90.329344</td>\n",
       "    </tr>\n",
       "    <tr>\n",
       "      <th>1</th>\n",
       "      <td>3.854275e+17</td>\n",
       "      <td>528.356494</td>\n",
       "      <td>47862.900233</td>\n",
       "      <td>39.019971</td>\n",
       "      <td>-90.445556</td>\n",
       "      <td>64529.321678</td>\n",
       "      <td>1.379587e+09</td>\n",
       "      <td>39.018618</td>\n",
       "      <td>-90.465222</td>\n",
       "    </tr>\n",
       "  </tbody>\n",
       "</table>\n",
       "</div>"
      ],
      "text/plain": [
       "                cc_num         amt           zip        lat       long  \\\n",
       "is_fraud                                                                 \n",
       "0         3.998619e+17   65.412648  48786.543124  38.660616 -90.324980   \n",
       "1         3.854275e+17  528.356494  47862.900233  39.019971 -90.445556   \n",
       "\n",
       "              city_pop     unix_time  merch_lat  merch_long  \n",
       "is_fraud                                                     \n",
       "0         80197.140326  1.380721e+09  38.660670  -90.329344  \n",
       "1         64529.321678  1.379587e+09  39.018618  -90.465222  "
      ]
     },
     "execution_count": 17,
     "metadata": {},
     "output_type": "execute_result"
    }
   ],
   "source": [
    "merged_card_data.groupby('is_fraud').mean()"
   ]
  },
  {
   "cell_type": "code",
   "execution_count": 18,
   "id": "5edfdede",
   "metadata": {},
   "outputs": [
    {
     "name": "stdout",
     "output_type": "stream",
     "text": [
      "<class 'pandas.core.frame.DataFrame'>\n",
      "Int64Index: 4290 entries, 296408 to 517571\n",
      "Data columns (total 22 columns):\n",
      " #   Column                 Non-Null Count  Dtype  \n",
      "---  ------                 --------------  -----  \n",
      " 0   trans_date_trans_time  4290 non-null   object \n",
      " 1   cc_num                 4290 non-null   float64\n",
      " 2   merchant               4290 non-null   object \n",
      " 3   category               4290 non-null   object \n",
      " 4   amt                    4290 non-null   float64\n",
      " 5   first                  4290 non-null   object \n",
      " 6   last                   4290 non-null   object \n",
      " 7   gender                 4290 non-null   object \n",
      " 8   street                 4290 non-null   object \n",
      " 9   city                   4290 non-null   object \n",
      " 10  state                  4290 non-null   object \n",
      " 11  zip                    4290 non-null   int64  \n",
      " 12  lat                    4290 non-null   float64\n",
      " 13  long                   4290 non-null   float64\n",
      " 14  city_pop               4290 non-null   int64  \n",
      " 15  job                    4290 non-null   object \n",
      " 16  dob                    4290 non-null   object \n",
      " 17  trans_num              4290 non-null   object \n",
      " 18  unix_time              4290 non-null   int64  \n",
      " 19  merch_lat              4290 non-null   float64\n",
      " 20  merch_long             4290 non-null   float64\n",
      " 21  is_fraud               4290 non-null   int64  \n",
      "dtypes: float64(6), int64(4), object(12)\n",
      "memory usage: 770.9+ KB\n"
     ]
    }
   ],
   "source": [
    "merged_card_data.info()"
   ]
  },
  {
   "cell_type": "code",
   "execution_count": 19,
   "id": "bc0c7c0d",
   "metadata": {},
   "outputs": [
    {
     "data": {
      "text/plain": [
       "(4290, 22)"
      ]
     },
     "execution_count": 19,
     "metadata": {},
     "output_type": "execute_result"
    }
   ],
   "source": [
    "merged_card_data.shape"
   ]
  },
  {
   "cell_type": "code",
   "execution_count": 20,
   "id": "90a03498",
   "metadata": {},
   "outputs": [],
   "source": [
    "merged_card_data.drop(columns = ['trans_date_trans_time', 'first', 'last', 'street', 'city_pop', 'unix_time', 'trans_num'], axis = 1, inplace = True)"
   ]
  },
  {
   "cell_type": "code",
   "execution_count": 21,
   "id": "4a12f9b2",
   "metadata": {},
   "outputs": [
    {
     "data": {
      "text/plain": [
       "(4290, 15)"
      ]
     },
     "execution_count": 21,
     "metadata": {},
     "output_type": "execute_result"
    }
   ],
   "source": [
    "merged_card_data.shape"
   ]
  },
  {
   "cell_type": "code",
   "execution_count": 22,
   "id": "0fa54882",
   "metadata": {},
   "outputs": [
    {
     "data": {
      "text/html": [
       "<div>\n",
       "<style scoped>\n",
       "    .dataframe tbody tr th:only-of-type {\n",
       "        vertical-align: middle;\n",
       "    }\n",
       "\n",
       "    .dataframe tbody tr th {\n",
       "        vertical-align: top;\n",
       "    }\n",
       "\n",
       "    .dataframe thead th {\n",
       "        text-align: right;\n",
       "    }\n",
       "</style>\n",
       "<table border=\"1\" class=\"dataframe\">\n",
       "  <thead>\n",
       "    <tr style=\"text-align: right;\">\n",
       "      <th></th>\n",
       "      <th>cc_num</th>\n",
       "      <th>merchant</th>\n",
       "      <th>category</th>\n",
       "      <th>amt</th>\n",
       "      <th>gender</th>\n",
       "      <th>city</th>\n",
       "      <th>state</th>\n",
       "      <th>zip</th>\n",
       "      <th>lat</th>\n",
       "      <th>long</th>\n",
       "      <th>job</th>\n",
       "      <th>dob</th>\n",
       "      <th>merch_lat</th>\n",
       "      <th>merch_long</th>\n",
       "      <th>is_fraud</th>\n",
       "    </tr>\n",
       "  </thead>\n",
       "  <tbody>\n",
       "    <tr>\n",
       "      <th>296408</th>\n",
       "      <td>6.011440e+15</td>\n",
       "      <td>fraud_Berge LLC</td>\n",
       "      <td>gas_transport</td>\n",
       "      <td>51.06</td>\n",
       "      <td>F</td>\n",
       "      <td>De Witt</td>\n",
       "      <td>AR</td>\n",
       "      <td>72042</td>\n",
       "      <td>34.2853</td>\n",
       "      <td>-91.3336</td>\n",
       "      <td>Electrical engineer</td>\n",
       "      <td>08/04/1993</td>\n",
       "      <td>34.022755</td>\n",
       "      <td>-90.352672</td>\n",
       "      <td>0</td>\n",
       "    </tr>\n",
       "    <tr>\n",
       "      <th>480642</th>\n",
       "      <td>3.517810e+15</td>\n",
       "      <td>fraud_Kuhic LLC</td>\n",
       "      <td>shopping_net</td>\n",
       "      <td>8.50</td>\n",
       "      <td>M</td>\n",
       "      <td>Union</td>\n",
       "      <td>WV</td>\n",
       "      <td>24983</td>\n",
       "      <td>37.5802</td>\n",
       "      <td>-80.5248</td>\n",
       "      <td>Chartered public finance accountant</td>\n",
       "      <td>16/10/1941</td>\n",
       "      <td>37.758449</td>\n",
       "      <td>-81.087601</td>\n",
       "      <td>0</td>\n",
       "    </tr>\n",
       "    <tr>\n",
       "      <th>119414</th>\n",
       "      <td>4.623560e+12</td>\n",
       "      <td>fraud_Bartoletti-Wunsch</td>\n",
       "      <td>gas_transport</td>\n",
       "      <td>69.15</td>\n",
       "      <td>M</td>\n",
       "      <td>Lohrville</td>\n",
       "      <td>IA</td>\n",
       "      <td>51453</td>\n",
       "      <td>42.2619</td>\n",
       "      <td>-94.5566</td>\n",
       "      <td>Administrator</td>\n",
       "      <td>15/07/1954</td>\n",
       "      <td>41.598037</td>\n",
       "      <td>-93.572449</td>\n",
       "      <td>0</td>\n",
       "    </tr>\n",
       "    <tr>\n",
       "      <th>478725</th>\n",
       "      <td>3.710090e+14</td>\n",
       "      <td>fraud_Ankunding LLC</td>\n",
       "      <td>shopping_net</td>\n",
       "      <td>6.75</td>\n",
       "      <td>M</td>\n",
       "      <td>Norman Park</td>\n",
       "      <td>GA</td>\n",
       "      <td>31771</td>\n",
       "      <td>31.2462</td>\n",
       "      <td>-83.6549</td>\n",
       "      <td>Rural practice surveyor</td>\n",
       "      <td>14/09/2003</td>\n",
       "      <td>30.457001</td>\n",
       "      <td>-84.543362</td>\n",
       "      <td>0</td>\n",
       "    </tr>\n",
       "    <tr>\n",
       "      <th>555016</th>\n",
       "      <td>3.502090e+15</td>\n",
       "      <td>fraud_Leannon-Ward</td>\n",
       "      <td>food_dining</td>\n",
       "      <td>35.78</td>\n",
       "      <td>M</td>\n",
       "      <td>Kensington</td>\n",
       "      <td>MD</td>\n",
       "      <td>20895</td>\n",
       "      <td>39.0298</td>\n",
       "      <td>-77.0793</td>\n",
       "      <td>Operations geologist</td>\n",
       "      <td>08/09/1976</td>\n",
       "      <td>39.451098</td>\n",
       "      <td>-76.718264</td>\n",
       "      <td>0</td>\n",
       "    </tr>\n",
       "  </tbody>\n",
       "</table>\n",
       "</div>"
      ],
      "text/plain": [
       "              cc_num                 merchant       category    amt gender  \\\n",
       "296408  6.011440e+15          fraud_Berge LLC  gas_transport  51.06      F   \n",
       "480642  3.517810e+15          fraud_Kuhic LLC   shopping_net   8.50      M   \n",
       "119414  4.623560e+12  fraud_Bartoletti-Wunsch  gas_transport  69.15      M   \n",
       "478725  3.710090e+14      fraud_Ankunding LLC   shopping_net   6.75      M   \n",
       "555016  3.502090e+15       fraud_Leannon-Ward    food_dining  35.78      M   \n",
       "\n",
       "               city state    zip      lat     long  \\\n",
       "296408      De Witt    AR  72042  34.2853 -91.3336   \n",
       "480642        Union    WV  24983  37.5802 -80.5248   \n",
       "119414    Lohrville    IA  51453  42.2619 -94.5566   \n",
       "478725  Norman Park    GA  31771  31.2462 -83.6549   \n",
       "555016   Kensington    MD  20895  39.0298 -77.0793   \n",
       "\n",
       "                                        job         dob  merch_lat  \\\n",
       "296408                  Electrical engineer  08/04/1993  34.022755   \n",
       "480642  Chartered public finance accountant  16/10/1941  37.758449   \n",
       "119414                        Administrator  15/07/1954  41.598037   \n",
       "478725              Rural practice surveyor  14/09/2003  30.457001   \n",
       "555016                 Operations geologist  08/09/1976  39.451098   \n",
       "\n",
       "        merch_long  is_fraud  \n",
       "296408  -90.352672         0  \n",
       "480642  -81.087601         0  \n",
       "119414  -93.572449         0  \n",
       "478725  -84.543362         0  \n",
       "555016  -76.718264         0  "
      ]
     },
     "execution_count": 22,
     "metadata": {},
     "output_type": "execute_result"
    }
   ],
   "source": [
    "merged_card_data.head()"
   ]
  },
  {
   "cell_type": "code",
   "execution_count": 23,
   "id": "08c5cf2f",
   "metadata": {},
   "outputs": [
    {
     "data": {
      "text/plain": [
       "(4290, 15)"
      ]
     },
     "execution_count": 23,
     "metadata": {},
     "output_type": "execute_result"
    }
   ],
   "source": [
    "merged_card_data.shape"
   ]
  },
  {
   "cell_type": "markdown",
   "id": "35387dd4",
   "metadata": {},
   "source": [
    "##### Feature Engineering"
   ]
  },
  {
   "cell_type": "code",
   "execution_count": 24,
   "id": "2e685075",
   "metadata": {},
   "outputs": [],
   "source": [
    "merged_card_data['location'] = merged_card_data['city'] + ', ' + merged_card_data['state'] + ', ' + merged_card_data['zip'].astype(str)\n",
    "merged_card_data = merged_card_data.drop(['city', 'state', 'zip'], axis=1)"
   ]
  },
  {
   "cell_type": "code",
   "execution_count": 25,
   "id": "65cf22cb",
   "metadata": {},
   "outputs": [
    {
     "data": {
      "text/plain": [
       "(4290, 13)"
      ]
     },
     "execution_count": 25,
     "metadata": {},
     "output_type": "execute_result"
    }
   ],
   "source": [
    "merged_card_data.shape"
   ]
  },
  {
   "cell_type": "code",
   "execution_count": 26,
   "id": "6ebf7f84",
   "metadata": {},
   "outputs": [
    {
     "data": {
      "text/html": [
       "<div>\n",
       "<style scoped>\n",
       "    .dataframe tbody tr th:only-of-type {\n",
       "        vertical-align: middle;\n",
       "    }\n",
       "\n",
       "    .dataframe tbody tr th {\n",
       "        vertical-align: top;\n",
       "    }\n",
       "\n",
       "    .dataframe thead th {\n",
       "        text-align: right;\n",
       "    }\n",
       "</style>\n",
       "<table border=\"1\" class=\"dataframe\">\n",
       "  <thead>\n",
       "    <tr style=\"text-align: right;\">\n",
       "      <th></th>\n",
       "      <th>cc_num</th>\n",
       "      <th>merchant</th>\n",
       "      <th>category</th>\n",
       "      <th>amt</th>\n",
       "      <th>gender</th>\n",
       "      <th>job</th>\n",
       "      <th>dob</th>\n",
       "      <th>merch_lat</th>\n",
       "      <th>merch_long</th>\n",
       "      <th>is_fraud</th>\n",
       "      <th>location</th>\n",
       "      <th>lat_long</th>\n",
       "    </tr>\n",
       "  </thead>\n",
       "  <tbody>\n",
       "    <tr>\n",
       "      <th>296408</th>\n",
       "      <td>6.011440e+15</td>\n",
       "      <td>fraud_Berge LLC</td>\n",
       "      <td>gas_transport</td>\n",
       "      <td>51.06</td>\n",
       "      <td>F</td>\n",
       "      <td>Electrical engineer</td>\n",
       "      <td>08/04/1993</td>\n",
       "      <td>34.022755</td>\n",
       "      <td>-90.352672</td>\n",
       "      <td>0</td>\n",
       "      <td>De Witt, AR, 72042</td>\n",
       "      <td>34.2853, -91.3336</td>\n",
       "    </tr>\n",
       "    <tr>\n",
       "      <th>480642</th>\n",
       "      <td>3.517810e+15</td>\n",
       "      <td>fraud_Kuhic LLC</td>\n",
       "      <td>shopping_net</td>\n",
       "      <td>8.50</td>\n",
       "      <td>M</td>\n",
       "      <td>Chartered public finance accountant</td>\n",
       "      <td>16/10/1941</td>\n",
       "      <td>37.758449</td>\n",
       "      <td>-81.087601</td>\n",
       "      <td>0</td>\n",
       "      <td>Union, WV, 24983</td>\n",
       "      <td>37.5802, -80.5248</td>\n",
       "    </tr>\n",
       "    <tr>\n",
       "      <th>119414</th>\n",
       "      <td>4.623560e+12</td>\n",
       "      <td>fraud_Bartoletti-Wunsch</td>\n",
       "      <td>gas_transport</td>\n",
       "      <td>69.15</td>\n",
       "      <td>M</td>\n",
       "      <td>Administrator</td>\n",
       "      <td>15/07/1954</td>\n",
       "      <td>41.598037</td>\n",
       "      <td>-93.572449</td>\n",
       "      <td>0</td>\n",
       "      <td>Lohrville, IA, 51453</td>\n",
       "      <td>42.2619, -94.5566</td>\n",
       "    </tr>\n",
       "    <tr>\n",
       "      <th>478725</th>\n",
       "      <td>3.710090e+14</td>\n",
       "      <td>fraud_Ankunding LLC</td>\n",
       "      <td>shopping_net</td>\n",
       "      <td>6.75</td>\n",
       "      <td>M</td>\n",
       "      <td>Rural practice surveyor</td>\n",
       "      <td>14/09/2003</td>\n",
       "      <td>30.457001</td>\n",
       "      <td>-84.543362</td>\n",
       "      <td>0</td>\n",
       "      <td>Norman Park, GA, 31771</td>\n",
       "      <td>31.2462, -83.6549</td>\n",
       "    </tr>\n",
       "    <tr>\n",
       "      <th>555016</th>\n",
       "      <td>3.502090e+15</td>\n",
       "      <td>fraud_Leannon-Ward</td>\n",
       "      <td>food_dining</td>\n",
       "      <td>35.78</td>\n",
       "      <td>M</td>\n",
       "      <td>Operations geologist</td>\n",
       "      <td>08/09/1976</td>\n",
       "      <td>39.451098</td>\n",
       "      <td>-76.718264</td>\n",
       "      <td>0</td>\n",
       "      <td>Kensington, MD, 20895</td>\n",
       "      <td>39.0298, -77.0793</td>\n",
       "    </tr>\n",
       "  </tbody>\n",
       "</table>\n",
       "</div>"
      ],
      "text/plain": [
       "              cc_num                 merchant       category    amt gender  \\\n",
       "296408  6.011440e+15          fraud_Berge LLC  gas_transport  51.06      F   \n",
       "480642  3.517810e+15          fraud_Kuhic LLC   shopping_net   8.50      M   \n",
       "119414  4.623560e+12  fraud_Bartoletti-Wunsch  gas_transport  69.15      M   \n",
       "478725  3.710090e+14      fraud_Ankunding LLC   shopping_net   6.75      M   \n",
       "555016  3.502090e+15       fraud_Leannon-Ward    food_dining  35.78      M   \n",
       "\n",
       "                                        job         dob  merch_lat  \\\n",
       "296408                  Electrical engineer  08/04/1993  34.022755   \n",
       "480642  Chartered public finance accountant  16/10/1941  37.758449   \n",
       "119414                        Administrator  15/07/1954  41.598037   \n",
       "478725              Rural practice surveyor  14/09/2003  30.457001   \n",
       "555016                 Operations geologist  08/09/1976  39.451098   \n",
       "\n",
       "        merch_long  is_fraud                location           lat_long  \n",
       "296408  -90.352672         0      De Witt, AR, 72042  34.2853, -91.3336  \n",
       "480642  -81.087601         0        Union, WV, 24983  37.5802, -80.5248  \n",
       "119414  -93.572449         0    Lohrville, IA, 51453  42.2619, -94.5566  \n",
       "478725  -84.543362         0  Norman Park, GA, 31771  31.2462, -83.6549  \n",
       "555016  -76.718264         0   Kensington, MD, 20895  39.0298, -77.0793  "
      ]
     },
     "execution_count": 26,
     "metadata": {},
     "output_type": "execute_result"
    }
   ],
   "source": [
    "merged_card_data['lat_long'] = merged_card_data['lat'].astype(str) + ', ' + merged_card_data['long'].astype(str)\n",
    "merged_card_data = merged_card_data.drop(['lat', 'long'], axis=1)\n",
    "merged_card_data.head()"
   ]
  },
  {
   "cell_type": "code",
   "execution_count": 27,
   "id": "80c6da3a",
   "metadata": {},
   "outputs": [
    {
     "data": {
      "text/html": [
       "<div>\n",
       "<style scoped>\n",
       "    .dataframe tbody tr th:only-of-type {\n",
       "        vertical-align: middle;\n",
       "    }\n",
       "\n",
       "    .dataframe tbody tr th {\n",
       "        vertical-align: top;\n",
       "    }\n",
       "\n",
       "    .dataframe thead th {\n",
       "        text-align: right;\n",
       "    }\n",
       "</style>\n",
       "<table border=\"1\" class=\"dataframe\">\n",
       "  <thead>\n",
       "    <tr style=\"text-align: right;\">\n",
       "      <th></th>\n",
       "      <th>cc_num</th>\n",
       "      <th>merchant</th>\n",
       "      <th>category</th>\n",
       "      <th>amt</th>\n",
       "      <th>gender</th>\n",
       "      <th>job</th>\n",
       "      <th>dob</th>\n",
       "      <th>is_fraud</th>\n",
       "      <th>location</th>\n",
       "      <th>lat_long</th>\n",
       "      <th>merchant_lat_long</th>\n",
       "    </tr>\n",
       "  </thead>\n",
       "  <tbody>\n",
       "    <tr>\n",
       "      <th>296408</th>\n",
       "      <td>6.011440e+15</td>\n",
       "      <td>fraud_Berge LLC</td>\n",
       "      <td>gas_transport</td>\n",
       "      <td>51.06</td>\n",
       "      <td>F</td>\n",
       "      <td>Electrical engineer</td>\n",
       "      <td>08/04/1993</td>\n",
       "      <td>0</td>\n",
       "      <td>De Witt, AR, 72042</td>\n",
       "      <td>34.2853, -91.3336</td>\n",
       "      <td>34.022755, -90.352672</td>\n",
       "    </tr>\n",
       "    <tr>\n",
       "      <th>480642</th>\n",
       "      <td>3.517810e+15</td>\n",
       "      <td>fraud_Kuhic LLC</td>\n",
       "      <td>shopping_net</td>\n",
       "      <td>8.50</td>\n",
       "      <td>M</td>\n",
       "      <td>Chartered public finance accountant</td>\n",
       "      <td>16/10/1941</td>\n",
       "      <td>0</td>\n",
       "      <td>Union, WV, 24983</td>\n",
       "      <td>37.5802, -80.5248</td>\n",
       "      <td>37.758449, -81.087601</td>\n",
       "    </tr>\n",
       "    <tr>\n",
       "      <th>119414</th>\n",
       "      <td>4.623560e+12</td>\n",
       "      <td>fraud_Bartoletti-Wunsch</td>\n",
       "      <td>gas_transport</td>\n",
       "      <td>69.15</td>\n",
       "      <td>M</td>\n",
       "      <td>Administrator</td>\n",
       "      <td>15/07/1954</td>\n",
       "      <td>0</td>\n",
       "      <td>Lohrville, IA, 51453</td>\n",
       "      <td>42.2619, -94.5566</td>\n",
       "      <td>41.598037, -93.572449</td>\n",
       "    </tr>\n",
       "    <tr>\n",
       "      <th>478725</th>\n",
       "      <td>3.710090e+14</td>\n",
       "      <td>fraud_Ankunding LLC</td>\n",
       "      <td>shopping_net</td>\n",
       "      <td>6.75</td>\n",
       "      <td>M</td>\n",
       "      <td>Rural practice surveyor</td>\n",
       "      <td>14/09/2003</td>\n",
       "      <td>0</td>\n",
       "      <td>Norman Park, GA, 31771</td>\n",
       "      <td>31.2462, -83.6549</td>\n",
       "      <td>30.457001, -84.543362</td>\n",
       "    </tr>\n",
       "    <tr>\n",
       "      <th>555016</th>\n",
       "      <td>3.502090e+15</td>\n",
       "      <td>fraud_Leannon-Ward</td>\n",
       "      <td>food_dining</td>\n",
       "      <td>35.78</td>\n",
       "      <td>M</td>\n",
       "      <td>Operations geologist</td>\n",
       "      <td>08/09/1976</td>\n",
       "      <td>0</td>\n",
       "      <td>Kensington, MD, 20895</td>\n",
       "      <td>39.0298, -77.0793</td>\n",
       "      <td>39.451098, -76.718264</td>\n",
       "    </tr>\n",
       "  </tbody>\n",
       "</table>\n",
       "</div>"
      ],
      "text/plain": [
       "              cc_num                 merchant       category    amt gender  \\\n",
       "296408  6.011440e+15          fraud_Berge LLC  gas_transport  51.06      F   \n",
       "480642  3.517810e+15          fraud_Kuhic LLC   shopping_net   8.50      M   \n",
       "119414  4.623560e+12  fraud_Bartoletti-Wunsch  gas_transport  69.15      M   \n",
       "478725  3.710090e+14      fraud_Ankunding LLC   shopping_net   6.75      M   \n",
       "555016  3.502090e+15       fraud_Leannon-Ward    food_dining  35.78      M   \n",
       "\n",
       "                                        job         dob  is_fraud  \\\n",
       "296408                  Electrical engineer  08/04/1993         0   \n",
       "480642  Chartered public finance accountant  16/10/1941         0   \n",
       "119414                        Administrator  15/07/1954         0   \n",
       "478725              Rural practice surveyor  14/09/2003         0   \n",
       "555016                 Operations geologist  08/09/1976         0   \n",
       "\n",
       "                      location           lat_long      merchant_lat_long  \n",
       "296408      De Witt, AR, 72042  34.2853, -91.3336  34.022755, -90.352672  \n",
       "480642        Union, WV, 24983  37.5802, -80.5248  37.758449, -81.087601  \n",
       "119414    Lohrville, IA, 51453  42.2619, -94.5566  41.598037, -93.572449  \n",
       "478725  Norman Park, GA, 31771  31.2462, -83.6549  30.457001, -84.543362  \n",
       "555016   Kensington, MD, 20895  39.0298, -77.0793  39.451098, -76.718264  "
      ]
     },
     "execution_count": 27,
     "metadata": {},
     "output_type": "execute_result"
    }
   ],
   "source": [
    "merged_card_data['merchant_lat_long'] = merged_card_data['merch_lat'].astype(str) + ', ' + merged_card_data['merch_long'].astype(str)\n",
    "merged_card_data = merged_card_data.drop(['merch_lat', 'merch_long'], axis=1)\n",
    "merged_card_data.head()"
   ]
  },
  {
   "cell_type": "code",
   "execution_count": null,
   "id": "7c1306a5",
   "metadata": {},
   "outputs": [],
   "source": []
  },
  {
   "cell_type": "markdown",
   "id": "226f148b",
   "metadata": {},
   "source": [
    "##### LabelEncoder"
   ]
  },
  {
   "cell_type": "code",
   "execution_count": 28,
   "id": "d06d14c5",
   "metadata": {},
   "outputs": [
    {
     "name": "stderr",
     "output_type": "stream",
     "text": [
      "C:\\Users\\Zooby\\anaconda3\\lib\\site-packages\\scipy\\__init__.py:155: UserWarning: A NumPy version >=1.18.5 and <1.25.0 is required for this version of SciPy (detected version 1.26.4\n",
      "  warnings.warn(f\"A NumPy version >={np_minversion} and <{np_maxversion}\"\n"
     ]
    }
   ],
   "source": [
    "from sklearn.preprocessing import LabelEncoder\n",
    "\n",
    "# Initialize LabelEncoder\n",
    "label_encoder = LabelEncoder()\n",
    "\n",
    "# Fit label encoder and return encoded labels\n",
    "merged_card_data['gender'] = label_encoder.fit_transform(merged_card_data['gender'])\n",
    "merged_card_data['job'] = label_encoder.fit_transform(merged_card_data['job'])\n",
    "merged_card_data['dob'] = label_encoder.fit_transform(merged_card_data['dob'])\n",
    "merged_card_data['cc_num'] = label_encoder.fit_transform(merged_card_data['cc_num'])\n",
    "merged_card_data['merchant'] = label_encoder.fit_transform(merged_card_data['merchant'])\n",
    "merged_card_data['category'] = label_encoder.fit_transform(merged_card_data['category'])\n",
    "merged_card_data['location'] = label_encoder.fit_transform(merged_card_data['location'])\n",
    "merged_card_data['lat_long'] = label_encoder.fit_transform(merged_card_data['lat_long'])\n",
    "merged_card_data['merchant_lat_long'] = label_encoder.fit_transform(merged_card_data['merchant_lat_long'])\n",
    "\n"
   ]
  },
  {
   "cell_type": "code",
   "execution_count": 29,
   "id": "5695214c",
   "metadata": {},
   "outputs": [
    {
     "data": {
      "text/html": [
       "<div>\n",
       "<style scoped>\n",
       "    .dataframe tbody tr th:only-of-type {\n",
       "        vertical-align: middle;\n",
       "    }\n",
       "\n",
       "    .dataframe tbody tr th {\n",
       "        vertical-align: top;\n",
       "    }\n",
       "\n",
       "    .dataframe thead th {\n",
       "        text-align: right;\n",
       "    }\n",
       "</style>\n",
       "<table border=\"1\" class=\"dataframe\">\n",
       "  <thead>\n",
       "    <tr style=\"text-align: right;\">\n",
       "      <th></th>\n",
       "      <th>cc_num</th>\n",
       "      <th>merchant</th>\n",
       "      <th>category</th>\n",
       "      <th>amt</th>\n",
       "      <th>gender</th>\n",
       "      <th>job</th>\n",
       "      <th>dob</th>\n",
       "      <th>is_fraud</th>\n",
       "      <th>location</th>\n",
       "      <th>lat_long</th>\n",
       "      <th>merchant_lat_long</th>\n",
       "    </tr>\n",
       "  </thead>\n",
       "  <tbody>\n",
       "    <tr>\n",
       "      <th>296408</th>\n",
       "      <td>681</td>\n",
       "      <td>43</td>\n",
       "      <td>2</td>\n",
       "      <td>51.06</td>\n",
       "      <td>0</td>\n",
       "      <td>128</td>\n",
       "      <td>193</td>\n",
       "      <td>0</td>\n",
       "      <td>186</td>\n",
       "      <td>177</td>\n",
       "      <td>850</td>\n",
       "    </tr>\n",
       "    <tr>\n",
       "      <th>480642</th>\n",
       "      <td>395</td>\n",
       "      <td>335</td>\n",
       "      <td>11</td>\n",
       "      <td>8.50</td>\n",
       "      <td>1</td>\n",
       "      <td>56</td>\n",
       "      <td>421</td>\n",
       "      <td>0</td>\n",
       "      <td>733</td>\n",
       "      <td>289</td>\n",
       "      <td>1587</td>\n",
       "    </tr>\n",
       "    <tr>\n",
       "      <th>119414</th>\n",
       "      <td>103</td>\n",
       "      <td>24</td>\n",
       "      <td>2</td>\n",
       "      <td>69.15</td>\n",
       "      <td>1</td>\n",
       "      <td>5</td>\n",
       "      <td>392</td>\n",
       "      <td>0</td>\n",
       "      <td>409</td>\n",
       "      <td>611</td>\n",
       "      <td>3047</td>\n",
       "    </tr>\n",
       "    <tr>\n",
       "      <th>478725</th>\n",
       "      <td>288</td>\n",
       "      <td>8</td>\n",
       "      <td>11</td>\n",
       "      <td>6.75</td>\n",
       "      <td>1</td>\n",
       "      <td>362</td>\n",
       "      <td>365</td>\n",
       "      <td>0</td>\n",
       "      <td>515</td>\n",
       "      <td>68</td>\n",
       "      <td>208</td>\n",
       "    </tr>\n",
       "    <tr>\n",
       "      <th>555016</th>\n",
       "      <td>384</td>\n",
       "      <td>367</td>\n",
       "      <td>1</td>\n",
       "      <td>35.78</td>\n",
       "      <td>1</td>\n",
       "      <td>284</td>\n",
       "      <td>205</td>\n",
       "      <td>0</td>\n",
       "      <td>365</td>\n",
       "      <td>371</td>\n",
       "      <td>2079</td>\n",
       "    </tr>\n",
       "  </tbody>\n",
       "</table>\n",
       "</div>"
      ],
      "text/plain": [
       "        cc_num  merchant  category    amt  gender  job  dob  is_fraud  \\\n",
       "296408     681        43         2  51.06       0  128  193         0   \n",
       "480642     395       335        11   8.50       1   56  421         0   \n",
       "119414     103        24         2  69.15       1    5  392         0   \n",
       "478725     288         8        11   6.75       1  362  365         0   \n",
       "555016     384       367         1  35.78       1  284  205         0   \n",
       "\n",
       "        location  lat_long  merchant_lat_long  \n",
       "296408       186       177                850  \n",
       "480642       733       289               1587  \n",
       "119414       409       611               3047  \n",
       "478725       515        68                208  \n",
       "555016       365       371               2079  "
      ]
     },
     "execution_count": 29,
     "metadata": {},
     "output_type": "execute_result"
    }
   ],
   "source": [
    "merged_card_data.head()"
   ]
  },
  {
   "cell_type": "markdown",
   "id": "14b0a03c",
   "metadata": {},
   "source": [
    "##### Seperating features from target"
   ]
  },
  {
   "cell_type": "code",
   "execution_count": 30,
   "id": "2bb84172",
   "metadata": {},
   "outputs": [
    {
     "name": "stdout",
     "output_type": "stream",
     "text": [
      "        cc_num  merchant  category      amt  gender  job  dob  location  \\\n",
      "296408     681        43         2    51.06       0  128  193       186   \n",
      "480642     395       335        11     8.50       1   56  421       733   \n",
      "119414     103        24         2    69.15       1    5  392       409   \n",
      "478725     288         8        11     6.75       1  362  365       515   \n",
      "555016     384       367         1    35.78       1  284  205       365   \n",
      "...        ...       ...       ...      ...     ...  ...  ...       ...   \n",
      "517197     340       651        12  1041.51       1  101   60       659   \n",
      "517274     340       338        12   868.09       1  101   60       659   \n",
      "517341     340       431        11  1039.42       1  101   60       659   \n",
      "517529     340        29         4   289.27       1  101   60       659   \n",
      "517571     340       274         8   766.38       1  101   60       659   \n",
      "\n",
      "        lat_long  merchant_lat_long  \n",
      "296408       177                850  \n",
      "480642       289               1587  \n",
      "119414       611               3047  \n",
      "478725        68                208  \n",
      "555016       371               2079  \n",
      "...          ...                ...  \n",
      "517197       193                983  \n",
      "517274       193                867  \n",
      "517341       193                996  \n",
      "517529       193               1016  \n",
      "517571       193                791  \n",
      "\n",
      "[4290 rows x 10 columns] 296408    0\n",
      "480642    0\n",
      "119414    0\n",
      "478725    0\n",
      "555016    0\n",
      "         ..\n",
      "517197    1\n",
      "517274    1\n",
      "517341    1\n",
      "517529    1\n",
      "517571    1\n",
      "Name: is_fraud, Length: 4290, dtype: int64\n"
     ]
    }
   ],
   "source": [
    "X = merged_card_data.drop(columns = 'is_fraud', axis = 1)\n",
    "Y = merged_card_data['is_fraud']\n",
    "print(X,Y)"
   ]
  },
  {
   "cell_type": "markdown",
   "id": "bd874d6c",
   "metadata": {},
   "source": [
    "##### Train_test_split"
   ]
  },
  {
   "cell_type": "code",
   "execution_count": 31,
   "id": "a6d9615b",
   "metadata": {},
   "outputs": [],
   "source": [
    "from sklearn.model_selection import train_test_split"
   ]
  },
  {
   "cell_type": "code",
   "execution_count": 32,
   "id": "aed1bcfc",
   "metadata": {},
   "outputs": [],
   "source": [
    "X_train, X_test, Y_train, Y_test = train_test_split(X, Y, test_size = .2, stratify = Y)"
   ]
  },
  {
   "cell_type": "markdown",
   "id": "e7d88d98",
   "metadata": {},
   "source": [
    "##### StandardScaler"
   ]
  },
  {
   "cell_type": "code",
   "execution_count": 33,
   "id": "9729d00f",
   "metadata": {},
   "outputs": [],
   "source": [
    "from sklearn.preprocessing import StandardScaler"
   ]
  },
  {
   "cell_type": "code",
   "execution_count": 34,
   "id": "e3f8ba4f",
   "metadata": {},
   "outputs": [
    {
     "name": "stdout",
     "output_type": "stream",
     "text": [
      "(4290, 10) (3432, 10) (858, 10)\n"
     ]
    }
   ],
   "source": [
    "scaler = StandardScaler()\n",
    "X_train_scaled = scaler.fit_transform(X_train)\n",
    "X_test_scaled = scaler.transform(X_test)\n",
    "print(X.shape, X_train_scaled.shape, X_test_scaled.shape)"
   ]
  },
  {
   "cell_type": "code",
   "execution_count": 35,
   "id": "bcbf83ab",
   "metadata": {},
   "outputs": [
    {
     "name": "stdout",
     "output_type": "stream",
     "text": [
      "[[ 1.4625476  -0.39087606  0.07348602 ... -0.36616339 -1.10941421\n",
      "  -1.25315056]\n",
      " [ 0.28631857 -1.58435111  0.07348602 ...  0.34604155 -0.97075196\n",
      "  -1.12508464]\n",
      " [-0.67565312 -1.37768876  0.07348602 ... -1.49453628  0.89252212\n",
      "   0.6443325 ]\n",
      " ...\n",
      " [-0.35208082  0.02244864 -1.50114878 ... -0.87242955 -0.35543819\n",
      "  -0.12082086]\n",
      " [-0.19466727 -1.25369136 -0.18895312 ...  1.42722014 -1.49506862\n",
      "  -1.56439939]\n",
      " [-0.64941753  1.50008442  0.59836428 ...  1.33712193  1.46883713\n",
      "   1.43947597]]\n"
     ]
    }
   ],
   "source": [
    "print(X_train_scaled)"
   ]
  },
  {
   "cell_type": "markdown",
   "id": "e55a43a2",
   "metadata": {},
   "source": [
    "##### Building Neural Network"
   ]
  },
  {
   "cell_type": "code",
   "execution_count": 45,
   "id": "290f6582",
   "metadata": {},
   "outputs": [],
   "source": [
    "#importing Tensorflow and Keras\n",
    "import tensorflow as tf\n",
    "from tensorflow import keras"
   ]
  },
  {
   "cell_type": "code",
   "execution_count": 46,
   "id": "5572b59f",
   "metadata": {},
   "outputs": [
    {
     "name": "stderr",
     "output_type": "stream",
     "text": [
      "C:\\Users\\Zooby\\anaconda3\\lib\\site-packages\\keras\\src\\layers\\reshaping\\flatten.py:37: UserWarning: Do not pass an `input_shape`/`input_dim` argument to a layer. When using Sequential models, prefer using an `Input(shape)` object as the first layer in the model instead.\n",
      "  super().__init__(**kwargs)\n"
     ]
    }
   ],
   "source": [
    "#setting up layers of neural network\n",
    "model = keras.Sequential([\n",
    "    keras.layers.Flatten(input_shape = (10,)), \n",
    "    keras.layers.Dense(20, activation = 'relu'), \n",
    "    keras.layers.Dense(2, activation = 'sigmoid') \n",
    "])"
   ]
  },
  {
   "cell_type": "code",
   "execution_count": 47,
   "id": "2fc7574f",
   "metadata": {},
   "outputs": [],
   "source": [
    "model.compile(optimizer = 'adam',\n",
    "              loss = 'sparse_categorical_crossentropy',\n",
    "              metrics = ['accuracy']\n",
    "             )"
   ]
  },
  {
   "cell_type": "code",
   "execution_count": 48,
   "id": "49f5e333",
   "metadata": {},
   "outputs": [
    {
     "name": "stdout",
     "output_type": "stream",
     "text": [
      "Epoch 1/20\n",
      "\u001b[1m97/97\u001b[0m \u001b[32m━━━━━━━━━━━━━━━━━━━━\u001b[0m\u001b[37m\u001b[0m \u001b[1m1s\u001b[0m 2ms/step - accuracy: 0.5012 - loss: 0.7686 - val_accuracy: 0.6337 - val_loss: 0.6332\n",
      "Epoch 2/20\n",
      "\u001b[1m97/97\u001b[0m \u001b[32m━━━━━━━━━━━━━━━━━━━━\u001b[0m\u001b[37m\u001b[0m \u001b[1m0s\u001b[0m 734us/step - accuracy: 0.7109 - loss: 0.5844 - val_accuracy: 0.8110 - val_loss: 0.5249\n",
      "Epoch 3/20\n",
      "\u001b[1m97/97\u001b[0m \u001b[32m━━━━━━━━━━━━━━━━━━━━\u001b[0m\u001b[37m\u001b[0m \u001b[1m0s\u001b[0m 732us/step - accuracy: 0.8009 - loss: 0.5005 - val_accuracy: 0.8343 - val_loss: 0.4759\n",
      "Epoch 4/20\n",
      "\u001b[1m97/97\u001b[0m \u001b[32m━━━━━━━━━━━━━━━━━━━━\u001b[0m\u001b[37m\u001b[0m \u001b[1m0s\u001b[0m 734us/step - accuracy: 0.8204 - loss: 0.4612 - val_accuracy: 0.8430 - val_loss: 0.4512\n",
      "Epoch 5/20\n",
      "\u001b[1m97/97\u001b[0m \u001b[32m━━━━━━━━━━━━━━━━━━━━\u001b[0m\u001b[37m\u001b[0m \u001b[1m0s\u001b[0m 721us/step - accuracy: 0.8364 - loss: 0.4449 - val_accuracy: 0.8459 - val_loss: 0.4378\n",
      "Epoch 6/20\n",
      "\u001b[1m97/97\u001b[0m \u001b[32m━━━━━━━━━━━━━━━━━━━━\u001b[0m\u001b[37m\u001b[0m \u001b[1m0s\u001b[0m 727us/step - accuracy: 0.8495 - loss: 0.4327 - val_accuracy: 0.8488 - val_loss: 0.4305\n",
      "Epoch 7/20\n",
      "\u001b[1m97/97\u001b[0m \u001b[32m━━━━━━━━━━━━━━━━━━━━\u001b[0m\u001b[37m\u001b[0m \u001b[1m0s\u001b[0m 769us/step - accuracy: 0.8416 - loss: 0.4143 - val_accuracy: 0.8517 - val_loss: 0.4256\n",
      "Epoch 8/20\n",
      "\u001b[1m97/97\u001b[0m \u001b[32m━━━━━━━━━━━━━━━━━━━━\u001b[0m\u001b[37m\u001b[0m \u001b[1m0s\u001b[0m 726us/step - accuracy: 0.8576 - loss: 0.4079 - val_accuracy: 0.8517 - val_loss: 0.4204\n",
      "Epoch 9/20\n",
      "\u001b[1m97/97\u001b[0m \u001b[32m━━━━━━━━━━━━━━━━━━━━\u001b[0m\u001b[37m\u001b[0m \u001b[1m0s\u001b[0m 726us/step - accuracy: 0.8362 - loss: 0.4264 - val_accuracy: 0.8517 - val_loss: 0.4182\n",
      "Epoch 10/20\n",
      "\u001b[1m97/97\u001b[0m \u001b[32m━━━━━━━━━━━━━━━━━━━━\u001b[0m\u001b[37m\u001b[0m \u001b[1m0s\u001b[0m 727us/step - accuracy: 0.8353 - loss: 0.4247 - val_accuracy: 0.8517 - val_loss: 0.4144\n",
      "Epoch 11/20\n",
      "\u001b[1m97/97\u001b[0m \u001b[32m━━━━━━━━━━━━━━━━━━━━\u001b[0m\u001b[37m\u001b[0m \u001b[1m0s\u001b[0m 724us/step - accuracy: 0.8481 - loss: 0.4131 - val_accuracy: 0.8517 - val_loss: 0.4138\n",
      "Epoch 12/20\n",
      "\u001b[1m97/97\u001b[0m \u001b[32m━━━━━━━━━━━━━━━━━━━━\u001b[0m\u001b[37m\u001b[0m \u001b[1m0s\u001b[0m 737us/step - accuracy: 0.8407 - loss: 0.4111 - val_accuracy: 0.8605 - val_loss: 0.4083\n",
      "Epoch 13/20\n",
      "\u001b[1m97/97\u001b[0m \u001b[32m━━━━━━━━━━━━━━━━━━━━\u001b[0m\u001b[37m\u001b[0m \u001b[1m0s\u001b[0m 734us/step - accuracy: 0.8523 - loss: 0.3943 - val_accuracy: 0.8459 - val_loss: 0.4085\n",
      "Epoch 14/20\n",
      "\u001b[1m97/97\u001b[0m \u001b[32m━━━━━━━━━━━━━━━━━━━━\u001b[0m\u001b[37m\u001b[0m \u001b[1m0s\u001b[0m 743us/step - accuracy: 0.8401 - loss: 0.4123 - val_accuracy: 0.8605 - val_loss: 0.4044\n",
      "Epoch 15/20\n",
      "\u001b[1m97/97\u001b[0m \u001b[32m━━━━━━━━━━━━━━━━━━━━\u001b[0m\u001b[37m\u001b[0m \u001b[1m0s\u001b[0m 733us/step - accuracy: 0.8515 - loss: 0.3882 - val_accuracy: 0.8488 - val_loss: 0.4041\n",
      "Epoch 16/20\n",
      "\u001b[1m97/97\u001b[0m \u001b[32m━━━━━━━━━━━━━━━━━━━━\u001b[0m\u001b[37m\u001b[0m \u001b[1m0s\u001b[0m 749us/step - accuracy: 0.8417 - loss: 0.4097 - val_accuracy: 0.8488 - val_loss: 0.4033\n",
      "Epoch 17/20\n",
      "\u001b[1m97/97\u001b[0m \u001b[32m━━━━━━━━━━━━━━━━━━━━\u001b[0m\u001b[37m\u001b[0m \u001b[1m0s\u001b[0m 738us/step - accuracy: 0.8524 - loss: 0.3961 - val_accuracy: 0.8488 - val_loss: 0.4003\n",
      "Epoch 18/20\n",
      "\u001b[1m97/97\u001b[0m \u001b[32m━━━━━━━━━━━━━━━━━━━━\u001b[0m\u001b[37m\u001b[0m \u001b[1m0s\u001b[0m 806us/step - accuracy: 0.8504 - loss: 0.3910 - val_accuracy: 0.8576 - val_loss: 0.3977\n",
      "Epoch 19/20\n",
      "\u001b[1m97/97\u001b[0m \u001b[32m━━━━━━━━━━━━━━━━━━━━\u001b[0m\u001b[37m\u001b[0m \u001b[1m0s\u001b[0m 758us/step - accuracy: 0.8501 - loss: 0.3880 - val_accuracy: 0.8459 - val_loss: 0.3986\n",
      "Epoch 20/20\n",
      "\u001b[1m97/97\u001b[0m \u001b[32m━━━━━━━━━━━━━━━━━━━━\u001b[0m\u001b[37m\u001b[0m \u001b[1m0s\u001b[0m 779us/step - accuracy: 0.8589 - loss: 0.3855 - val_accuracy: 0.8576 - val_loss: 0.3959\n"
     ]
    }
   ],
   "source": [
    "history = model.fit(X_train_scaled, Y_train, validation_split= .1, epochs = 20) "
   ]
  },
  {
   "cell_type": "code",
   "execution_count": 49,
   "id": "aec541a2",
   "metadata": {},
   "outputs": [
    {
     "data": {
      "text/plain": [
       "<matplotlib.legend.Legend at 0x225d07ca370>"
      ]
     },
     "execution_count": 49,
     "metadata": {},
     "output_type": "execute_result"
    },
    {
     "data": {
      "image/png": "[encoded data removed]",
      "text/plain": [
       "<Figure size 640x480 with 1 Axes>"
      ]
     },
     "metadata": {},
     "output_type": "display_data"
    }
   ],
   "source": [
    "import matplotlib.pyplot as plt\n",
    "#accuracy vs epochs\n",
    "plt.plot(history.history['accuracy'])\n",
    "plt.plot(history.history['val_accuracy'])\n",
    "\n",
    "plt.title('model accuracy')\n",
    "plt.ylabel('accuracy')\n",
    "plt.xlabel('epoch')\n",
    "\n",
    "plt.legend(['training data', 'validation data'], loc = 'lower right')\n"
   ]
  },
  {
   "cell_type": "code",
   "execution_count": 50,
   "id": "e4fbad7a",
   "metadata": {},
   "outputs": [
    {
     "data": {
      "text/plain": [
       "<matplotlib.legend.Legend at 0x225df6e7790>"
      ]
     },
     "execution_count": 50,
     "metadata": {},
     "output_type": "execute_result"
    },
    {
     "data": {
      "image/png": "[encoded data removed]",
      "text/plain": [
       "<Figure size 640x480 with 1 Axes>"
      ]
     },
     "metadata": {},
     "output_type": "display_data"
    }
   ],
   "source": [
    "#loss vs eopchs\n",
    "plt.plot(history.history['loss'])\n",
    "plt.plot(history.history['val_loss'])\n",
    "\n",
    "plt.title('model loss')\n",
    "plt.ylabel('loss')\n",
    "plt.xlabel('epoch')\n",
    "\n",
    "plt.legend(['training data', 'validation data'], loc = 'upper right')\n"
   ]
  },
  {
   "cell_type": "code",
   "execution_count": null,
   "id": "8ee87c8b",
   "metadata": {},
   "outputs": [],
   "source": []
  },
  {
   "cell_type": "code",
   "execution_count": null,
   "id": "2c33337a",
   "metadata": {},
   "outputs": [],
   "source": []
  },
  {
   "cell_type": "code",
   "execution_count": null,
   "id": "c4b8c541",
   "metadata": {},
   "outputs": [],
   "source": []
  },
  {
   "cell_type": "code",
   "execution_count": null,
   "id": "2b2d3a61",
   "metadata": {},
   "outputs": [],
   "source": []
  },
  {
   "cell_type": "markdown",
   "id": "b70cb30f",
   "metadata": {},
   "source": [
    "##### Building ML models to test for better accuracy"
   ]
  },
  {
   "cell_type": "code",
   "execution_count": 40,
   "id": "50c22a87",
   "metadata": {},
   "outputs": [
    {
     "name": "stderr",
     "output_type": "stream",
     "text": [
      "C:\\Users\\Zooby\\anaconda3\\lib\\site-packages\\sklearn\\model_selection\\_search.py:292: UserWarning: The total space of parameters 52 is smaller than n_iter=100. Running 52 iterations. For exhaustive searches, use GridSearchCV.\n",
      "  warnings.warn(\n",
      "C:\\Users\\Zooby\\anaconda3\\lib\\site-packages\\xgboost\\core.py:160: UserWarning: [11:49:50] WARNING: C:\\buildkite-agent\\builds\\buildkite-windows-cpu-autoscaling-group-i-0b3782d1791676daf-1\\xgboost\\xgboost-ci-windows\\src\\learner.cc:742: \n",
      "Parameters: { \"probability\" } are not used.\n",
      "\n",
      "  warnings.warn(smsg, UserWarning)\n",
      "C:\\Users\\Zooby\\anaconda3\\lib\\site-packages\\sklearn\\model_selection\\_search.py:292: UserWarning: The total space of parameters 80 is smaller than n_iter=100. Running 80 iterations. For exhaustive searches, use GridSearchCV.\n",
      "  warnings.warn(\n"
     ]
    },
    {
     "name": "stdout",
     "output_type": "stream",
     "text": [
      "Logistic Regression Best Parameters: {'solver': 'saga', 'penalty': 'l1', 'C': 0.01}\n",
      "XGBoost Best Parameters: {'subsample': 0.8, 'n_estimators': 200, 'min_child_weight': 1, 'max_depth': 5, 'learning_rate': 0.1, 'colsample_bytree': 0.8}\n",
      "SVM Best Parameters: {'kernel': 'rbf', 'gamma': 0.01, 'C': 100}\n"
     ]
    },
    {
     "name": "stderr",
     "output_type": "stream",
     "text": [
      "C:\\Users\\Zooby\\anaconda3\\lib\\site-packages\\xgboost\\core.py:160: UserWarning: [13:09:21] WARNING: C:\\buildkite-agent\\builds\\buildkite-windows-cpu-autoscaling-group-i-0b3782d1791676daf-1\\xgboost\\xgboost-ci-windows\\src\\learner.cc:742: \n",
      "Parameters: { \"probability\" } are not used.\n",
      "\n",
      "  warnings.warn(smsg, UserWarning)\n"
     ]
    },
    {
     "name": "stdout",
     "output_type": "stream",
     "text": [
      "Logistic Regression Best Parameters (GridSearchCV): {'C': 0.01, 'penalty': 'l1', 'solver': 'saga'}\n",
      "XGBoost Best Parameters (GridSearchCV): {'colsample_bytree': 0.5, 'learning_rate': 0.2, 'max_depth': 7, 'min_child_weight': 1, 'n_estimators': 50, 'subsample': 1.0}\n",
      "SVM Best Parameters (GridSearchCV): {'C': 100, 'gamma': 0.01, 'kernel': 'rbf'}\n",
      "Best Model Train Accuracy: 0.9976689976689976\n",
      "Best Model Test Accuracy: 0.9662004662004662\n"
     ]
    }
   ],
   "source": [
    "from sklearn.linear_model import LogisticRegression\n",
    "from xgboost import XGBClassifier\n",
    "from sklearn.metrics import accuracy_score, precision_score, recall_score, f1_score, roc_auc_score, confusion_matrix \n",
    "from sklearn import svm\n",
    "from sklearn.model_selection import GridSearchCV, RandomizedSearchCV\n",
    "\n",
    "logistic_param_grid = {\n",
    "    'penalty': ['l1', 'l2'],\n",
    "    'C': np.logspace(-6, 6, 13),\n",
    "    'solver': ['liblinear', 'saga']\n",
    "}\n",
    "\n",
    "xgboost_param_grid = {\n",
    "    'learning_rate': [0.01, 0.1, 0.2],\n",
    "    'n_estimators': [50, 100, 200],\n",
    "    'max_depth': [3, 5, 7],\n",
    "    'min_child_weight': [1, 3, 5],\n",
    "    'subsample': [0.5, 0.8, 1.0],\n",
    "    'colsample_bytree': [0.5, 0.8, 1.0]\n",
    "}\n",
    "\n",
    "svm_param_grid = {\n",
    "    'C': [0.1, 1, 10, 100],\n",
    "    'gamma': [0.01, 0.1, 1, 'scale', 'auto'],\n",
    "    'kernel': ['linear', 'rbf', 'poly', 'sigmoid']\n",
    "}\n",
    "\n",
    "# RandomizedSearchCV for each model\n",
    "logistic_random_search = RandomizedSearchCV(LogisticRegression(), logistic_param_grid, n_iter=100, cv=5, n_jobs=-1)\n",
    "xgboost_random_search = RandomizedSearchCV(XGBClassifier(probability=False), xgboost_param_grid, n_iter=100, cv=5, n_jobs=-1)\n",
    "svm_random_search = RandomizedSearchCV(svm.SVC(), svm_param_grid, n_iter=100, cv=5, n_jobs=-1)\n",
    "\n",
    "# Fit models using RandomizedSearchCV\n",
    "logistic_random_search.fit(X_train_scaled, Y_train)\n",
    "xgboost_random_search.fit(X_train_scaled, Y_train)\n",
    "svm_random_search.fit(X_train_scaled, Y_train)\n",
    "\n",
    "# Print best hyperparameters from RandomizedSearchCV\n",
    "print(\"Logistic Regression Best Parameters:\", logistic_random_search.best_params_)\n",
    "print(\"XGBoost Best Parameters:\", xgboost_random_search.best_params_)\n",
    "print(\"SVM Best Parameters:\", svm_random_search.best_params_)\n",
    "\n",
    "# GridSearchCV for each model using the full hyperparameter grid\n",
    "logistic_grid_search = GridSearchCV(LogisticRegression(), param_grid=logistic_param_grid, cv=5, n_jobs=-1)\n",
    "xgboost_grid_search = GridSearchCV(XGBClassifier(probability=False), param_grid=xgboost_param_grid, cv=5, n_jobs=-1)\n",
    "svm_grid_search = GridSearchCV(svm.SVC(), param_grid=svm_param_grid, cv=5, n_jobs=-1)\n",
    "\n",
    "\n",
    "\n",
    "# Fit models using GridSearchCV\n",
    "logistic_grid_search.fit(X_train_scaled, Y_train)\n",
    "xgboost_grid_search.fit(X_train_scaled, Y_train)\n",
    "svm_grid_search.fit(X_train_scaled, Y_train)\n",
    "\n",
    "# Print best hyperparameters from GridSearchCV\n",
    "print(\"Logistic Regression Best Parameters (GridSearchCV):\", logistic_grid_search.best_params_)\n",
    "print(\"XGBoost Best Parameters (GridSearchCV):\", xgboost_grid_search.best_params_)\n",
    "print(\"SVM Best Parameters (GridSearchCV):\", svm_grid_search.best_params_)\n",
    "\n",
    "# Compare cross-validated scores of each model\n",
    "logistic_cv_score = logistic_grid_search.best_score_\n",
    "xgboost_cv_score = xgboost_grid_search.best_score_\n",
    "svm_cv_score = svm_grid_search.best_score_\n",
    "\n",
    "# Select the best model based on cross-validated scores\n",
    "best_model = None\n",
    "if logistic_cv_score >= xgboost_cv_score and logistic_cv_score >= svm_cv_score:\n",
    "    best_model = logistic_grid_search.best_estimator_\n",
    "elif xgboost_cv_score >= logistic_cv_score and xgboost_cv_score >= svm_cv_score:\n",
    "    best_model = xgboost_grid_search.best_estimator_\n",
    "else:\n",
    "    best_model = svm_grid_search.best_estimator_\n",
    "\n",
    "# Evaluate the best model on the test set\n",
    "train_accuracy = best_model.score(X_train_scaled, Y_train)\n",
    "print(\"Best Model Train Accuracy:\", train_accuracy)\n",
    "test_accuracy = best_model.score(X_test_scaled, Y_test)\n",
    "print(\"Best Model Test Accuracy:\", test_accuracy)"
   ]
  },
  {
   "cell_type": "code",
   "execution_count": 61,
   "id": "3e273f36",
   "metadata": {},
   "outputs": [
    {
     "name": "stdout",
     "output_type": "stream",
     "text": [
      "Accuracy: 0.9662004662004662\n",
      "Precision: 0.9651162790697675\n",
      "Recall: 0.9673659673659674\n",
      "F1 Score: 0.9662398137369035\n",
      "ROC AUC Score: 0.9922517265174607\n",
      "Confusion Matrix:\n",
      "[[414  15]\n",
      " [ 14 415]]\n"
     ]
    }
   ],
   "source": [
    "y_pred = best_model.predict(X_test_scaled)\n",
    "\n",
    "# Calculate evaluation metrics\n",
    "accuracy = accuracy_score(Y_test, y_pred)\n",
    "precision = precision_score(Y_test, y_pred)\n",
    "recall = recall_score(Y_test, y_pred)\n",
    "f1 = f1_score(Y_test, y_pred)\n",
    "roc_auc = roc_auc_score(Y_test, best_model.predict_proba(X_test_scaled)[:, 1])\n",
    "conf_matrix = confusion_matrix(Y_test, y_pred)\n",
    "\n",
    "# Print the results\n",
    "print(\"Accuracy:\", accuracy)\n",
    "print(\"Precision:\", precision)\n",
    "print(\"Recall:\", recall)\n",
    "print(\"F1 Score:\", f1)\n",
    "print(\"ROC AUC Score:\", roc_auc)\n",
    "print(\"Confusion Matrix:\")\n",
    "print(conf_matrix)"
   ]
  },
  {
   "cell_type": "code",
   "execution_count": null,
   "id": "eee911d6",
   "metadata": {},
   "outputs": [],
   "source": []
  },
  {
   "cell_type": "markdown",
   "id": "665d0498",
   "metadata": {},
   "source": [
    "# Final Notes:"
   ]
  },
  {
   "cell_type": "markdown",
   "id": "eed2ba2c",
   "metadata": {},
   "source": [
    "Neural Network model accuracy on validation set: 86%\n",
    "\n",
    "ML best model using GridSearchCV accuracy on test set: 96%\n",
    "    \n",
    "Although GridsearchCV gave us the best model accuracy of 96% by using the best hyperparameters to use via RandomizedSearchCV, training data accuracy is 99%. This indicates that the model might be overfitting the training data slightly\n",
    "Also, important note: run time for ML model is extremely long since it's performing an exhaustive search using GridSearchCV\n",
    "    \n",
    "Any input on how to improve specifically the Neural Network model would be greatly appreciated. Thank you!"
   ]
  },
  {
   "cell_type": "code",
   "execution_count": null,
   "id": "d68d8908",
   "metadata": {},
   "outputs": [],
   "source": []
  }
 ],
 "metadata": {
  "kernelspec": {
   "display_name": "Python 3 (ipykernel)",
   "language": "python",
   "name": "python3"
  },
  "language_info": {
   "codemirror_mode": {
    "name": "ipython",
    "version": 3
   },
   "file_extension": ".py",
   "mimetype": "text/x-python",
   "name": "python",
   "nbconvert_exporter": "python",
   "pygments_lexer": "ipython3",
   "version": "3.9.13"
  }
 },
 "nbformat": 4,
 "nbformat_minor": 5
}
